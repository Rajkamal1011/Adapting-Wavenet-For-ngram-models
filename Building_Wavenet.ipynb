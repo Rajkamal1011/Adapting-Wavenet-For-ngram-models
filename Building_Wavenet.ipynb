{
 "cells": [
  {
   "cell_type": "markdown",
   "id": "0e355087-7555-4483-abf6-7ed864242fa5",
   "metadata": {},
   "source": [
    "# Motivation\n",
    "\n",
    "In the MLP implementation of n-gram model, as n increases - out input layer size increases and then, we are squashing too much information from the input layer to the hidden layer, hence, we want to solve this problem - by making a deeper model which progressively fuses information to make its guess about the next character in the sequence.\n",
    "\n",
    "We are going to arrive at something very similar to what [WaveNet](https://arxiv.org/pdf/1609.03499) paper has done."
   ]
  },
  {
   "cell_type": "code",
   "execution_count": 1,
   "id": "412484e8-8fd0-406b-8e35-dd5ef044a937",
   "metadata": {},
   "outputs": [],
   "source": [
    "import torch\n",
    "import torch.nn.functional as F\n",
    "import matplotlib.pyplot as plt #for making figures\n",
    "%matplotlib inline"
   ]
  },
  {
   "cell_type": "code",
   "execution_count": 23,
   "id": "a5444eb6-3b4b-4235-9fe7-1adb1d28da2e",
   "metadata": {},
   "outputs": [
    {
     "name": "stdout",
     "output_type": "stream",
     "text": [
      "32033\n",
      "15\n",
      "['emma', 'olivia', 'ava', 'isabella', 'sophia', 'charlotte', 'mia', 'amelia']\n"
     ]
    }
   ],
   "source": [
    "#read all words \n",
    "words = open('names.txt','r').read().split('\\n')\n",
    "print(len(words))\n",
    "print(max(len(w) for w in words))\n",
    "print(words[:8])"
   ]
  },
  {
   "cell_type": "code",
   "execution_count": 17,
   "id": "07358814-7dff-49bb-95bb-e4127163f331",
   "metadata": {
    "scrolled": true
   },
   "outputs": [
    {
     "data": {
      "text/plain": [
       "{'a': 1,\n",
       " 'b': 2,\n",
       " 'c': 3,\n",
       " 'd': 4,\n",
       " 'e': 5,\n",
       " 'f': 6,\n",
       " 'g': 7,\n",
       " 'h': 8,\n",
       " 'i': 9,\n",
       " 'j': 10,\n",
       " 'k': 11,\n",
       " 'l': 12,\n",
       " 'm': 13,\n",
       " 'n': 14,\n",
       " 'o': 15,\n",
       " 'p': 16,\n",
       " 'q': 17,\n",
       " 'r': 18,\n",
       " 's': 19,\n",
       " 't': 20,\n",
       " 'u': 21,\n",
       " 'v': 22,\n",
       " 'w': 23,\n",
       " 'x': 24,\n",
       " 'y': 25,\n",
       " 'z': 26,\n",
       " '.': 0}"
      ]
     },
     "execution_count": 17,
     "metadata": {},
     "output_type": "execute_result"
    }
   ],
   "source": [
    "#build the vocabulary of characters and mappings to/from integers\n",
    "chars = sorted(list(set(''.join(words))))\n",
    "ctoi = {ch:i+1 for i,ch in enumerate(chars)}\n",
    "ctoi['.'] = 0\n",
    "ctoi"
   ]
  },
  {
   "cell_type": "code",
   "execution_count": 20,
   "id": "8464e9c3-9c0e-483d-8edd-78f6a7f858af",
   "metadata": {},
   "outputs": [
    {
     "name": "stdout",
     "output_type": "stream",
     "text": [
      "{1: 'a', 2: 'b', 3: 'c', 4: 'd', 5: 'e', 6: 'f', 7: 'g', 8: 'h', 9: 'i', 10: 'j', 11: 'k', 12: 'l', 13: 'm', 14: 'n', 15: 'o', 16: 'p', 17: 'q', 18: 'r', 19: 's', 20: 't', 21: 'u', 22: 'v', 23: 'w', 24: 'x', 25: 'y', 26: 'z', 0: '.'}\n",
      "{'a': 1, 'b': 2, 'c': 3, 'd': 4, 'e': 5, 'f': 6, 'g': 7, 'h': 8, 'i': 9, 'j': 10, 'k': 11, 'l': 12, 'm': 13, 'n': 14, 'o': 15, 'p': 16, 'q': 17, 'r': 18, 's': 19, 't': 20, 'u': 21, 'v': 22, 'w': 23, 'x': 24, 'y': 25, 'z': 26, '.': 0}\n",
      "27\n"
     ]
    }
   ],
   "source": [
    "itoc = {i:ch for ch,i in ctoi.items()}\n",
    "vocab_size = len(itoc)\n",
    "print(itoc)\n",
    "print(ctoi)\n",
    "print(vocab_size)"
   ]
  },
  {
   "cell_type": "code",
   "execution_count": 21,
   "id": "8940c48a-d4cd-4cb7-aa35-9fa5071ee876",
   "metadata": {},
   "outputs": [],
   "source": [
    "#Shuffle up the words\n",
    "import random\n",
    "random.seed(42)\n",
    "random.shuffle(words)"
   ]
  },
  {
   "cell_type": "code",
   "execution_count": 38,
   "id": "00fca5ef-9f2a-4c54-90c6-e4d9e3e1e656",
   "metadata": {},
   "outputs": [
    {
     "name": "stdout",
     "output_type": "stream",
     "text": [
      "['emm', 'mma', 'oli', 'liv', 'ivi']\n",
      "['a', '.', 'v', 'i', 'a']\n",
      "[[5, 13, 13], [13, 13, 1], [15, 12, 9], [12, 9, 22], [9, 22, 9]]\n",
      "[1, 0, 22, 9, 1]\n",
      "132047 132047\n",
      "tensor([[ 5, 13, 13],\n",
      "        [13, 13,  1],\n",
      "        [15, 12,  9],\n",
      "        ...,\n",
      "        [26, 26, 25],\n",
      "        [26, 25, 26],\n",
      "        [25, 26, 24]])\n",
      "tensor([ 1,  0, 22,  ..., 26, 24,  0])\n",
      "torch.Size([132047, 3])\n",
      "torch.Size([132047])\n"
     ]
    }
   ],
   "source": [
    "#DATASET BUILDING\n",
    "block_size = 3 #context length: how many characters do we take to predict the next one\n",
    "\n",
    "def build_dataset(words):\n",
    "    X = []\n",
    "    Y = []\n",
    "    X_ctoi = []\n",
    "    Y_ctoi = []\n",
    "    for word in words:\n",
    "        word += '.'\n",
    "        for i in range(len(word)-block_size):\n",
    "            x = word[i:i+block_size]\n",
    "            y = word[i+block_size]\n",
    "            x_ctoi = [ctoi[ch] for ch in x]\n",
    "            y_ctoi = ctoi[y]\n",
    "            X.append(x)\n",
    "            Y.append(y)\n",
    "            X_ctoi.append(x_ctoi)\n",
    "            Y_ctoi.append(y_ctoi)\n",
    "            \n",
    "    return X, Y, X_ctoi, Y_ctoi\n",
    "\n",
    "X, y, X_ctoi, y_ctoi = build_dataset(words)\n",
    "\n",
    "print(X[0:5])\n",
    "print(y[0:5])\n",
    "print(X_ctoi[0:5])\n",
    "print(y_ctoi[0:5])\n",
    "print(len(X), len(y))\n",
    "\n",
    "X_final = torch.tensor(X_ctoi)\n",
    "y_final = torch.tensor(y_ctoi)\n",
    "\n",
    "print(X_final)\n",
    "print(y_final)\n",
    "\n",
    "print(X_final.shape)\n",
    "print(y_final.shape)"
   ]
  },
  {
   "cell_type": "code",
   "execution_count": 35,
   "id": "217238c3-3151-4aee-84c0-0669aca3786e",
   "metadata": {},
   "outputs": [
    {
     "name": "stdout",
     "output_type": "stream",
     "text": [
      "torch.Size([80322, 3]) torch.Size([80322])\n",
      "torch.Size([9829, 3]) torch.Size([9829])\n",
      "torch.Size([9928, 3]) torch.Size([9928])\n"
     ]
    }
   ],
   "source": [
    "def build_dataset2(words):\n",
    "    X = []\n",
    "    Y = []\n",
    "    X_ctoi = []\n",
    "    Y_ctoi = []\n",
    "    for word in words:\n",
    "        for i in range(len(word)-block_size):\n",
    "            x = word[i:i+block_size]\n",
    "            y = word[i+block_size]\n",
    "            x_ctoi = [ctoi[ch] for ch in x]\n",
    "            y_ctoi = ctoi[y]\n",
    "            X.append(x)\n",
    "            Y.append(y)\n",
    "            X_ctoi.append(x_ctoi)\n",
    "            Y_ctoi.append(y_ctoi)\n",
    "    X_final = torch.tensor(X_ctoi)\n",
    "    Y_final = torch.tensor(Y_ctoi)\n",
    "    print(X_final.shape, Y_final.shape)\n",
    "    return X_final, Y_final\n",
    "\n",
    "n1 = int(0.8 * (len(words)))\n",
    "n2 = int(0.9 * (len(words)))\n",
    "Xtr, Ytr = build_dataset2(words[:n1])\n",
    "Xdev, Ydev = build_dataset2(words[n1:n2])\n",
    "Xte, Yte = build_dataset2(words[n2:])"
   ]
  },
  {
   "cell_type": "code",
   "execution_count": 40,
   "id": "a05a72bb-0d1c-41a9-a3e5-22bc6c313960",
   "metadata": {},
   "outputs": [
    {
     "name": "stdout",
     "output_type": "stream",
     "text": [
      "torch.Size([105900, 3]) torch.Size([105900])\n",
      "torch.Size([13024, 3]) torch.Size([13024])\n",
      "torch.Size([13123, 3]) torch.Size([13123])\n"
     ]
    }
   ],
   "source": [
    "def build_dataset2(words):\n",
    "    X = []\n",
    "    Y = []\n",
    "    X_ctoi = []\n",
    "    Y_ctoi = []\n",
    "    for word in words:\n",
    "        word += '.'\n",
    "        for i in range(len(word)-block_size):\n",
    "            x = word[i:i+block_size]\n",
    "            y = word[i+block_size]\n",
    "            x_ctoi = [ctoi[ch] for ch in x]\n",
    "            y_ctoi = ctoi[y]\n",
    "            X.append(x)\n",
    "            Y.append(y)\n",
    "            X_ctoi.append(x_ctoi)\n",
    "            Y_ctoi.append(y_ctoi)\n",
    "    X_final = torch.tensor(X_ctoi)\n",
    "    Y_final = torch.tensor(Y_ctoi)\n",
    "    print(X_final.shape, Y_final.shape)\n",
    "    return X_final, Y_final\n",
    "\n",
    "n1 = int(0.8 * (len(words)))\n",
    "n2 = int(0.9 * (len(words)))\n",
    "Xtr, Ytr = build_dataset2(words[:n1])\n",
    "Xdev, Ydev = build_dataset2(words[n1:n2])\n",
    "Xte, Yte = build_dataset2(words[n2:])"
   ]
  },
  {
   "cell_type": "code",
   "execution_count": 41,
   "id": "7cd938c2-2d53-4f5b-bb57-fea7cca3bb19",
   "metadata": {},
   "outputs": [
    {
     "name": "stdout",
     "output_type": "stream",
     "text": [
      "torch.Size([182778, 3]) torch.Size([182778])\n",
      "torch.Size([22633, 3]) torch.Size([22633])\n",
      "torch.Size([22735, 3]) torch.Size([22735])\n"
     ]
    }
   ],
   "source": [
    "def build_dataset2(words):\n",
    "    X = []\n",
    "    Y = []\n",
    "    X_ctoi = []\n",
    "    Y_ctoi = []\n",
    "    for word in words:\n",
    "        word += '.'\n",
    "        mod_word = '...'\n",
    "        word = mod_word + word\n",
    "        for i in range(len(word)-block_size):\n",
    "            x = word[i:i+block_size]\n",
    "            y = word[i+block_size]\n",
    "            x_ctoi = [ctoi[ch] for ch in x]\n",
    "            y_ctoi = ctoi[y]\n",
    "            X.append(x)\n",
    "            Y.append(y)\n",
    "            X_ctoi.append(x_ctoi)\n",
    "            Y_ctoi.append(y_ctoi)\n",
    "    X_final = torch.tensor(X_ctoi)\n",
    "    Y_final = torch.tensor(Y_ctoi)\n",
    "    print(X_final.shape, Y_final.shape)\n",
    "    return X_final, Y_final\n",
    "\n",
    "n1 = int(0.8 * (len(words)))\n",
    "n2 = int(0.9 * (len(words)))\n",
    "Xtr, Ytr = build_dataset2(words[:n1])\n",
    "Xdev, Ydev = build_dataset2(words[n1:n2])\n",
    "Xte, Yte = build_dataset2(words[n2:])"
   ]
  },
  {
   "cell_type": "code",
   "execution_count": 46,
   "id": "5559c0c1-5fc4-4c57-b15f-a269ff1678f4",
   "metadata": {},
   "outputs": [],
   "source": [
    "#Near copy paste of the layers we have developed in Part 3\n",
    "\n",
    "#--------------------------------------------------------------------------\n",
    "class Linear:\n",
    "\n",
    "    def __init__(self, fan_in, fan_out, bias=True):\n",
    "        self.weight = torch.randn((fan_in, fan_out)) / fan_in**0.5 #note: kaiming init\n",
    "        self.bias = torch.zeros(fan_out) if bias else None\n",
    "\n",
    "    def __call__(self, x):\n",
    "        self.out = x @ self.weight\n",
    "        if self.bias is not None:\n",
    "            self.out += self.bias\n",
    "        return self.out\n",
    "\n",
    "    def parameters(self):\n",
    "        return [self.weight] + ([] if self.bias is None else [self.bias])\n",
    "\n",
    "#-------------------------------------------------------------------------\n",
    "\n",
    "class BatchNorm1d:\n",
    "    \n",
    "    def __init__(self, dim, eps=1e-5, momentum=0.1):\n",
    "        self.eps = eps\n",
    "        self.momentum = momentum\n",
    "        self.training = True\n",
    "        #parameters (trained with backprop)\n",
    "        self.gamma = torch.ones(dim) #Scaling factor\n",
    "        self.beta = torch.zeros(dim) #Bias factor\n",
    "        #buffers (trained with a running 'momentum update')\n",
    "        self.running_mean = torch.zeros(dim)\n",
    "        self.running_var = torch.ones(dim)\n",
    "\n",
    "    def __call__(self, x):\n",
    "        #if calculate the forward pass\n",
    "        if self.training:\n",
    "            xmean = x.mean(0, keepdim=True)\n",
    "            xvar = x.var(0, keepdim=True)\n",
    "        else:\n",
    "            xmean = self.running_mean\n",
    "            xvar = self.running_var\n",
    "\n",
    "        xhat = (x - xmean)/torch.sqrt(xvar + self.eps) # normalize to unit variance\n",
    "        self.out = self.gamma * xhat + self.beta\n",
    "\n",
    "        #update the buffers\n",
    "        if self.training:\n",
    "            with torch.no_grad():\n",
    "                self.running_mean = (1 - self.momentum) * self.running_mean + self.momentum * xmean\n",
    "                self.running_var = (1 - self.momentum) * self.running_var + self.momentum * xvar\n",
    "\n",
    "        return self.out\n",
    "\n",
    "    def parameters(self):\n",
    "        return [self.gamma, self.beta]\n",
    "    \n",
    "    def eval():\n",
    "        self.training = False\n",
    "\n",
    "'''\n",
    "In the previous lecture, we developed this crazy layer,\n",
    "and what's particularly interesting about it is a few things.\n",
    "\n",
    "First, it has running mean and variance values that are trained\n",
    "outside of backpropagation, using exponential moving averages\n",
    "during the forward pass.\n",
    "\n",
    "Additionally, there's a training flag because the behavior\n",
    "of batch normalization changes between training and evaluation,\n",
    "so we need to ensure it's in the correct state—\n",
    "either training or evaluation.\n",
    "\n",
    "This often introduces bugs if you forget to set it properly.\n",
    "We also saw that batch normalization couples the activations\n",
    "across examples in the batch, which is unusual because\n",
    "we typically think of the batch as just an efficiency mechanism.\n",
    "\n",
    "But now, the computation is linked across batch elements\n",
    "to control the normalization statistics.\n",
    "\n",
    "This layer is quite weird and prone to bugs, partly because\n",
    "of the need to handle the training and evaluation phases,\n",
    "and also because you have to wait for the mean and variance\n",
    "to stabilize.\n",
    "\n",
    "Essentially, there's state in this layer, and state is usually harmful.\n",
    "'''\n",
    "\n",
    "#---------------------------------------------------------------------\n",
    "class Tanh:\n",
    "    def __call__(self, x):\n",
    "        self.out = torch.tanh(x)\n",
    "        return self.out\n",
    "\n",
    "    def parameters(self):\n",
    "        return []\n",
    "\n",
    "#---------------------------------------------------------------------"
   ]
  },
  {
   "cell_type": "code",
   "execution_count": 44,
   "id": "2aa8bb58-f90f-4b2a-bdbe-f8a30aaf54e5",
   "metadata": {},
   "outputs": [],
   "source": [
    "torch.manual_seed(42); #seed rng for reproducibility"
   ]
  },
  {
   "cell_type": "code",
   "execution_count": 47,
   "id": "dd5061b0-bae5-473f-b492-c8cacabd7d29",
   "metadata": {},
   "outputs": [
    {
     "name": "stdout",
     "output_type": "stream",
     "text": [
      "12097\n"
     ]
    }
   ],
   "source": [
    "n_embd = 10 #the dimensionality of the character embedding vectors\n",
    "n_hidden = 200 #the number of neurons in the hidden layer of the MLP\n",
    "\n",
    "C = torch.randn((vocab_size, n_embd))\n",
    "\n",
    "layers = [\n",
    "    Linear(n_embd * block_size, n_hidden, bias=False), BatchNorm1d(n_hidden), Tanh(),\n",
    "    Linear(n_hidden, vocab_size), \n",
    "]\n",
    "\n",
    "#parameter init\n",
    "with torch.no_grad():\n",
    "    layers[-1].weight *= 0.1 #last layer make less confident\n",
    "\n",
    "parameters = [C] + [p for layer in layers for p in layer.parameters()]\n",
    "print(sum(p.nelement() for p in parameters)) #number of parameters in total\n",
    "\n",
    "for p in parameters:\n",
    "    p.requires_grad = True"
   ]
  },
  {
   "cell_type": "code",
   "execution_count": 48,
   "id": "5c941d10-aeeb-48ee-9d34-80dfe7845184",
   "metadata": {},
   "outputs": [],
   "source": [
    "epochs = 10\n",
    "batch_size = 32"
   ]
  },
  {
   "cell_type": "code",
   "execution_count": 51,
   "id": "f1051a64-eda8-4a71-a980-f6f1264b229f",
   "metadata": {},
   "outputs": [
    {
     "data": {
      "text/plain": [
       "tensor([  5149, 121964, 174301, 154588, 168034, 146410, 102788, 120467,   7420,\n",
       "         22697,  14203,   8175,  92358, 143009,  11684,  59881,  25464, 145732,\n",
       "         69788,     30, 132377, 164919, 172956,  36607, 131016, 105862,  73349,\n",
       "         49862,  34192,  21362,  18946, 120716])"
      ]
     },
     "execution_count": 51,
     "metadata": {},
     "output_type": "execute_result"
    }
   ],
   "source": [
    "ix = torch.randint(0, len(Xtr), (batch_size,))\n",
    "ix"
   ]
  },
  {
   "cell_type": "code",
   "execution_count": 68,
   "id": "59fc69d5-a80f-4f57-80dc-657d902d9087",
   "metadata": {},
   "outputs": [
    {
     "name": "stdout",
     "output_type": "stream",
     "text": [
      "      0/ 200000: 2.0055\n",
      "  10000/ 200000: 2.3014\n",
      "  20000/ 200000: 2.3613\n",
      "  30000/ 200000: 2.2689\n",
      "  40000/ 200000: 1.9782\n",
      "  50000/ 200000: 2.1387\n",
      "  60000/ 200000: 1.8741\n",
      "  70000/ 200000: 2.4214\n",
      "  80000/ 200000: 1.9898\n",
      "  90000/ 200000: 1.5678\n",
      " 100000/ 200000: 1.8242\n",
      " 110000/ 200000: 2.2046\n",
      " 120000/ 200000: 2.0124\n",
      " 130000/ 200000: 2.1698\n",
      " 140000/ 200000: 2.4924\n",
      " 150000/ 200000: 1.9992\n",
      " 160000/ 200000: 1.8935\n",
      " 170000/ 200000: 2.1948\n",
      " 180000/ 200000: 1.9832\n",
      " 190000/ 200000: 1.8950\n"
     ]
    }
   ],
   "source": [
    "epochs = 200000\n",
    "batch_size = 32\n",
    "lossi = []\n",
    "\n",
    "for i in range(epochs):\n",
    "    #minibatch construct\n",
    "    ix = torch.randint(0, Xtr.shape[0], (batch_size, ))\n",
    "    Xb = Xtr[ix]\n",
    "    yb = Ytr[ix]\n",
    "\n",
    "    #forward pass\n",
    "    emb = C[Xb] #(32, 3, 10)\n",
    "    x = emb.view(emb.shape[0], -1) #concatenate the embedding vectors for each character in a sample\n",
    "    # (32, 30)\n",
    "    for layer in layers:\n",
    "        x = layer(x)\n",
    "    loss = F.cross_entropy(x, yb) #loss function\n",
    "\n",
    "    #backward pass\n",
    "    for p in parameters:\n",
    "        p.grad = None\n",
    "    loss.backward()\n",
    "\n",
    "    #update: simple SGD\n",
    "    lr = 0.1 if i < 150000 else 0.01 #step learning rate decay\n",
    "    for p in parameters:\n",
    "            p.data += -lr * p.grad\n",
    "\n",
    "    #track stats\n",
    "    if i%10000 == 0: #print every once in a while\n",
    "        print(f'{i:7d}/{epochs:7d}: {loss.item():.4f}')\n",
    "    lossi.append(loss.log10().item())"
   ]
  },
  {
   "cell_type": "code",
   "execution_count": 69,
   "id": "0791209d-f70f-405d-b681-19df188fc06d",
   "metadata": {},
   "outputs": [
    {
     "data": {
      "text/plain": [
       "[<matplotlib.lines.Line2D at 0x76780a99c100>]"
      ]
     },
     "execution_count": 69,
     "metadata": {},
     "output_type": "execute_result"
    },
    {
     "data": {
      "image/png": "[encoded data removed]",
      "text/plain": [
       "<Figure size 640x480 with 1 Axes>"
      ]
     },
     "metadata": {},
     "output_type": "display_data"
    }
   ],
   "source": [
    "plt.plot(lossi)"
   ]
  },
  {
   "cell_type": "code",
   "execution_count": 70,
   "id": "ed2fae80-2487-439e-86cf-0571646e58fd",
   "metadata": {},
   "outputs": [],
   "source": [
    "#put layers into eval mode (needed for batchnorm especially)\n",
    "for layer in layers:\n",
    "    layer.training = False\n"
   ]
  },
  {
   "cell_type": "code",
   "execution_count": 86,
   "id": "89ac6523-7095-425f-9446-137635d72c62",
   "metadata": {},
   "outputs": [
    {
     "name": "stdout",
     "output_type": "stream",
     "text": [
      "train 1.994327425956726\n",
      "val 2.306034564971924\n"
     ]
    }
   ],
   "source": [
    "#evaluate the loss\n",
    "@torch.no_grad()\n",
    "def split_loss(split):\n",
    "    x, y = {\n",
    "        'train': (Xtr, Ytr),\n",
    "        'val': (Xdev, Ydev),\n",
    "        'test': (Xte, Yte),\n",
    "    }[split]\n",
    "    emb = C[x] #(N, block_size, n_embd)\n",
    "    x = emb.view(emb.shape[0], -1) #concat into (N, block_size * n_embd)\n",
    "    for layer in layers:\n",
    "        x = layer(x)\n",
    "    loss = F.cross_entropy(x, y)\n",
    "    print(split, loss.item())\n",
    "\n",
    "split_loss('train')\n",
    "split_loss('val')\n",
    "    "
   ]
  },
  {
   "cell_type": "code",
   "execution_count": 80,
   "id": "a1061869-cbf8-4f13-bdef-afe54f9b6f79",
   "metadata": {},
   "outputs": [
    {
     "name": "stdout",
     "output_type": "stream",
     "text": [
      "neriden.\n",
      "kava.\n",
      "milee.\n",
      "mehro.\n",
      "lore.\n",
      "tylee.\n",
      "lia.\n",
      "zuri.\n",
      "mari.\n",
      "truisaelah.\n",
      "ziya.\n",
      "malayna.\n",
      "deyon.\n",
      "karaidenri.\n",
      "zuru.\n",
      "laurtn.\n",
      "semandreslin.\n",
      "mber.\n",
      "meleeyair.\n",
      "farman.\n"
     ]
    }
   ],
   "source": [
    "#sample from model\n",
    "\n",
    "for _ in range(20):#want to generate 20 samples\n",
    "\n",
    "    out = []\n",
    "    context = [0] * block_size #initialize with all ...\n",
    "    while True:\n",
    "        #forward pass the neural net\n",
    "        emb = C[torch.tensor(context).view(1, block_size, -1)] #(1, block_size, n_embd)\n",
    "        #print(emb.shape)\n",
    "        #Above is embedding operation\n",
    "        x = emb.view(emb.shape[0], -1) #concatenate the vectors\n",
    "        #This is flattening operation\n",
    "        #print(x.shape)\n",
    "        for layer in layers:\n",
    "            #print(x.shape)\n",
    "            x = layer(x)\n",
    "        logits = x\n",
    "        probs = F.softmax(logits, dim=1)\n",
    "        #sample from the distribution\n",
    "        ix = torch.multinomial(probs, num_samples=1).item()\n",
    "\n",
    "        #shift the context window and track the samples\n",
    "        context = context[1:] + [ix]\n",
    "        out.append(ix)\n",
    "        #if we sample the special '.' token, break\n",
    "        if ix == 0:\n",
    "            break\n",
    "\n",
    "    print(''.join(itoc[i] for i in out))\n",
    "        "
   ]
  },
  {
   "cell_type": "markdown",
   "id": "3ec71038-2213-4089-b98b-dbce77f1ce03",
   "metadata": {},
   "source": [
    "ABOVE EVERYTHING WAS JUST A RECAP!<br>\n",
    "Now, let's try to improve this with wavenet's dilated convolutions architecture!\n",
    "\n",
    "### 1) First let's fix the loss plot, it doesn't look good!\n",
    "\n",
    "We can aggregate some intial k losses with average and then plot such 200000/k values (since 200000 epochs are there)!"
   ]
  },
  {
   "cell_type": "code",
   "execution_count": 81,
   "id": "12af304c-50d3-48f9-8f4d-60d9497f6f2e",
   "metadata": {},
   "outputs": [
    {
     "data": {
      "text/plain": [
       "torch.Size([200, 1000])"
      ]
     },
     "execution_count": 81,
     "metadata": {},
     "output_type": "execute_result"
    }
   ],
   "source": [
    "torch.tensor(lossi).view(-1, 1000).shape #Aggregating over first 1000 guys"
   ]
  },
  {
   "cell_type": "code",
   "execution_count": 85,
   "id": "e7573776-f613-45e4-89c0-b3d4275c4590",
   "metadata": {},
   "outputs": [
    {
     "data": {
      "text/plain": [
       "[<matplotlib.lines.Line2D at 0x767823d3a6b0>]"
      ]
     },
     "execution_count": 85,
     "metadata": {},
     "output_type": "execute_result"
    },
    {
     "data": {
      "image/png": "[encoded data removed]",
      "text/plain": [
       "<Figure size 640x480 with 1 Axes>"
      ]
     },
     "metadata": {},
     "output_type": "display_data"
    }
   ],
   "source": [
    "plt.plot(torch.tensor(lossi).view(-1, 1000).mean(1, keepdim=True))"
   ]
  },
  {
   "cell_type": "markdown",
   "id": "ae41d39e-c156-48f2-9001-f2b35d5eb0a2",
   "metadata": {},
   "source": [
    "### 2) Next, our Forward pass doesn't look that clean - the embeddings layer is explictly calculated in training pass, can we create an abstraction for it, to make things look cleaner?"
   ]
  },
  {
   "cell_type": "code",
   "execution_count": 104,
   "id": "595cf5db-670b-4561-88cb-8f07d9487b28",
   "metadata": {},
   "outputs": [],
   "source": [
    "#Near copy paste of the layers we have developed in Part 3\n",
    "\n",
    "#--------------------------------------------------------------------------\n",
    "class Linear:\n",
    "\n",
    "    def __init__(self, fan_in, fan_out, bias=True):\n",
    "        self.weight = torch.randn((fan_in, fan_out)) / fan_in**0.5 #note: kaiming init\n",
    "        self.bias = torch.zeros(fan_out) if bias else None\n",
    "\n",
    "    def __call__(self, x):\n",
    "        self.out = x @ self.weight\n",
    "        if self.bias is not None:\n",
    "            self.out += self.bias\n",
    "        return self.out\n",
    "\n",
    "    def parameters(self):\n",
    "        return [self.weight] + ([] if self.bias is None else [self.bias])\n",
    "\n",
    "#-------------------------------------------------------------------------\n",
    "\n",
    "class BatchNorm1d:\n",
    "    \n",
    "    def __init__(self, dim, eps=1e-5, momentum=0.1):\n",
    "        self.eps = eps\n",
    "        self.momentum = momentum\n",
    "        self.training = True\n",
    "        #parameters (trained with backprop)\n",
    "        self.gamma = torch.ones(dim) #Scaling factor\n",
    "        self.beta = torch.zeros(dim) #Bias factor\n",
    "        #buffers (trained with a running 'momentum update')\n",
    "        self.running_mean = torch.zeros(dim)\n",
    "        self.running_var = torch.ones(dim)\n",
    "\n",
    "    def __call__(self, x):\n",
    "        #if calculate the forward pass\n",
    "        if self.training:\n",
    "            xmean = x.mean(0, keepdim=True)\n",
    "            xvar = x.var(0, keepdim=True)\n",
    "        else:\n",
    "            xmean = self.running_mean\n",
    "            xvar = self.running_var\n",
    "\n",
    "        xhat = (x - xmean)/torch.sqrt(xvar + self.eps) # normalize to unit variance\n",
    "        self.out = self.gamma * xhat + self.beta\n",
    "\n",
    "        #update the buffers\n",
    "        if self.training:\n",
    "            with torch.no_grad():\n",
    "                self.running_mean = (1 - self.momentum) * self.running_mean + self.momentum * xmean\n",
    "                self.running_var = (1 - self.momentum) * self.running_var + self.momentum * xvar\n",
    "\n",
    "        return self.out\n",
    "\n",
    "    def parameters(self):\n",
    "        return [self.gamma, self.beta]\n",
    "    \n",
    "    def eval():\n",
    "        self.training = False\n",
    "\n",
    "'''\n",
    "In the previous lecture, we developed this crazy layer,\n",
    "and what's particularly interesting about it is a few things.\n",
    "\n",
    "First, it has running mean and variance values that are trained\n",
    "outside of backpropagation, using exponential moving averages\n",
    "during the forward pass.\n",
    "\n",
    "Additionally, there's a training flag because the behavior\n",
    "of batch normalization changes between training and evaluation,\n",
    "so we need to ensure it's in the correct state—\n",
    "either training or evaluation.\n",
    "\n",
    "This often introduces bugs if you forget to set it properly.\n",
    "We also saw that batch normalization couples the activations\n",
    "across examples in the batch, which is unusual because\n",
    "we typically think of the batch as just an efficiency mechanism.\n",
    "\n",
    "But now, the computation is linked across batch elements\n",
    "to control the normalization statistics.\n",
    "\n",
    "This layer is quite weird and prone to bugs, partly because\n",
    "of the need to handle the training and evaluation phases,\n",
    "and also because you have to wait for the mean and variance\n",
    "to stabilize.\n",
    "\n",
    "Essentially, there's state in this layer, and state is usually harmful.\n",
    "'''\n",
    "\n",
    "#---------------------------------------------------------------------\n",
    "class Tanh:\n",
    "    def __call__(self, x):\n",
    "        self.out = torch.tanh(x)\n",
    "        return self.out\n",
    "\n",
    "    def parameters(self):\n",
    "        return []\n",
    "\n",
    "#---------------------------------------------------------------------\n",
    "\n",
    "class Embedding:\n",
    "\n",
    "    def __init__(self, num_embeddings, embedding_dim):\n",
    "        self.weight = torch.randn((num_embeddings, embedding_dim))\n",
    "\n",
    "    def __call__(self, IX):\n",
    "        self.out = self.weight[IX]\n",
    "        return self.out\n",
    "\n",
    "    def parameters(self):\n",
    "        return [self.weight]\n",
    "\n",
    "#--------------------------------------------------------------------\n",
    "\n",
    "class Flatten:\n",
    "\n",
    "    def __call__(self, x):\n",
    "        self.out = x.view(x.shape[0], -1)\n",
    "        return self.out\n",
    "\n",
    "    def parameters(self):\n",
    "        return []"
   ]
  },
  {
   "cell_type": "code",
   "execution_count": 98,
   "id": "669f4ce1-e6a7-4fd3-97ba-9c2e9cc4e0de",
   "metadata": {},
   "outputs": [],
   "source": [
    "torch.manual_seed(42); "
   ]
  },
  {
   "cell_type": "code",
   "execution_count": 108,
   "id": "2066d1dd-44e4-41e5-833b-bf46bcdf3bc8",
   "metadata": {},
   "outputs": [
    {
     "name": "stdout",
     "output_type": "stream",
     "text": [
      "12097\n",
      "12097\n"
     ]
    }
   ],
   "source": [
    "n_embd = 10 #the dimensionality  \n",
    "n_hidden = 200 #the number of neurons in the hidden layer of the MLP\n",
    "\n",
    "layers = [\n",
    "    Embedding(vocab_size, n_embd),\n",
    "    Flatten(),\n",
    "    #Linear(n_embd * block_size, n_hidden, bias=False), BatchNorm1d(n_embd*block_size, n_hidden), Tanh(),\n",
    "    Linear(n_embd * block_size, n_hidden, bias=False), BatchNorm1d(n_hidden), Tanh(),\n",
    "    Linear(n_hidden, vocab_size),\n",
    "]\n",
    "\n",
    "#parameter init\n",
    "with torch.no_grad():\n",
    "    layers[-1].weight *= 0.1 #last layer make less confident\n",
    "parameters = [p for layer in layers for p in layer.parameters()]\n",
    "\n",
    "#custom counting of parameters\n",
    "i = 0\n",
    "for p in parameters:\n",
    "    temp = 1\n",
    "    for j in p.shape:\n",
    "        temp *= j\n",
    "    i += temp\n",
    "print(i)\n",
    "\n",
    "#using in-built nelement() function\n",
    "#print(sum(p.nelement() for p in layer.parameters() for layer in layers))\n",
    "print(sum(p.nelement() for p in parameters))\n",
    "\n",
    "for p in parameters:\n",
    "    p.requires_grad = True"
   ]
  },
  {
   "cell_type": "code",
   "execution_count": 109,
   "id": "e68f5ad7-efc8-4e3e-8bc5-6df55d3ef0f6",
   "metadata": {},
   "outputs": [
    {
     "name": "stdout",
     "output_type": "stream",
     "text": [
      "torch.Size([32, 3])\n",
      "      0/ 200000: 3.2833\n"
     ]
    }
   ],
   "source": [
    "epochs = 200000\n",
    "batch_size = 32\n",
    "lossi = []\n",
    "\n",
    "for i in range(epochs):\n",
    "    #minibatch construct\n",
    "    ix = torch.randint(0, Xtr.shape[0], (batch_size, ))\n",
    "    Xb = Xtr[ix]\n",
    "    yb = Ytr[ix]\n",
    "\n",
    "    #forward pass\n",
    "    #emb = C[Xb] #(32, 3, 10)\n",
    "    #x = emb.view(emb.shape[0], -1) #concatenate the embedding vectors for each character in a sample\n",
    "    # (32, 30)\n",
    "    #print(Xb.shape)\n",
    "    x = Xb\n",
    "    for layer in layers:\n",
    "        x = layer(x)\n",
    "    loss = F.cross_entropy(x, yb) #loss function\n",
    "\n",
    "    #backward pass\n",
    "    for p in parameters:\n",
    "        p.grad = None\n",
    "    loss.backward()\n",
    "\n",
    "    #update: simple SGD\n",
    "    lr = 0.1 if i < 150000 else 0.01 #step learning rate decay\n",
    "    for p in parameters:\n",
    "            p.data += -lr * p.grad\n",
    "\n",
    "    #track stats\n",
    "    if i%10000 == 0: #print every once in a while\n",
    "        print(f'{i:7d}/{epochs:7d}: {loss.item():.4f}')\n",
    "    lossi.append(loss.log10().item())\n",
    "\n",
    "    break"
   ]
  },
  {
   "cell_type": "markdown",
   "id": "68534eac-0967-4f35-8014-ad95068e345c",
   "metadata": {},
   "source": [
    "### 3) Let's PyTorchify this!\n",
    "\n",
    "First let's implement Sequential layers functionality available in PyTorch, so that we can achieve even more abstraction over the explicit definition of layers as we did in last second cell!"
   ]
  },
  {
   "cell_type": "code",
   "execution_count": 186,
   "id": "c9dfcd21-a68a-4cda-a8ea-6e821b96b545",
   "metadata": {},
   "outputs": [],
   "source": [
    "#Near copy paste of the layers we have developed in Part 3\n",
    "\n",
    "#--------------------------------------------------------------------------\n",
    "class Linear:\n",
    "\n",
    "    def __init__(self, fan_in, fan_out, bias=True):\n",
    "        self.weight = torch.randn((fan_in, fan_out)) / fan_in**0.5 #note: kaiming init\n",
    "        self.bias = torch.zeros(fan_out) if bias else None\n",
    "\n",
    "    def __call__(self, x):\n",
    "        self.out = x @ self.weight\n",
    "        if self.bias is not None:\n",
    "            self.out += self.bias\n",
    "        return self.out\n",
    "\n",
    "    def parameters(self):\n",
    "        return [self.weight] + ([] if self.bias is None else [self.bias])\n",
    "\n",
    "#-------------------------------------------------------------------------\n",
    "\n",
    "class BatchNorm1d:\n",
    "    \n",
    "    def __init__(self, dim, eps=1e-5, momentum=0.1):\n",
    "        self.eps = eps\n",
    "        self.momentum = momentum\n",
    "        self.training = True\n",
    "        #parameters (trained with backprop)\n",
    "        self.gamma = torch.ones(dim) #Scaling factor\n",
    "        self.beta = torch.zeros(dim) #Bias factor\n",
    "        #buffers (trained with a running 'momentum update')\n",
    "        self.running_mean = torch.zeros(dim)\n",
    "        self.running_var = torch.ones(dim)\n",
    "\n",
    "    def __call__(self, x):\n",
    "        #if calculate the forward pass\n",
    "        if self.training:\n",
    "            xmean = x.mean(0, keepdim=True)\n",
    "            xvar = x.var(0, keepdim=True)\n",
    "        else:\n",
    "            xmean = self.running_mean\n",
    "            xvar = self.running_var\n",
    "        xhat = (x - xmean)/torch.sqrt(xvar + self.eps) # normalize to unit variance\n",
    "        self.out = self.gamma * xhat + self.beta\n",
    "\n",
    "        #update the buffers\n",
    "        if self.training:\n",
    "            with torch.no_grad():\n",
    "                self.running_mean = (1 - self.momentum) * self.running_mean + self.momentum * xmean\n",
    "                self.running_var = (1 - self.momentum) * self.running_var + self.momentum * xvar\n",
    "\n",
    "        return self.out\n",
    "\n",
    "    def parameters(self):\n",
    "        return [self.gamma, self.beta]\n",
    "    \n",
    "    def eval():\n",
    "        self.training = False\n",
    "\n",
    "'''\n",
    "In the previous lecture, we developed this crazy layer,\n",
    "and what's particularly interesting about it is a few things.\n",
    "\n",
    "First, it has running mean and variance values that are trained\n",
    "outside of backpropagation, using exponential moving averages\n",
    "during the forward pass.\n",
    "\n",
    "Additionally, there's a training flag because the behavior\n",
    "of batch normalization changes between training and evaluation,\n",
    "so we need to ensure it's in the correct state—\n",
    "either training or evaluation.\n",
    "\n",
    "This often introduces bugs if you forget to set it properly.\n",
    "We also saw that batch normalization couples the activations\n",
    "across examples in the batch, which is unusual because\n",
    "we typically think of the batch as just an efficiency mechanism.\n",
    "\n",
    "But now, the computation is linked across batch elements\n",
    "to control the normalization statistics.\n",
    "\n",
    "This layer is quite weird and prone to bugs, partly because\n",
    "of the need to handle the training and evaluation phases,\n",
    "and also because you have to wait for the mean and variance\n",
    "to stabilize.\n",
    "\n",
    "Essentially, there's state in this layer, and state is usually harmful.\n",
    "'''\n",
    "\n",
    "#---------------------------------------------------------------------\n",
    "class Tanh:\n",
    "    def __call__(self, x):\n",
    "        self.out = torch.tanh(x)\n",
    "        return self.out\n",
    "\n",
    "    def parameters(self):\n",
    "        return []\n",
    "\n",
    "#---------------------------------------------------------------------\n",
    "\n",
    "class Embedding:\n",
    "\n",
    "    def __init__(self, num_embeddings, embedding_dim):\n",
    "        self.weight = torch.randn((num_embeddings, embedding_dim))\n",
    "\n",
    "    def __call__(self, IX):\n",
    "        self.out = self.weight[IX]\n",
    "        return self.out\n",
    "\n",
    "    def parameters(self):\n",
    "        return [self.weight]\n",
    "\n",
    "#--------------------------------------------------------------------\n",
    "\n",
    "class Flatten:\n",
    "\n",
    "    def __call__(self, x):\n",
    "        self.out = x.view(x.shape[0], -1)\n",
    "        return self.out\n",
    "\n",
    "    def parameters(self):\n",
    "        return []\n",
    "\n",
    "#--------------------------------------------------------------------\n",
    "\n",
    "class Sequential:\n",
    "\n",
    "    def __init__(self, layers):\n",
    "        self.layers = layers\n",
    "\n",
    "    def __call__(self, x):\n",
    "        for layer in self.layers:\n",
    "            x = layer(x)\n",
    "        self.out = x\n",
    "        return self.out\n",
    "        \n",
    "    def parameters(self):\n",
    "        #get parameter\n",
    "        return [p for layer in self.layers for p in layer.parameters()]"
   ]
  },
  {
   "cell_type": "code",
   "execution_count": 187,
   "id": "f6f32a46-394d-4961-8cbe-5afab814fc1b",
   "metadata": {},
   "outputs": [
    {
     "data": {
      "text/plain": [
       "<torch._C.Generator at 0x7678e75c19f0>"
      ]
     },
     "execution_count": 187,
     "metadata": {},
     "output_type": "execute_result"
    }
   ],
   "source": [
    "torch.manual_seed(42)"
   ]
  },
  {
   "cell_type": "code",
   "execution_count": 188,
   "id": "d8e9bcd5-e60e-489b-8b25-bd22e19c9177",
   "metadata": {},
   "outputs": [
    {
     "name": "stdout",
     "output_type": "stream",
     "text": [
      "12097\n"
     ]
    }
   ],
   "source": [
    "n_embd = 10\n",
    "n_hidden = 200\n",
    "\n",
    "model = Sequential([\n",
    "    Embedding(vocab_size, n_embd),\n",
    "    Flatten(),\n",
    "    Linear(n_embd*block_size, n_hidden, bias=False), BatchNorm1d(n_hidden), Tanh(),\n",
    "    Linear(n_hidden, vocab_size)\n",
    "])\n",
    "\n",
    "#parameter init\n",
    "with torch.no_grad():\n",
    "    model.layers[-1].weight *= 0.1\n",
    "\n",
    "parameters = model.parameters()\n",
    "print(sum(p.nelement() for p in parameters))\n",
    "\n",
    "####IMP STEP######\n",
    "for p in parameters:\n",
    "    p.requires_grad = True"
   ]
  },
  {
   "cell_type": "code",
   "execution_count": 189,
   "id": "4ebf7169-8077-4363-a54a-ead79e4190d2",
   "metadata": {},
   "outputs": [
    {
     "name": "stdout",
     "output_type": "stream",
     "text": [
      "      0/ 200000: 3.3120\n",
      "  10000/ 200000: 2.3087\n",
      "  20000/ 200000: 2.4581\n",
      "  30000/ 200000: 2.0248\n",
      "  40000/ 200000: 2.0344\n",
      "  50000/ 200000: 1.8438\n",
      "  60000/ 200000: 2.3635\n",
      "  70000/ 200000: 2.2314\n",
      "  80000/ 200000: 2.0361\n",
      "  90000/ 200000: 1.9515\n",
      " 100000/ 200000: 1.7977\n",
      " 110000/ 200000: 1.9117\n",
      " 120000/ 200000: 1.9738\n",
      " 130000/ 200000: 2.4556\n",
      " 140000/ 200000: 1.9853\n",
      " 150000/ 200000: 2.5439\n",
      " 160000/ 200000: 2.1277\n",
      " 170000/ 200000: 2.0401\n",
      " 180000/ 200000: 2.1280\n",
      " 190000/ 200000: 1.9346\n"
     ]
    }
   ],
   "source": [
    "epochs = 200000\n",
    "batch_size = 32\n",
    "lossi = []\n",
    "\n",
    "for i in range(epochs):\n",
    "    #minibatch construct\n",
    "    ix = torch.randint(0, Xtr.shape[0], (batch_size, ))\n",
    "    Xb = Xtr[ix]\n",
    "    yb = Ytr[ix]\n",
    "\n",
    "    #forward pass\n",
    "    #emb = C[Xb] #(32, 3, 10)\n",
    "    #x = emb.view(emb.shape[0], -1) #concatenate the embedding vectors for each character in a sample\n",
    "    # (32, 30)\n",
    "    #print(Xb.shape)\n",
    "    #x = Xb\n",
    "    #for layer in layers:\n",
    "    #    x = layer(x)\n",
    "    logits = model(Xb)\n",
    "    loss = F.cross_entropy(logits, yb) #loss function\n",
    "\n",
    "    #backward pass\n",
    "    for p in parameters:\n",
    "        p.grad = None\n",
    "    loss.backward()\n",
    "\n",
    "    #update: simple SGD\n",
    "    lr = 0.1 if i < 150000 else 0.01 #step learning rate decay\n",
    "    for p in parameters:\n",
    "            p.data += -lr * p.grad\n",
    "\n",
    "    #track stats\n",
    "    if i%10000 == 0: #print every once in a while\n",
    "        print(f'{i:7d}/{epochs:7d}: {loss.item():.4f}')\n",
    "    lossi.append(loss.log10().item())\n",
    "\n",
    "    #break"
   ]
  },
  {
   "cell_type": "code",
   "execution_count": 190,
   "id": "0d7afde3-bc01-4283-b02e-f076a96e956e",
   "metadata": {},
   "outputs": [],
   "source": [
    "#put layers into eval mode (needed for batchnorm especially)\n",
    "#for layer in layers:\n",
    " #   layer.training = False\n",
    "\n",
    "for layer in model.layers:\n",
    "    layer.training = False"
   ]
  },
  {
   "cell_type": "code",
   "execution_count": 191,
   "id": "36ed4227-7a75-4c74-a653-546bf4d7f9d9",
   "metadata": {},
   "outputs": [
    {
     "name": "stdout",
     "output_type": "stream",
     "text": [
      "train 2.0128419399261475\n",
      "val 2.3205068111419678\n"
     ]
    }
   ],
   "source": [
    "#evaluate the loss\n",
    "@torch.no_grad()\n",
    "def split_loss(split):\n",
    "    x, y = {\n",
    "        'train': (Xtr, Ytr),\n",
    "        'val': (Xdev, Ydev),\n",
    "        'test': (Xte, Yte),\n",
    "    }[split]\n",
    "    #emb = C[x] #(N, block_size, n_embd)\n",
    "    #x = emb.view(emb.shape[0], -1) #concat into (N, block_size * n_embd)\n",
    "    #for layer in layers:\n",
    "    #    x = layer(x)\n",
    "    x = model(x)\n",
    "    loss = F.cross_entropy(x, y)\n",
    "    print(split, loss.item())\n",
    "\n",
    "split_loss('train')\n",
    "split_loss('val')"
   ]
  },
  {
   "cell_type": "code",
   "execution_count": 192,
   "id": "a6438eb8-314e-46c4-a387-460cb20e5637",
   "metadata": {},
   "outputs": [
    {
     "name": "stdout",
     "output_type": "stream",
     "text": [
      "damiara.\n",
      "alyz.\n",
      "aria.\n",
      "tri.\n",
      "gerrysha.\n",
      "roy.\n",
      "lorie.\n",
      "rosso.\n",
      "jesse.\n",
      "catine.\n",
      "air.\n",
      "alitithira.\n",
      "liza.\n",
      "jamis.\n",
      "anie.\n",
      "daison.\n",
      "alana.\n",
      "lon.\n",
      "quas.\n",
      "tori.\n"
     ]
    }
   ],
   "source": [
    "#sample from model\n",
    "\n",
    "for _ in range(20):#want to generate 20 samples\n",
    "\n",
    "    out = []\n",
    "    context = [0] * block_size #initialize with all ...\n",
    "    while True:\n",
    "        logits = model(torch.tensor(context).view(1,-1))\n",
    "        #logits = model(torch.tensor([context]))\n",
    "        probs = F.softmax(logits, dim=1)\n",
    "        #sample from the distribution\n",
    "        #print(probs)\n",
    "        ix = torch.multinomial(probs, num_samples=1).item()\n",
    "\n",
    "        #shift the context window and track the samples\n",
    "        context = context[1:] + [ix]\n",
    "        out.append(ix)\n",
    "        #if we sample the special '.' token, break\n",
    "        if ix == 0:\n",
    "            break\n",
    "\n",
    "    print(''.join(itoc[i] for i in out))\n",
    "        "
   ]
  },
  {
   "cell_type": "markdown",
   "id": "9fb76b12-a67b-44bb-807b-c93be9ff0deb",
   "metadata": {},
   "source": [
    "The difference in train loss and val loss is signficant, so it looks like we have saturated our training potential with this architecture!<br>\n",
    "What if we scale our network/architecture? - Introducing additional layers(making it more deep), more parameters (by increasing the n_embd, n_hidden, etc), __still the problem that we are crushing the n_emb * block_size values into a smaller hidden layer and causing information loss stays the same.__ <br>\n",
    "\n",
    "This problem is addressed by the WaveNet paper and we would like our architecture to adapt that and look similar to following: <br>\n",
    "![title](img/wavenet.png)\n",
    "\n",
    "Before starting to implement this sort of architecture, let's bump our block_size to 8 and see, how well it performs - so that we have a baseline!"
   ]
  },
  {
   "cell_type": "code",
   "execution_count": 218,
   "id": "11f17b1f-f157-4cfb-bcb3-52cdf06dd1b4",
   "metadata": {},
   "outputs": [
    {
     "name": "stdout",
     "output_type": "stream",
     "text": [
      "........ e\n",
      ".......e m\n",
      "......em m\n",
      ".....emm a\n",
      "....emma .\n",
      "........ o\n",
      ".......o l\n",
      "......ol i\n",
      ".....oli v\n",
      "....oliv i\n",
      "...olivi a\n",
      "..olivia .\n",
      "........ a\n",
      ".......a v\n",
      "......av a\n",
      ".....ava .\n",
      "........ i\n",
      ".......i s\n",
      "......is a\n",
      ".....isa b\n",
      "....isab e\n",
      "...isabe l\n",
      "..isabel l\n",
      ".isabell a\n",
      "isabella .\n",
      "........ s\n",
      ".......s o\n",
      "......so p\n",
      ".....sop h\n",
      "....soph i\n",
      "...sophi a\n",
      "..sophia .\n",
      "torch.Size([32, 8]) torch.Size([32])\n",
      "tensor([[ 0,  0,  0,  0,  0,  0,  0,  0],\n",
      "        [ 0,  0,  0,  0,  0,  0,  0,  5],\n",
      "        [ 0,  0,  0,  0,  0,  0,  5, 13],\n",
      "        [ 0,  0,  0,  0,  0,  5, 13, 13],\n",
      "        [ 0,  0,  0,  0,  5, 13, 13,  1],\n",
      "        [ 0,  0,  0,  0,  0,  0,  0,  0],\n",
      "        [ 0,  0,  0,  0,  0,  0,  0, 15],\n",
      "        [ 0,  0,  0,  0,  0,  0, 15, 12],\n",
      "        [ 0,  0,  0,  0,  0, 15, 12,  9],\n",
      "        [ 0,  0,  0,  0, 15, 12,  9, 22],\n",
      "        [ 0,  0,  0, 15, 12,  9, 22,  9],\n",
      "        [ 0,  0, 15, 12,  9, 22,  9,  1],\n",
      "        [ 0,  0,  0,  0,  0,  0,  0,  0],\n",
      "        [ 0,  0,  0,  0,  0,  0,  0,  1],\n",
      "        [ 0,  0,  0,  0,  0,  0,  1, 22],\n",
      "        [ 0,  0,  0,  0,  0,  1, 22,  1],\n",
      "        [ 0,  0,  0,  0,  0,  0,  0,  0],\n",
      "        [ 0,  0,  0,  0,  0,  0,  0,  9],\n",
      "        [ 0,  0,  0,  0,  0,  0,  9, 19],\n",
      "        [ 0,  0,  0,  0,  0,  9, 19,  1],\n",
      "        [ 0,  0,  0,  0,  9, 19,  1,  2],\n",
      "        [ 0,  0,  0,  9, 19,  1,  2,  5],\n",
      "        [ 0,  0,  9, 19,  1,  2,  5, 12],\n",
      "        [ 0,  9, 19,  1,  2,  5, 12, 12],\n",
      "        [ 9, 19,  1,  2,  5, 12, 12,  1],\n",
      "        [ 0,  0,  0,  0,  0,  0,  0,  0],\n",
      "        [ 0,  0,  0,  0,  0,  0,  0, 19],\n",
      "        [ 0,  0,  0,  0,  0,  0, 19, 15],\n",
      "        [ 0,  0,  0,  0,  0, 19, 15, 16],\n",
      "        [ 0,  0,  0,  0, 19, 15, 16,  8],\n",
      "        [ 0,  0,  0, 19, 15, 16,  8,  9],\n",
      "        [ 0,  0, 19, 15, 16,  8,  9,  1]])\n",
      "tensor([ 5, 13, 13,  1,  0, 15, 12,  9, 22,  9,  1,  0,  1, 22,  1,  0,  9, 19,\n",
      "         1,  2,  5, 12, 12,  1,  0, 19, 15, 16,  8,  9,  1,  0])\n"
     ]
    }
   ],
   "source": [
    "#Build the dataset\n",
    "block_size = 8 #context length: how many characters do we take to predict the next one\n",
    "\n",
    "def build_dataset3(words):\n",
    "    X = []\n",
    "    Y = []\n",
    "    for word in words:\n",
    "        eight_dots = '........'\n",
    "        eight_dots += word\n",
    "        word = eight_dots + '.'\n",
    "        #print(word)\n",
    "        for i in range(len(word) - block_size):\n",
    "            x = word[i:i+block_size]\n",
    "            y = word[i+block_size]\n",
    "            print(x, y)\n",
    "            x_ctoi = [ctoi[ch] for ch in x]\n",
    "            y_ctoi = ctoi[y]\n",
    "            X.append(x_ctoi)\n",
    "            Y.append(y_ctoi)\n",
    "    X_final = torch.tensor(X)\n",
    "    Y_final = torch.tensor(Y)\n",
    "    print(X_final.shape, Y_final.shape)\n",
    "    return X_final, Y_final\n",
    "\n",
    "X, Y = build_dataset3(words[0:5])\n",
    "print(X)\n",
    "print(Y)"
   ]
  },
  {
   "cell_type": "code",
   "execution_count": 217,
   "id": "3cf64991-c7e9-4130-9636-71d8d4ef04bf",
   "metadata": {},
   "outputs": [
    {
     "name": "stdout",
     "output_type": "stream",
     "text": [
      "torch.Size([182778, 8]) torch.Size([182778])\n",
      "torch.Size([22633, 8]) torch.Size([22633])\n",
      "torch.Size([22735, 8]) torch.Size([22735])\n"
     ]
    }
   ],
   "source": [
    "n1 = int(0.8 * len(words))\n",
    "n2 = int(0.9 * len(words))\n",
    "Xtr, Ytr = build_dataset3(words[:n1])\n",
    "Xdev, Ydev = build_dataset3(words[n1:n2])\n",
    "Xte, Yte = build_dataset3(words[n2:])"
   ]
  },
  {
   "cell_type": "code",
   "execution_count": 219,
   "id": "e088a6a1-f9d8-4241-9724-f0ed70444c37",
   "metadata": {},
   "outputs": [
    {
     "name": "stdout",
     "output_type": "stream",
     "text": [
      "22097\n"
     ]
    }
   ],
   "source": [
    "n_embd = 10\n",
    "n_hidden = 200\n",
    "\n",
    "model = Sequential([\n",
    "    Embedding(vocab_size, n_embd),\n",
    "    Flatten(),\n",
    "    Linear(n_embd*block_size, n_hidden, bias=False), BatchNorm1d(n_hidden), Tanh(),\n",
    "    Linear(n_hidden, vocab_size)\n",
    "])\n",
    "\n",
    "#parameter init\n",
    "with torch.no_grad():\n",
    "    model.layers[-1].weight *= 0.1\n",
    "\n",
    "parameters = model.parameters()\n",
    "print(sum(p.nelement() for p in parameters))\n",
    "\n",
    "####IMP STEP######\n",
    "for p in parameters:\n",
    "    p.requires_grad = True"
   ]
  },
  {
   "cell_type": "code",
   "execution_count": 220,
   "id": "149e6d46-e603-4791-95e6-142af3f955bc",
   "metadata": {},
   "outputs": [
    {
     "name": "stdout",
     "output_type": "stream",
     "text": [
      "      0/ 200000: 3.3066\n",
      "  10000/ 200000: 2.3373\n",
      "  20000/ 200000: 1.8871\n",
      "  30000/ 200000: 1.6485\n",
      "  40000/ 200000: 2.2205\n",
      "  50000/ 200000: 2.1845\n",
      "  60000/ 200000: 1.9514\n",
      "  70000/ 200000: 2.0674\n",
      "  80000/ 200000: 1.6834\n",
      "  90000/ 200000: 1.6009\n",
      " 100000/ 200000: 2.3587\n",
      " 110000/ 200000: 1.8234\n",
      " 120000/ 200000: 2.2692\n",
      " 130000/ 200000: 1.9086\n",
      " 140000/ 200000: 1.7967\n",
      " 150000/ 200000: 1.7759\n",
      " 160000/ 200000: 1.9246\n",
      " 170000/ 200000: 2.3713\n",
      " 180000/ 200000: 1.7288\n",
      " 190000/ 200000: 1.9491\n"
     ]
    }
   ],
   "source": [
    "epochs = 200000\n",
    "batch_size = 32\n",
    "lossi = []\n",
    "\n",
    "for i in range(epochs):\n",
    "    #minibatch construct\n",
    "    ix = torch.randint(0, Xtr.shape[0], (batch_size, ))\n",
    "    Xb = Xtr[ix]\n",
    "    yb = Ytr[ix]\n",
    "\n",
    "    #forward pass\n",
    "    #emb = C[Xb] #(32, 3, 10)\n",
    "    #x = emb.view(emb.shape[0], -1) #concatenate the embedding vectors for each character in a sample\n",
    "    # (32, 30)\n",
    "    #print(Xb.shape)\n",
    "    #x = Xb\n",
    "    #for layer in layers:\n",
    "    #    x = layer(x)\n",
    "    logits = model(Xb)\n",
    "    loss = F.cross_entropy(logits, yb) #loss function\n",
    "\n",
    "    #backward pass\n",
    "    for p in parameters:\n",
    "        p.grad = None\n",
    "    loss.backward()\n",
    "\n",
    "    #update: simple SGD\n",
    "    lr = 0.1 if i < 150000 else 0.01 #step learning rate decay\n",
    "    for p in parameters:\n",
    "            p.data += -lr * p.grad\n",
    "\n",
    "    #track stats\n",
    "    if i%10000 == 0: #print every once in a while\n",
    "        print(f'{i:7d}/{epochs:7d}: {loss.item():.4f}')\n",
    "    lossi.append(loss.log10().item())\n",
    "\n",
    "    #break"
   ]
  },
  {
   "cell_type": "code",
   "execution_count": 221,
   "id": "5a4b8813-4032-40be-8356-9a74d902d15d",
   "metadata": {},
   "outputs": [],
   "source": [
    "for layer in model.layers:\n",
    "    layer.training = False"
   ]
  },
  {
   "cell_type": "code",
   "execution_count": 222,
   "id": "448dfd27-d4ba-43e9-8b9a-02e887e08c44",
   "metadata": {},
   "outputs": [
    {
     "name": "stdout",
     "output_type": "stream",
     "text": [
      "train 1.8679134845733643\n",
      "val 2.2466118335723877\n"
     ]
    }
   ],
   "source": [
    "#evaluate the loss\n",
    "@torch.no_grad()\n",
    "def split_loss(split):\n",
    "    x, y = {\n",
    "        'train': (Xtr, Ytr),\n",
    "        'val': (Xdev, Ydev),\n",
    "        'test': (Xte, Yte),\n",
    "    }[split]\n",
    "    #emb = C[x] #(N, block_size, n_embd)\n",
    "    #x = emb.view(emb.shape[0], -1) #concat into (N, block_size * n_embd)\n",
    "    #for layer in layers:\n",
    "    #    x = layer(x)\n",
    "    x = model(x)\n",
    "    loss = F.cross_entropy(x, y)\n",
    "    print(split, loss.item())\n",
    "\n",
    "split_loss('train')\n",
    "split_loss('val')"
   ]
  },
  {
   "cell_type": "markdown",
   "id": "3eec442f-7378-4729-9814-a68e2a2db1ec",
   "metadata": {},
   "source": [
    "### Performance Log:\n",
    "* original(3 character context + 200 hidden neurons, 12K params): train 2.01, val: 2.3\n",
    "* context: 3 -> 8 (22K params): train 1.86 and val 2.24"
   ]
  },
  {
   "cell_type": "code",
   "execution_count": 223,
   "id": "5bd065e8-b353-4532-8c92-ea44b6c285c2",
   "metadata": {},
   "outputs": [
    {
     "name": "stdout",
     "output_type": "stream",
     "text": [
      "clyona.\n",
      "fatyn.\n",
      "rishaalun.\n",
      "eliya.\n",
      "layelle.\n",
      "hirah.\n",
      "joella.\n",
      "myiah.\n",
      "chiyah.\n",
      "reinin.\n",
      "emerilee.\n",
      "niamtha.\n",
      "j.\n",
      "jazzabel.\n",
      "avanni.\n",
      "osette.\n",
      "caynni.\n",
      "wylin.\n",
      "arleer.\n",
      "bowie.\n"
     ]
    }
   ],
   "source": [
    "#sample from model\n",
    "\n",
    "for _ in range(20):#want to generate 20 samples\n",
    "\n",
    "    out = []\n",
    "    context = [0] * block_size #initialize with all ...\n",
    "    while True:\n",
    "        logits = model(torch.tensor(context).view(1,-1))\n",
    "        #logits = model(torch.tensor([context]))\n",
    "        probs = F.softmax(logits, dim=1)\n",
    "        #sample from the distribution\n",
    "        #print(probs)\n",
    "        ix = torch.multinomial(probs, num_samples=1).item()\n",
    "\n",
    "        #shift the context window and track the samples\n",
    "        context = context[1:] + [ix]\n",
    "        out.append(ix)\n",
    "        #if we sample the special '.' token, break\n",
    "        if ix == 0:\n",
    "            break\n",
    "\n",
    "    print(''.join(itoc[i] for i in out))\n",
    "        "
   ]
  },
  {
   "cell_type": "markdown",
   "id": "c86ead53-d679-4b9d-b3b7-5510cfb880b1",
   "metadata": {},
   "source": [
    "Let's try to see how we can implement a hierarchical scheme!\n",
    "\n",
    "Before that, let's see how the shapes of the outputs of each layer look like with a small batch of examples say 4!"
   ]
  },
  {
   "cell_type": "code",
   "execution_count": 227,
   "id": "11a26967-1472-4a32-a699-bfc8f6a45f54",
   "metadata": {},
   "outputs": [
    {
     "name": "stdout",
     "output_type": "stream",
     "text": [
      "torch.Size([4, 8])\n",
      "tensor([[ 0,  0,  0,  0,  5, 13,  5, 18],\n",
      "        [ 0,  0,  0,  0,  4,  1, 13,  1],\n",
      "        [ 0,  0, 19, 20,  5, 22,  1, 14],\n",
      "        [ 0,  0,  0,  0,  0,  0,  0, 13]])\n"
     ]
    }
   ],
   "source": [
    "ix = torch.randint(0, Xtr.shape[0], (4,)) #let's look at a batch of just 4 examples\n",
    "Xb, Yb = Xtr[ix], Ytr[ix]\n",
    "logits = model(Xb)\n",
    "print(Xb.shape)\n",
    "print(Xb)\n",
    "#print(logits)"
   ]
  },
  {
   "cell_type": "code",
   "execution_count": 228,
   "id": "6ce5454e-8193-4128-828b-0523a0d9e3f6",
   "metadata": {},
   "outputs": [
    {
     "data": {
      "text/plain": [
       "torch.Size([4, 8, 10])"
      ]
     },
     "execution_count": 228,
     "metadata": {},
     "output_type": "execute_result"
    }
   ],
   "source": [
    "model.layers[0].out.shape #output of embedding layer"
   ]
  },
  {
   "cell_type": "code",
   "execution_count": 229,
   "id": "035234c4-eaa4-404b-96fd-6d6a23795a2f",
   "metadata": {},
   "outputs": [
    {
     "data": {
      "text/plain": [
       "torch.Size([4, 80])"
      ]
     },
     "execution_count": 229,
     "metadata": {},
     "output_type": "execute_result"
    }
   ],
   "source": [
    "model.layers[1].out.shape #output of Flatten layer"
   ]
  },
  {
   "cell_type": "code",
   "execution_count": 230,
   "id": "80234f58-fc9d-44d5-8520-2e68e008f8f9",
   "metadata": {},
   "outputs": [
    {
     "data": {
      "text/plain": [
       "torch.Size([4, 200])"
      ]
     },
     "execution_count": 230,
     "metadata": {},
     "output_type": "execute_result"
    }
   ],
   "source": [
    "model.layers[2].out.shape #output of Linear Layer"
   ]
  },
  {
   "cell_type": "code",
   "execution_count": 231,
   "id": "a5489c79-0705-48cc-b800-b5bfed83a1d7",
   "metadata": {},
   "outputs": [
    {
     "data": {
      "text/plain": [
       "torch.Size([4, 200])"
      ]
     },
     "execution_count": 231,
     "metadata": {},
     "output_type": "execute_result"
    }
   ],
   "source": [
    "(torch.randn(4,80) @ torch.randn(80, 200) + torch.randn(200)).shape"
   ]
  },
  {
   "cell_type": "code",
   "execution_count": 232,
   "id": "df85f4bb-db3b-47bf-ba52-57655f78dab5",
   "metadata": {},
   "outputs": [
    {
     "data": {
      "text/plain": [
       "torch.Size([4, 5, 200])"
      ]
     },
     "execution_count": 232,
     "metadata": {},
     "output_type": "execute_result"
    }
   ],
   "source": [
    "(torch.randn(4,5,80) @ torch.randn(80, 200) + torch.randn(200)).shape"
   ]
  },
  {
   "cell_type": "markdown",
   "id": "cf16aae8-354f-4921-8195-90f110997fb1",
   "metadata": {},
   "source": [
    "Power of torch!!"
   ]
  },
  {
   "cell_type": "code",
   "execution_count": 233,
   "id": "2b731a5a-9f14-41eb-91df-cf929a176305",
   "metadata": {},
   "outputs": [
    {
     "data": {
      "text/plain": [
       "torch.Size([4, 5, 9, 200])"
      ]
     },
     "execution_count": 233,
     "metadata": {},
     "output_type": "execute_result"
    }
   ],
   "source": [
    "(torch.randn(4,5,9,80) @ torch.randn(80, 200) + torch.randn(200)).shape"
   ]
  },
  {
   "cell_type": "markdown",
   "id": "8251ddbd-28ba-4d39-97f3-a4c954b0f76c",
   "metadata": {},
   "source": [
    "Rather than directly multiplying 80 input neurons corresponding to the 8 context blocks - we want to groups them two context elements into one like follows: <br>\n",
    "1,2,3,4,5,6,7,8 <br>\n",
    "#(1,2) (3, 4) (5,6) (7,8)<br>\n",
    "Two context elements should get flattened out and multiplied by weight matrix. But we want to process these 4 in parallel! It's like a batch dimension we can introduce and process these bigram groups in the 4 batch dimensions of an individual sample and across actual dimension of the batches of samples!"
   ]
  },
  {
   "cell_type": "code",
   "execution_count": 234,
   "id": "0257814d-afb4-4b5c-9e9e-cae189e67702",
   "metadata": {},
   "outputs": [
    {
     "data": {
      "text/plain": [
       "torch.Size([4, 200])"
      ]
     },
     "execution_count": 234,
     "metadata": {},
     "output_type": "execute_result"
    }
   ],
   "source": [
    "#Original Linear layer implementation\n",
    "(torch.randn(4,80) @ torch.randn(80, 200) + torch.randn(200)).shape"
   ]
  },
  {
   "cell_type": "code",
   "execution_count": 235,
   "id": "24893116-574f-4981-a455-e6e737ec452a",
   "metadata": {},
   "outputs": [
    {
     "data": {
      "text/plain": [
       "torch.Size([4, 4, 200])"
      ]
     },
     "execution_count": 235,
     "metadata": {},
     "output_type": "execute_result"
    }
   ],
   "source": [
    "(torch.randn(4,4,20) @ torch.randn(20, 200) + torch.randn(200)).shape"
   ]
  },
  {
   "cell_type": "markdown",
   "id": "3b4f621f-6451-47bf-90e0-b45bf20a616a",
   "metadata": {},
   "source": [
    "We would want our Output of first linear layer to look like above!"
   ]
  },
  {
   "cell_type": "code",
   "execution_count": 237,
   "id": "77bfdb56-b8f8-4695-b093-62d82ad11ccb",
   "metadata": {},
   "outputs": [
    {
     "name": "stdout",
     "output_type": "stream",
     "text": [
      "[1, 3, 5, 7, 9]\n",
      "[0, 2, 4, 6, 8]\n"
     ]
    }
   ],
   "source": [
    "#How to access only even or odd neurons (alternate ones)\n",
    "\n",
    "#Recollect\n",
    "\n",
    "print(list(range(10))[1::2])\n",
    "\n",
    "print(list(range(10))[::2])"
   ]
  },
  {
   "cell_type": "code",
   "execution_count": 240,
   "id": "1c395f3c-cc1c-4d94-bd3a-0cb30bf6ddd9",
   "metadata": {},
   "outputs": [
    {
     "data": {
      "text/plain": [
       "torch.Size([4, 4, 20])"
      ]
     },
     "execution_count": 240,
     "metadata": {},
     "output_type": "execute_result"
    }
   ],
   "source": [
    "#the embedding we have (4,8,10) we want it to be converted into 4, 4, 20 i.e. 1,2,3,4,5,6,7,8 --> (1,2), (3,4), (5,6), (7,8)\n",
    "\n",
    "e = torch.randn(4,8,10) # goal : want this to be (4,4,20) where consecutive 10-d vectors get concatendated\n",
    "explicit = torch.cat([e[:, ::2, :], e [:,1::2,:]], dim = 2)\n",
    "explicit.shape"
   ]
  },
  {
   "cell_type": "code",
   "execution_count": 242,
   "id": "32f8f11a-ebfb-4fa6-b74d-a4e9f91526c4",
   "metadata": {
    "scrolled": true
   },
   "outputs": [
    {
     "data": {
      "text/plain": [
       "tensor(True)"
      ]
     },
     "execution_count": 242,
     "metadata": {},
     "output_type": "execute_result"
    }
   ],
   "source": [
    "(e.view(4,4,20) == explicit).all()"
   ]
  },
  {
   "cell_type": "markdown",
   "id": "13b15df4-4d95-4755-946f-dd7a7f7f9289",
   "metadata": {},
   "source": [
    "Once, we are clear with this idea, let's go to Flatten layer and implement this!"
   ]
  },
  {
   "cell_type": "code",
   "execution_count": 245,
   "id": "31aea83f-b68d-4717-8835-9ce84653ea54",
   "metadata": {},
   "outputs": [],
   "source": [
    "#Near copy paste of the layers we have developed in Part 3\n",
    "\n",
    "#--------------------------------------------------------------------------\n",
    "class Linear:\n",
    "\n",
    "    def __init__(self, fan_in, fan_out, bias=True):\n",
    "        self.weight = torch.randn((fan_in, fan_out)) / fan_in**0.5 #note: kaiming init\n",
    "        self.bias = torch.zeros(fan_out) if bias else None\n",
    "\n",
    "    def __call__(self, x):\n",
    "        self.out = x @ self.weight\n",
    "        if self.bias is not None:\n",
    "            self.out += self.bias\n",
    "        return self.out\n",
    "\n",
    "    def parameters(self):\n",
    "        return [self.weight] + ([] if self.bias is None else [self.bias])\n",
    "\n",
    "#-------------------------------------------------------------------------\n",
    "\n",
    "class BatchNorm1d:\n",
    "    \n",
    "    def __init__(self, dim, eps=1e-5, momentum=0.1):\n",
    "        self.eps = eps\n",
    "        self.momentum = momentum\n",
    "        self.training = True\n",
    "        #parameters (trained with backprop)\n",
    "        self.gamma = torch.ones(dim) #Scaling factor\n",
    "        self.beta = torch.zeros(dim) #Bias factor\n",
    "        #buffers (trained with a running 'momentum update')\n",
    "        self.running_mean = torch.zeros(dim)\n",
    "        self.running_var = torch.ones(dim)\n",
    "\n",
    "    def __call__(self, x):\n",
    "        #if calculate the forward pass\n",
    "        if self.training:\n",
    "            xmean = x.mean(0, keepdim=True)\n",
    "            xvar = x.var(0, keepdim=True)\n",
    "        else:\n",
    "            xmean = self.running_mean\n",
    "            xvar = self.running_var\n",
    "        xhat = (x - xmean)/torch.sqrt(xvar + self.eps) # normalize to unit variance\n",
    "        self.out = self.gamma * xhat + self.beta\n",
    "\n",
    "        #update the buffers\n",
    "        if self.training:\n",
    "            with torch.no_grad():\n",
    "                self.running_mean = (1 - self.momentum) * self.running_mean + self.momentum * xmean\n",
    "                self.running_var = (1 - self.momentum) * self.running_var + self.momentum * xvar\n",
    "\n",
    "        return self.out\n",
    "\n",
    "    def parameters(self):\n",
    "        return [self.gamma, self.beta]\n",
    "    \n",
    "    def eval():\n",
    "        self.training = False\n",
    "\n",
    "'''\n",
    "In the previous lecture, we developed this crazy layer,\n",
    "and what's particularly interesting about it is a few things.\n",
    "\n",
    "First, it has running mean and variance values that are trained\n",
    "outside of backpropagation, using exponential moving averages\n",
    "during the forward pass.\n",
    "\n",
    "Additionally, there's a training flag because the behavior\n",
    "of batch normalization changes between training and evaluation,\n",
    "so we need to ensure it's in the correct state—\n",
    "either training or evaluation.\n",
    "\n",
    "This often introduces bugs if you forget to set it properly.\n",
    "We also saw that batch normalization couples the activations\n",
    "across examples in the batch, which is unusual because\n",
    "we typically think of the batch as just an efficiency mechanism.\n",
    "\n",
    "But now, the computation is linked across batch elements\n",
    "to control the normalization statistics.\n",
    "\n",
    "This layer is quite weird and prone to bugs, partly because\n",
    "of the need to handle the training and evaluation phases,\n",
    "and also because you have to wait for the mean and variance\n",
    "to stabilize.\n",
    "\n",
    "Essentially, there's state in this layer, and state is usually harmful.\n",
    "'''\n",
    "\n",
    "#---------------------------------------------------------------------\n",
    "class Tanh:\n",
    "    def __call__(self, x):\n",
    "        self.out = torch.tanh(x)\n",
    "        return self.out\n",
    "\n",
    "    def parameters(self):\n",
    "        return []\n",
    "\n",
    "#---------------------------------------------------------------------\n",
    "\n",
    "class Embedding:\n",
    "\n",
    "    def __init__(self, num_embeddings, embedding_dim):\n",
    "        self.weight = torch.randn((num_embeddings, embedding_dim))\n",
    "\n",
    "    def __call__(self, IX):\n",
    "        self.out = self.weight[IX]\n",
    "        return self.out\n",
    "\n",
    "    def parameters(self):\n",
    "        return [self.weight]\n",
    "\n",
    "#--------------------------------------------------------------------\n",
    "\n",
    "class FlattenConsecutive:\n",
    "    def __init__(self, n):#n denotes - the number of elements that are consecutive that we would like to concatenate now in the last dimension of the output flatten received\n",
    "        self.n = n\n",
    "        \n",
    "    def __call__(self, x):\n",
    "        B, T, C = x.shape#T is block size, B is batch size and C is the n_embd\n",
    "        x = x.view(B, T//self.n, C*self.n)#What if T is not divisible by n? - We ensure that T is divisible by n, if T == n: then, T//n = 1 - he is calling it a spurrious dimension\n",
    "        if x.shape[1] == 1:\n",
    "            x = x.squeeze(1)\n",
    "        self.out = x\n",
    "        return self.out\n",
    "\n",
    "    def parameters(self):\n",
    "        return []\n",
    "\n",
    "#-----------------------------------------------------------------------\n",
    "\n",
    "class Flatten:\n",
    "    def __call__(self, x):\n",
    "        self.out = x.view(x.shape[0], -1)\n",
    "        return self.out\n",
    "\n",
    "    def parameters(self):\n",
    "        return []\n",
    "\n",
    "#--------------------------------------------------------------------\n",
    "\n",
    "class Sequential:\n",
    "\n",
    "    def __init__(self, layers):\n",
    "        self.layers = layers\n",
    "\n",
    "    def __call__(self, x):\n",
    "        for layer in self.layers:\n",
    "            x = layer(x)\n",
    "        self.out = x\n",
    "        return self.out\n",
    "        \n",
    "    def parameters(self):\n",
    "        #get parameter\n",
    "        return [p for layer in self.layers for p in layer.parameters()]"
   ]
  },
  {
   "cell_type": "code",
   "execution_count": 247,
   "id": "af3aa587-4595-47e1-8868-380e0e2ac3a1",
   "metadata": {},
   "outputs": [
    {
     "name": "stdout",
     "output_type": "stream",
     "text": [
      "22097\n"
     ]
    }
   ],
   "source": [
    "n_embd = 10\n",
    "n_hidden = 200\n",
    "\n",
    "model = Sequential([\n",
    "    Embedding(vocab_size, n_embd),\n",
    "    FlattenConsecutive(block_size),#FlattenConsecutive(8) is equivalent to Flatten()\n",
    "    Linear(n_embd*block_size, n_hidden, bias=False), BatchNorm1d(n_hidden), Tanh(),\n",
    "    Linear(n_hidden, vocab_size)\n",
    "])\n",
    "\n",
    "#parameter init\n",
    "with torch.no_grad():\n",
    "    model.layers[-1].weight *= 0.1\n",
    "\n",
    "parameters = model.parameters()\n",
    "print(sum(p.nelement() for p in parameters))\n",
    "\n",
    "####IMP STEP######\n",
    "for p in parameters:\n",
    "    p.requires_grad = True"
   ]
  },
  {
   "cell_type": "code",
   "execution_count": 248,
   "id": "fc37b884-4fd2-42d4-a7cb-9088251db3f7",
   "metadata": {},
   "outputs": [
    {
     "name": "stdout",
     "output_type": "stream",
     "text": [
      "torch.Size([4, 8])\n",
      "tensor([[ 0,  0,  0,  0,  0,  0,  0,  7],\n",
      "        [ 0,  0,  0,  0,  0,  0,  0,  0],\n",
      "        [ 0,  0,  0,  0,  0,  1, 26,  1],\n",
      "        [ 0,  0,  0, 10,  1, 19, 13, 25]])\n"
     ]
    }
   ],
   "source": [
    "ix = torch.randint(0, Xtr.shape[0], (4,)) #let's look at a batch of just 4 examples\n",
    "Xb, Yb = Xtr[ix], Ytr[ix]\n",
    "logits = model(Xb)\n",
    "print(Xb.shape)\n",
    "print(Xb)"
   ]
  },
  {
   "cell_type": "code",
   "execution_count": 250,
   "id": "e398ad51-d048-4967-8386-b8274ab77594",
   "metadata": {},
   "outputs": [
    {
     "name": "stdout",
     "output_type": "stream",
     "text": [
      "Embedding : (4, 8, 10)\n",
      "FlattenConsecutive : (4, 80)\n",
      "Linear : (4, 200)\n",
      "BatchNorm1d : (4, 200)\n",
      "Tanh : (4, 200)\n",
      "Linear : (4, 27)\n"
     ]
    }
   ],
   "source": [
    "for layer in model.layers:\n",
    "    print(layer.__class__.__name__, ':', tuple(layer.out.shape))"
   ]
  },
  {
   "cell_type": "markdown",
   "id": "57acd19b-f98f-4482-84dc-91e4f4d61309",
   "metadata": {},
   "source": [
    "As we have verified it, let's see the hierarchical thing in action now!"
   ]
  },
  {
   "cell_type": "code",
   "execution_count": 256,
   "id": "bbc04b04-a9b3-4f77-ac90-09c1ed887519",
   "metadata": {},
   "outputs": [
    {
     "name": "stdout",
     "output_type": "stream",
     "text": [
      "170897\n"
     ]
    }
   ],
   "source": [
    "n_embd = 10\n",
    "n_hidden = 200\n",
    "\n",
    "model = Sequential([\n",
    "    Embedding(vocab_size, n_embd),\n",
    "    FlattenConsecutive(2),Linear(n_embd*2, n_hidden, bias=False), BatchNorm1d(n_hidden), Tanh(),\n",
    "    FlattenConsecutive(2),Linear(n_hidden*2, n_hidden, bias=False), BatchNorm1d(n_hidden), Tanh(),\n",
    "    FlattenConsecutive(2),Linear(n_hidden*2, n_hidden, bias=False), BatchNorm1d(n_hidden), Tanh(),\n",
    "    Linear(n_hidden, vocab_size)\n",
    "])\n",
    "\n",
    "#parameter init\n",
    "with torch.no_grad():\n",
    "    model.layers[-1].weight *= 0.1\n",
    "\n",
    "parameters = model.parameters()\n",
    "print(sum(p.nelement() for p in parameters))\n",
    "\n",
    "####IMP STEP######\n",
    "for p in parameters:\n",
    "    p.requires_grad = True"
   ]
  },
  {
   "cell_type": "code",
   "execution_count": 257,
   "id": "5cf5d7bd-5f5b-4403-8677-27034e73ad48",
   "metadata": {},
   "outputs": [
    {
     "name": "stdout",
     "output_type": "stream",
     "text": [
      "torch.Size([4, 8])\n",
      "tensor([[ 0,  0,  0,  0,  0,  0,  0,  0],\n",
      "        [ 0,  0,  0,  0,  0, 23,  1, 12],\n",
      "        [ 0,  0,  0, 13,  5, 14,  4, 25],\n",
      "        [ 0,  0,  0,  0, 13,  1, 14, 15]])\n"
     ]
    }
   ],
   "source": [
    "ix = torch.randint(0, Xtr.shape[0], (4,)) #let's look at a batch of just 4 examples\n",
    "Xb, Yb = Xtr[ix], Ytr[ix]\n",
    "logits = model(Xb)\n",
    "print(Xb.shape)\n",
    "print(Xb)"
   ]
  },
  {
   "cell_type": "code",
   "execution_count": 258,
   "id": "c417dda5-3d39-46ca-9fc7-b19f935c59a5",
   "metadata": {},
   "outputs": [
    {
     "name": "stdout",
     "output_type": "stream",
     "text": [
      "Embedding : (4, 8, 10)\n",
      "FlattenConsecutive : (4, 4, 20)\n",
      "Linear : (4, 4, 200)\n",
      "BatchNorm1d : (4, 4, 200)\n",
      "Tanh : (4, 4, 200)\n",
      "FlattenConsecutive : (4, 2, 400)\n",
      "Linear : (4, 2, 200)\n",
      "BatchNorm1d : (4, 2, 200)\n",
      "Tanh : (4, 2, 200)\n",
      "FlattenConsecutive : (4, 400)\n",
      "Linear : (4, 200)\n",
      "BatchNorm1d : (4, 200)\n",
      "Tanh : (4, 200)\n",
      "Linear : (4, 27)\n"
     ]
    }
   ],
   "source": [
    "for layer in model.layers:\n",
    "    print(layer.__class__.__name__, ':', tuple(layer.out.shape))"
   ]
  },
  {
   "cell_type": "code",
   "execution_count": 254,
   "id": "95404a26-e412-4e83-89a7-871a34b2a8ac",
   "metadata": {},
   "outputs": [
    {
     "name": "stdout",
     "output_type": "stream",
     "text": [
      "251297\n"
     ]
    }
   ],
   "source": [
    "n_embd = 10\n",
    "n_hidden = 200\n",
    "\n",
    "model = Sequential([\n",
    "    Embedding(vocab_size, n_embd),\n",
    "    FlattenConsecutive(2),Linear(n_embd*2, n_hidden, bias=False), BatchNorm1d(n_hidden), Tanh(),\n",
    "    FlattenConsecutive(2),Linear(n_hidden*2, n_hidden, bias=False), BatchNorm1d(n_hidden), Tanh(),\n",
    "    FlattenConsecutive(2),Linear(n_hidden*2, n_hidden, bias=False), BatchNorm1d(n_hidden), Tanh(),\n",
    "    FlattenConsecutive(2),Linear(n_hidden*2, n_hidden, bias=False), BatchNorm1d(n_hidden), Tanh(),# WIll give error since, after squeeze happens, this won't work anymore\n",
    "    Linear(n_hidden, vocab_size)\n",
    "])\n",
    "\n",
    "#parameter init\n",
    "with torch.no_grad():\n",
    "    model.layers[-1].weight *= 0.1\n",
    "\n",
    "parameters = model.parameters()\n",
    "print(sum(p.nelement() for p in parameters))\n",
    "\n",
    "####IMP STEP######\n",
    "for p in parameters:\n",
    "    p.requires_grad = True"
   ]
  },
  {
   "cell_type": "code",
   "execution_count": 255,
   "id": "fd427e4b-1900-48ed-b31f-5a3b951dd8bf",
   "metadata": {},
   "outputs": [
    {
     "ename": "ValueError",
     "evalue": "not enough values to unpack (expected 3, got 2)",
     "output_type": "error",
     "traceback": [
      "\u001b[0;31m---------------------------------------------------------------------------\u001b[0m",
      "\u001b[0;31mValueError\u001b[0m                                Traceback (most recent call last)",
      "Cell \u001b[0;32mIn[255], line 3\u001b[0m\n\u001b[1;32m      1\u001b[0m ix \u001b[38;5;241m=\u001b[39m torch\u001b[38;5;241m.\u001b[39mrandint(\u001b[38;5;241m0\u001b[39m, Xtr\u001b[38;5;241m.\u001b[39mshape[\u001b[38;5;241m0\u001b[39m], (\u001b[38;5;241m4\u001b[39m,)) \u001b[38;5;66;03m#let's look at a batch of just 4 examples\u001b[39;00m\n\u001b[1;32m      2\u001b[0m Xb, Yb \u001b[38;5;241m=\u001b[39m Xtr[ix], Ytr[ix]\n\u001b[0;32m----> 3\u001b[0m logits \u001b[38;5;241m=\u001b[39m \u001b[43mmodel\u001b[49m\u001b[43m(\u001b[49m\u001b[43mXb\u001b[49m\u001b[43m)\u001b[49m\n\u001b[1;32m      4\u001b[0m \u001b[38;5;28mprint\u001b[39m(Xb\u001b[38;5;241m.\u001b[39mshape)\n\u001b[1;32m      5\u001b[0m \u001b[38;5;28mprint\u001b[39m(Xb)\n",
      "Cell \u001b[0;32mIn[245], line 147\u001b[0m, in \u001b[0;36mSequential.__call__\u001b[0;34m(self, x)\u001b[0m\n\u001b[1;32m    145\u001b[0m \u001b[38;5;28;01mdef\u001b[39;00m \u001b[38;5;21m__call__\u001b[39m(\u001b[38;5;28mself\u001b[39m, x):\n\u001b[1;32m    146\u001b[0m     \u001b[38;5;28;01mfor\u001b[39;00m layer \u001b[38;5;129;01min\u001b[39;00m \u001b[38;5;28mself\u001b[39m\u001b[38;5;241m.\u001b[39mlayers:\n\u001b[0;32m--> 147\u001b[0m         x \u001b[38;5;241m=\u001b[39m \u001b[43mlayer\u001b[49m\u001b[43m(\u001b[49m\u001b[43mx\u001b[49m\u001b[43m)\u001b[49m\n\u001b[1;32m    148\u001b[0m     \u001b[38;5;28mself\u001b[39m\u001b[38;5;241m.\u001b[39mout \u001b[38;5;241m=\u001b[39m x\n\u001b[1;32m    149\u001b[0m     \u001b[38;5;28;01mreturn\u001b[39;00m \u001b[38;5;28mself\u001b[39m\u001b[38;5;241m.\u001b[39mout\n",
      "Cell \u001b[0;32mIn[245], line 118\u001b[0m, in \u001b[0;36mFlattenConsecutive.__call__\u001b[0;34m(self, x)\u001b[0m\n\u001b[1;32m    117\u001b[0m \u001b[38;5;28;01mdef\u001b[39;00m \u001b[38;5;21m__call__\u001b[39m(\u001b[38;5;28mself\u001b[39m, x):\n\u001b[0;32m--> 118\u001b[0m     B, T, C \u001b[38;5;241m=\u001b[39m x\u001b[38;5;241m.\u001b[39mshape\u001b[38;5;66;03m#T is block size, B is batch size and C is the n_embd\u001b[39;00m\n\u001b[1;32m    119\u001b[0m     x \u001b[38;5;241m=\u001b[39m x\u001b[38;5;241m.\u001b[39mview(B, T\u001b[38;5;241m/\u001b[39m\u001b[38;5;241m/\u001b[39m\u001b[38;5;28mself\u001b[39m\u001b[38;5;241m.\u001b[39mn, C\u001b[38;5;241m*\u001b[39m\u001b[38;5;28mself\u001b[39m\u001b[38;5;241m.\u001b[39mn)\u001b[38;5;66;03m#What if T is not divisible by n? - We ensure that T is divisible by n, if T == n: then, T//n = 1 - he is calling it a spurrious dimension\u001b[39;00m\n\u001b[1;32m    120\u001b[0m     \u001b[38;5;28;01mif\u001b[39;00m x\u001b[38;5;241m.\u001b[39mshape[\u001b[38;5;241m1\u001b[39m] \u001b[38;5;241m==\u001b[39m \u001b[38;5;241m1\u001b[39m:\n",
      "\u001b[0;31mValueError\u001b[0m: not enough values to unpack (expected 3, got 2)"
     ]
    }
   ],
   "source": [
    "ix = torch.randint(0, Xtr.shape[0], (4,)) #let's look at a batch of just 4 examples\n",
    "Xb, Yb = Xtr[ix], Ytr[ix]\n",
    "logits = model(Xb)\n",
    "print(Xb.shape)\n",
    "print(Xb)"
   ]
  },
  {
   "cell_type": "markdown",
   "id": "8f06587a-1b53-432f-bb1b-73c1d436088f",
   "metadata": {},
   "source": [
    "In order to perform comparison - regarding how much improvement has FlattenConsecutive brought up compared to earlier model with block size = 8, we first should note that there we had 22K parameters, whereas here we are having 170K parameters currently, so we should choose such a n_hidden that the number of parameters between both architectures are comparable to do a fair comparison between their performances!<br>\n",
    "\n",
    "With n_hidden = 68, we get comparable number of parameters (after trying out many values)"
   ]
  },
  {
   "cell_type": "code",
   "execution_count": 274,
   "id": "94330065-137e-4f1b-b259-c2587e971f9e",
   "metadata": {},
   "outputs": [
    {
     "name": "stdout",
     "output_type": "stream",
     "text": [
      "22397\n"
     ]
    }
   ],
   "source": [
    "n_embd = 10\n",
    "n_hidden = 68\n",
    "\n",
    "model = Sequential([\n",
    "    Embedding(vocab_size, n_embd),\n",
    "    FlattenConsecutive(2),Linear(n_embd*2, n_hidden, bias=False), BatchNorm1d(n_hidden), Tanh(),\n",
    "    FlattenConsecutive(2),Linear(n_hidden*2, n_hidden, bias=False), BatchNorm1d(n_hidden), Tanh(),\n",
    "    FlattenConsecutive(2),Linear(n_hidden*2, n_hidden, bias=False), BatchNorm1d(n_hidden), Tanh(),\n",
    "    Linear(n_hidden, vocab_size)\n",
    "])\n",
    "\n",
    "#parameter init\n",
    "with torch.no_grad():\n",
    "    model.layers[-1].weight *= 0.1\n",
    "\n",
    "parameters = model.parameters()\n",
    "print(sum(p.nelement() for p in parameters))\n",
    "\n",
    "####IMP STEP######\n",
    "for p in parameters:\n",
    "    p.requires_grad = True"
   ]
  },
  {
   "cell_type": "code",
   "execution_count": 275,
   "id": "0da080a7-72be-4e2f-8fdd-b35d64948e56",
   "metadata": {},
   "outputs": [
    {
     "name": "stdout",
     "output_type": "stream",
     "text": [
      "      0/ 200000: 3.2940\n",
      "  10000/ 200000: 2.1144\n",
      "  20000/ 200000: 2.3360\n",
      "  30000/ 200000: 1.9287\n",
      "  40000/ 200000: 2.2959\n",
      "  50000/ 200000: 1.9733\n",
      "  60000/ 200000: 2.1553\n",
      "  70000/ 200000: 2.3056\n",
      "  80000/ 200000: 2.2075\n",
      "  90000/ 200000: 1.9163\n",
      " 100000/ 200000: 2.0340\n",
      " 110000/ 200000: 1.6178\n",
      " 120000/ 200000: 1.7981\n",
      " 130000/ 200000: 1.5063\n",
      " 140000/ 200000: 2.2363\n",
      " 150000/ 200000: 1.9261\n",
      " 160000/ 200000: 1.7227\n",
      " 170000/ 200000: 1.8187\n",
      " 180000/ 200000: 2.1663\n",
      " 190000/ 200000: 1.9283\n"
     ]
    }
   ],
   "source": [
    "epochs = 200000\n",
    "batch_size = 32\n",
    "lossi = []\n",
    "\n",
    "for i in range(epochs):\n",
    "    #minibatch construct\n",
    "    ix = torch.randint(0, Xtr.shape[0], (batch_size, ))\n",
    "    Xb = Xtr[ix]\n",
    "    yb = Ytr[ix]\n",
    "\n",
    "    logits = model(Xb)\n",
    "    loss = F.cross_entropy(logits, yb) #loss function\n",
    "\n",
    "    #backward pass\n",
    "    for p in parameters:\n",
    "        p.grad = None\n",
    "    loss.backward()\n",
    "\n",
    "    #update: simple SGD\n",
    "    lr = 0.1 if i < 150000 else 0.01 #step learning rate decay\n",
    "    for p in parameters:\n",
    "            p.data += -lr * p.grad\n",
    "\n",
    "    #track stats\n",
    "    if i%10000 == 0: #print every once in a while\n",
    "        print(f'{i:7d}/{epochs:7d}: {loss.item():.4f}')\n",
    "    lossi.append(loss.log10().item())\n"
   ]
  },
  {
   "cell_type": "code",
   "execution_count": 276,
   "id": "5a721308-83eb-48de-92ed-3a556519a2d6",
   "metadata": {},
   "outputs": [
    {
     "name": "stdout",
     "output_type": "stream",
     "text": [
      "Embedding : (32, 8, 10)\n",
      "FlattenConsecutive : (32, 4, 20)\n",
      "Linear : (32, 4, 68)\n",
      "BatchNorm1d : (32, 4, 68)\n",
      "Tanh : (32, 4, 68)\n",
      "FlattenConsecutive : (32, 2, 136)\n",
      "Linear : (32, 2, 68)\n",
      "BatchNorm1d : (32, 2, 68)\n",
      "Tanh : (32, 2, 68)\n",
      "FlattenConsecutive : (32, 136)\n",
      "Linear : (32, 68)\n",
      "BatchNorm1d : (32, 68)\n",
      "Tanh : (32, 68)\n",
      "Linear : (32, 27)\n"
     ]
    }
   ],
   "source": [
    "for layer in model.layers:\n",
    "    print(layer.__class__.__name__, ':', tuple(layer.out.shape))"
   ]
  },
  {
   "cell_type": "code",
   "execution_count": 286,
   "id": "b61c8403-2175-45c8-a146-1ef8bcf31230",
   "metadata": {},
   "outputs": [
    {
     "data": {
      "text/plain": [
       "torch.Size([32, 4, 68])"
      ]
     },
     "execution_count": 286,
     "metadata": {},
     "output_type": "execute_result"
    }
   ],
   "source": [
    "e = torch.randn(32, 4, 68)\n",
    "emean = e.mean(0, keepdim=True) #1, 4, 68\n",
    "evar = e.var(0, keepdim=True) #1, 4, 68\n",
    "ehat = (e - emean) / torch.sqrt(evar + 1e-5) #32, 4, 68\n",
    "ehat.shape"
   ]
  },
  {
   "cell_type": "code",
   "execution_count": 287,
   "id": "9cd40c60-9031-4542-b68a-4b2c26e4c405",
   "metadata": {},
   "outputs": [
    {
     "data": {
      "text/plain": [
       "torch.Size([1, 4, 68])"
      ]
     },
     "execution_count": 287,
     "metadata": {},
     "output_type": "execute_result"
    }
   ],
   "source": [
    "emean.shape"
   ]
  },
  {
   "cell_type": "code",
   "execution_count": 288,
   "id": "31e6f4bd-904d-4bae-b0f5-d123ffb99494",
   "metadata": {},
   "outputs": [
    {
     "data": {
      "text/plain": [
       "torch.Size([1, 4, 68])"
      ]
     },
     "execution_count": 288,
     "metadata": {},
     "output_type": "execute_result"
    }
   ],
   "source": [
    "model.layers[3].running_mean.shape"
   ]
  },
  {
   "cell_type": "code",
   "execution_count": 289,
   "id": "702c90e6-3485-4ece-af8d-93988fdf71ed",
   "metadata": {},
   "outputs": [
    {
     "data": {
      "text/plain": [
       "torch.Size([32, 4, 68])"
      ]
     },
     "execution_count": 289,
     "metadata": {},
     "output_type": "execute_result"
    }
   ],
   "source": [
    "e = torch.randn(32, 4, 68)\n",
    "emean = e.mean((0,1), keepdim=True) #1, 4, 68\n",
    "evar = e.var((0,1), keepdim=True) #1, 4, 68\n",
    "ehat = (e - emean) / torch.sqrt(evar + 1e-5) #32, 4, 68\n",
    "ehat.shape"
   ]
  },
  {
   "cell_type": "code",
   "execution_count": 290,
   "id": "229b72b4-8f14-48f8-9b57-d973a8342af1",
   "metadata": {},
   "outputs": [
    {
     "data": {
      "text/plain": [
       "torch.Size([1, 1, 68])"
      ]
     },
     "execution_count": 290,
     "metadata": {},
     "output_type": "execute_result"
    }
   ],
   "source": [
    "emean.shape"
   ]
  },
  {
   "cell_type": "code",
   "execution_count": 291,
   "id": "027d49f9-3546-494d-9750-eda07f4625e2",
   "metadata": {},
   "outputs": [
    {
     "data": {
      "text/plain": [
       "torch.Size([1, 4, 68])"
      ]
     },
     "execution_count": 291,
     "metadata": {},
     "output_type": "execute_result"
    }
   ],
   "source": [
    "model.layers[3].running_mean.shape"
   ]
  },
  {
   "cell_type": "markdown",
   "id": "f775857e-4fc8-4b5d-a78a-525cb92b4e95",
   "metadata": {},
   "source": [
    "Andrej has given some sort of intuition on why the earlier batchnorm1d doesn't work well on our 3 dimensional inputs and then also introduced a fix to it (which I haven't completely understood)!<br>\n",
    "We will first evaluate this model now and then, try to modify BatchNorm1d to work well for this!<br>"
   ]
  },
  {
   "cell_type": "code",
   "execution_count": 292,
   "id": "a483a106-afeb-4206-a18b-160ff0f2d98e",
   "metadata": {},
   "outputs": [],
   "source": [
    "for layer in model.layers:\n",
    "    layer.training = False"
   ]
  },
  {
   "cell_type": "code",
   "execution_count": 293,
   "id": "dae6895c-f8ed-4192-a1c7-2f0694c110a9",
   "metadata": {},
   "outputs": [
    {
     "name": "stdout",
     "output_type": "stream",
     "text": [
      "train 1.8917455673217773\n",
      "val 2.2528269290924072\n"
     ]
    }
   ],
   "source": [
    "#evaluate the loss\n",
    "@torch.no_grad()\n",
    "def split_loss(split):\n",
    "    x, y = {\n",
    "        'train': (Xtr, Ytr),\n",
    "        'val': (Xdev, Ydev),\n",
    "        'test': (Xte, Yte),\n",
    "    }[split]\n",
    "    #emb = C[x] #(N, block_size, n_embd)\n",
    "    #x = emb.view(emb.shape[0], -1) #concat into (N, block_size * n_embd)\n",
    "    #for layer in layers:\n",
    "    #    x = layer(x)\n",
    "    x = model(x)\n",
    "    loss = F.cross_entropy(x, y)\n",
    "    print(split, loss.item())\n",
    "\n",
    "split_loss('train')\n",
    "split_loss('val')"
   ]
  },
  {
   "cell_type": "markdown",
   "id": "60b4efa6-9ef6-42ae-a3a1-3e63709053eb",
   "metadata": {},
   "source": [
    "### Performance Log:\n",
    "* original(3 character context + 200 hidden neurons, 12K params): train 2.01, val: 2.3\n",
    "* context: 3 -> 8 (22K params): train 1.86 and val 2.24\n",
    "* flat -> hierarchical(22K params): train 1.89 and val 2.25"
   ]
  },
  {
   "cell_type": "code",
   "execution_count": 294,
   "id": "cae6f1a6-d6f1-4ac3-845a-3751a6e92e2d",
   "metadata": {},
   "outputs": [
    {
     "name": "stdout",
     "output_type": "stream",
     "text": [
      "jaymina.\n",
      "jakari.\n",
      "lubir.\n",
      "matharie.\n",
      "alaina.\n",
      "daxtyn.\n",
      "jennah.\n",
      "frahleigh.\n",
      "paite.\n",
      "marlyndal.\n",
      "olaria.\n",
      "benty.\n",
      "willah.\n",
      "isvale.\n",
      "kada.\n",
      "tatur.\n",
      "jeniise.\n",
      "jaylynn.\n",
      "adaia.\n",
      "minsa.\n"
     ]
    }
   ],
   "source": [
    "#sample from model\n",
    "\n",
    "for _ in range(20):#want to generate 20 samples\n",
    "\n",
    "    out = []\n",
    "    context = [0] * block_size #initialize with all ...\n",
    "    while True:\n",
    "        logits = model(torch.tensor(context).view(1,-1))\n",
    "        #logits = model(torch.tensor([context]))\n",
    "        probs = F.softmax(logits, dim=1)\n",
    "        #sample from the distribution\n",
    "        #print(probs)\n",
    "        ix = torch.multinomial(probs, num_samples=1).item()\n",
    "\n",
    "        #shift the context window and track the samples\n",
    "        context = context[1:] + [ix]\n",
    "        out.append(ix)\n",
    "        #if we sample the special '.' token, break\n",
    "        if ix == 0:\n",
    "            break\n",
    "\n",
    "    print(''.join(itoc[i] for i in out))\n",
    "        "
   ]
  },
  {
   "cell_type": "markdown",
   "id": "20375055-16ba-4d29-a06d-685bf7c7f94b",
   "metadata": {},
   "source": [
    "Andrej got same results as the previous ones XD!!<br>\n",
    "My run also gave me same validation loss and slightly worse train loss - Is this FlattenConsecutive good for nothing?<br>\n",
    "\n",
    "He pointed that, we might not be using best configuration (i.e. doing proper allocation of the parameters across the mentioned layers)!<br>\n",
    "He also pointed out that there might be a bug in BN layer! - Cuz it does run, but does it do the right thing?<br>\n",
    "Since, we build it keeping in mind 2D tensors will be fed to it (n * d where, n is nth sample in batch and d is its dimension)<br>"
   ]
  },
  {
   "cell_type": "code",
   "execution_count": 295,
   "id": "901155ff-e447-4fe3-b647-65fa515416b7",
   "metadata": {},
   "outputs": [
    {
     "name": "stdout",
     "output_type": "stream",
     "text": [
      "Embedding : (1, 8, 10)\n",
      "FlattenConsecutive : (1, 4, 20)\n",
      "Linear : (1, 4, 68)\n",
      "BatchNorm1d : (1, 4, 68)\n",
      "Tanh : (1, 4, 68)\n",
      "FlattenConsecutive : (1, 2, 136)\n",
      "Linear : (1, 2, 68)\n",
      "BatchNorm1d : (1, 2, 68)\n",
      "Tanh : (1, 2, 68)\n",
      "FlattenConsecutive : (1, 136)\n",
      "Linear : (1, 68)\n",
      "BatchNorm1d : (1, 68)\n",
      "Tanh : (1, 68)\n",
      "Linear : (1, 27)\n"
     ]
    }
   ],
   "source": [
    "for layer in model.layers:\n",
    "    print(layer.__class__.__name__, ':', tuple(layer.out.shape))"
   ]
  },
  {
   "cell_type": "code",
   "execution_count": 296,
   "id": "0ad35790-906e-452b-b99b-e0cebeeee3b9",
   "metadata": {},
   "outputs": [],
   "source": [
    "#Near copy paste of the layers we have developed in Part 3\n",
    "\n",
    "#--------------------------------------------------------------------------\n",
    "class Linear:\n",
    "\n",
    "    def __init__(self, fan_in, fan_out, bias=True):\n",
    "        self.weight = torch.randn((fan_in, fan_out)) / fan_in**0.5 #note: kaiming init\n",
    "        self.bias = torch.zeros(fan_out) if bias else None\n",
    "\n",
    "    def __call__(self, x):\n",
    "        self.out = x @ self.weight\n",
    "        if self.bias is not None:\n",
    "            self.out += self.bias\n",
    "        return self.out\n",
    "\n",
    "    def parameters(self):\n",
    "        return [self.weight] + ([] if self.bias is None else [self.bias])\n",
    "\n",
    "#-------------------------------------------------------------------------\n",
    "\n",
    "class BatchNorm1d:\n",
    "    \n",
    "    def __init__(self, dim, eps=1e-5, momentum=0.1):\n",
    "        self.eps = eps\n",
    "        self.momentum = momentum\n",
    "        self.training = True\n",
    "        #parameters (trained with backprop)\n",
    "        self.gamma = torch.ones(dim) #Scaling factor\n",
    "        self.beta = torch.zeros(dim) #Bias factor\n",
    "        #buffers (trained with a running 'momentum update')\n",
    "        self.running_mean = torch.zeros(dim)\n",
    "        self.running_var = torch.ones(dim)\n",
    "\n",
    "    def __call__(self, x):\n",
    "        #if calculate the forward pass\n",
    "        if self.training:\n",
    "            #MODIFICATION BEING APPLIED HERE - we are starting to depart from the PyTorch API of Batchnorm1d since, the input to it can be : N,C or N,C,L\n",
    "            #where C is number of features and L is the sequence length so, technically only allowing 2 dim input - https://pytorch.org/docs/stable/generated/torch.nn.BatchNorm1d.html\n",
    "            #PyTorch assumes that C will always assume dim = 1, here, in our implementation of FlattenConsecutive : We have also saw that the batch getting split over first 2 dims i.e.\n",
    "            #N,L,C types input - which is where batchnorm1d won't work well\n",
    "            if x.ndim == 2:\n",
    "                dim = 0\n",
    "            elif x.ndim == 3:\n",
    "                dim = (0,1)\n",
    "            xmean = x.mean(dim, keepdim=True)\n",
    "            xvar = x.var(dim, keepdim=True)\n",
    "            #xmean = x.mean(0, keepdim=True)\n",
    "            #xvar = x.var(0, keepdim=True)\n",
    "        else:\n",
    "            xmean = self.running_mean\n",
    "            xvar = self.running_var\n",
    "        xhat = (x - xmean)/torch.sqrt(xvar + self.eps) # normalize to unit variance\n",
    "        self.out = self.gamma * xhat + self.beta\n",
    "\n",
    "        #update the buffers\n",
    "        if self.training:\n",
    "            with torch.no_grad():\n",
    "                self.running_mean = (1 - self.momentum) * self.running_mean + self.momentum * xmean\n",
    "                self.running_var = (1 - self.momentum) * self.running_var + self.momentum * xvar\n",
    "\n",
    "        return self.out\n",
    "\n",
    "    def parameters(self):\n",
    "        return [self.gamma, self.beta]\n",
    "    \n",
    "    def eval():\n",
    "        self.training = False\n",
    "\n",
    "'''\n",
    "In the previous lecture, we developed this crazy layer,\n",
    "and what's particularly interesting about it is a few things.\n",
    "\n",
    "First, it has running mean and variance values that are trained\n",
    "outside of backpropagation, using exponential moving averages\n",
    "during the forward pass.\n",
    "\n",
    "Additionally, there's a training flag because the behavior\n",
    "of batch normalization changes between training and evaluation,\n",
    "so we need to ensure it's in the correct state—\n",
    "either training or evaluation.\n",
    "\n",
    "This often introduces bugs if you forget to set it properly.\n",
    "We also saw that batch normalization couples the activations\n",
    "across examples in the batch, which is unusual because\n",
    "we typically think of the batch as just an efficiency mechanism.\n",
    "\n",
    "But now, the computation is linked across batch elements\n",
    "to control the normalization statistics.\n",
    "\n",
    "This layer is quite weird and prone to bugs, partly because\n",
    "of the need to handle the training and evaluation phases,\n",
    "and also because you have to wait for the mean and variance\n",
    "to stabilize.\n",
    "\n",
    "Essentially, there's state in this layer, and state is usually harmful.\n",
    "'''\n",
    "\n",
    "#---------------------------------------------------------------------\n",
    "class Tanh:\n",
    "    def __call__(self, x):\n",
    "        self.out = torch.tanh(x)\n",
    "        return self.out\n",
    "\n",
    "    def parameters(self):\n",
    "        return []\n",
    "\n",
    "#---------------------------------------------------------------------\n",
    "\n",
    "class Embedding:\n",
    "\n",
    "    def __init__(self, num_embeddings, embedding_dim):\n",
    "        self.weight = torch.randn((num_embeddings, embedding_dim))\n",
    "\n",
    "    def __call__(self, IX):\n",
    "        self.out = self.weight[IX]\n",
    "        return self.out\n",
    "\n",
    "    def parameters(self):\n",
    "        return [self.weight]\n",
    "\n",
    "#--------------------------------------------------------------------\n",
    "\n",
    "class FlattenConsecutive:\n",
    "    def __init__(self, n):#n denotes - the number of elements that are consecutive that we would like to concatenate now in the last dimension of the output flatten received\n",
    "        self.n = n\n",
    "        \n",
    "    def __call__(self, x):\n",
    "        B, T, C = x.shape#T is block size, B is batch size and C is the n_embd\n",
    "        x = x.view(B, T//self.n, C*self.n)#What if T is not divisible by n? - We ensure that T is divisible by n, if T == n: then, T//n = 1 - he is calling it a spurrious dimension\n",
    "        if x.shape[1] == 1:\n",
    "            x = x.squeeze(1)\n",
    "        self.out = x\n",
    "        return self.out\n",
    "\n",
    "    def parameters(self):\n",
    "        return []\n",
    "\n",
    "#-----------------------------------------------------------------------\n",
    "\n",
    "class Flatten:\n",
    "    def __call__(self, x):\n",
    "        self.out = x.view(x.shape[0], -1)\n",
    "        return self.out\n",
    "\n",
    "    def parameters(self):\n",
    "        return []\n",
    "\n",
    "#--------------------------------------------------------------------\n",
    "\n",
    "class Sequential:\n",
    "\n",
    "    def __init__(self, layers):\n",
    "        self.layers = layers\n",
    "\n",
    "    def __call__(self, x):\n",
    "        for layer in self.layers:\n",
    "            x = layer(x)\n",
    "        self.out = x\n",
    "        return self.out\n",
    "        \n",
    "    def parameters(self):\n",
    "        #get parameter\n",
    "        return [p for layer in self.layers for p in layer.parameters()]"
   ]
  },
  {
   "cell_type": "code",
   "execution_count": 301,
   "id": "bb219847-1cbc-47c1-b121-d396f21610fb",
   "metadata": {},
   "outputs": [
    {
     "name": "stdout",
     "output_type": "stream",
     "text": [
      "22397\n"
     ]
    }
   ],
   "source": [
    "n_embd = 10\n",
    "n_hidden = 68\n",
    "\n",
    "model = Sequential([\n",
    "    Embedding(vocab_size, n_embd),\n",
    "    FlattenConsecutive(2),Linear(n_embd*2, n_hidden, bias=False), BatchNorm1d(n_hidden), Tanh(),\n",
    "    FlattenConsecutive(2),Linear(n_hidden*2, n_hidden, bias=False), BatchNorm1d(n_hidden), Tanh(),\n",
    "    FlattenConsecutive(2),Linear(n_hidden*2, n_hidden, bias=False), BatchNorm1d(n_hidden), Tanh(),\n",
    "    Linear(n_hidden, vocab_size)\n",
    "])\n",
    "\n",
    "#parameter init\n",
    "with torch.no_grad():\n",
    "    model.layers[-1].weight *= 0.1\n",
    "\n",
    "parameters = model.parameters()\n",
    "print(sum(p.nelement() for p in parameters))\n",
    "\n",
    "####IMP STEP######\n",
    "for p in parameters:\n",
    "    p.requires_grad = True"
   ]
  },
  {
   "cell_type": "code",
   "execution_count": 302,
   "id": "0aea20dd-61ec-4c40-9737-9240140bb002",
   "metadata": {},
   "outputs": [
    {
     "name": "stdout",
     "output_type": "stream",
     "text": [
      "      0/ 200000: 3.3010\n",
      "  10000/ 200000: 2.1544\n",
      "  20000/ 200000: 2.1841\n",
      "  30000/ 200000: 2.2807\n",
      "  40000/ 200000: 2.3199\n",
      "  50000/ 200000: 1.9062\n",
      "  60000/ 200000: 2.1978\n",
      "  70000/ 200000: 2.1110\n",
      "  80000/ 200000: 2.4103\n",
      "  90000/ 200000: 1.6208\n",
      " 100000/ 200000: 1.5182\n",
      " 110000/ 200000: 2.2659\n",
      " 120000/ 200000: 2.0325\n",
      " 130000/ 200000: 2.3008\n",
      " 140000/ 200000: 1.9854\n",
      " 150000/ 200000: 1.8247\n",
      " 160000/ 200000: 2.0143\n",
      " 170000/ 200000: 1.9166\n",
      " 180000/ 200000: 1.9893\n",
      " 190000/ 200000: 1.9707\n"
     ]
    }
   ],
   "source": [
    "epochs = 200000\n",
    "batch_size = 32\n",
    "lossi = []\n",
    "\n",
    "for i in range(epochs):\n",
    "    #minibatch construct\n",
    "    ix = torch.randint(0, Xtr.shape[0], (batch_size, ))\n",
    "    Xb = Xtr[ix]\n",
    "    yb = Ytr[ix]\n",
    "\n",
    "    logits = model(Xb)\n",
    "    loss = F.cross_entropy(logits, yb) #loss function\n",
    "\n",
    "    #backward pass\n",
    "    for p in parameters:\n",
    "        p.grad = None\n",
    "    loss.backward()\n",
    "\n",
    "    #update: simple SGD\n",
    "    lr = 0.1 if i < 150000 else 0.01 #step learning rate decay\n",
    "    for p in parameters:\n",
    "            p.data += -lr * p.grad\n",
    "\n",
    "    #track stats\n",
    "    if i%10000 == 0: #print every once in a while\n",
    "        print(f'{i:7d}/{epochs:7d}: {loss.item():.4f}')\n",
    "    lossi.append(loss.log10().item())\n",
    "\n",
    "    #break\n"
   ]
  },
  {
   "cell_type": "code",
   "execution_count": 299,
   "id": "ede9a56a-fb53-4ec2-978c-6c39190d2fea",
   "metadata": {},
   "outputs": [
    {
     "name": "stdout",
     "output_type": "stream",
     "text": [
      "Embedding : (32, 8, 10)\n",
      "FlattenConsecutive : (32, 4, 20)\n",
      "Linear : (32, 4, 68)\n",
      "BatchNorm1d : (32, 4, 68)\n",
      "Tanh : (32, 4, 68)\n",
      "FlattenConsecutive : (32, 2, 136)\n",
      "Linear : (32, 2, 68)\n",
      "BatchNorm1d : (32, 2, 68)\n",
      "Tanh : (32, 2, 68)\n",
      "FlattenConsecutive : (32, 136)\n",
      "Linear : (32, 68)\n",
      "BatchNorm1d : (32, 68)\n",
      "Tanh : (32, 68)\n",
      "Linear : (32, 27)\n"
     ]
    }
   ],
   "source": [
    "for layer in model.layers:\n",
    "    print(layer.__class__.__name__, ':', tuple(layer.out.shape))"
   ]
  },
  {
   "cell_type": "code",
   "execution_count": 300,
   "id": "f332d381-ff88-4451-97f2-48ef50ce3f75",
   "metadata": {},
   "outputs": [
    {
     "data": {
      "text/plain": [
       "torch.Size([1, 1, 68])"
      ]
     },
     "execution_count": 300,
     "metadata": {},
     "output_type": "execute_result"
    }
   ],
   "source": [
    "model.layers[3].running_mean.shape"
   ]
  },
  {
   "cell_type": "code",
   "execution_count": 304,
   "id": "04811e63-f067-42be-9cea-bb3dada48efb",
   "metadata": {
    "scrolled": true
   },
   "outputs": [
    {
     "data": {
      "text/plain": [
       "[<matplotlib.lines.Line2D at 0x76780aaf5de0>,\n",
       " <matplotlib.lines.Line2D at 0x7678979ae200>,\n",
       " <matplotlib.lines.Line2D at 0x7678979ae2f0>,\n",
       " <matplotlib.lines.Line2D at 0x7678979ae3e0>,\n",
       " <matplotlib.lines.Line2D at 0x7678979ae4d0>,\n",
       " <matplotlib.lines.Line2D at 0x7678979ae5c0>,\n",
       " <matplotlib.lines.Line2D at 0x7678979ae6b0>,\n",
       " <matplotlib.lines.Line2D at 0x7678979ae7a0>,\n",
       " <matplotlib.lines.Line2D at 0x7678979ae890>,\n",
       " <matplotlib.lines.Line2D at 0x7678979ae980>,\n",
       " <matplotlib.lines.Line2D at 0x7678979ad120>,\n",
       " <matplotlib.lines.Line2D at 0x7678979aea40>,\n",
       " <matplotlib.lines.Line2D at 0x7678979aeb30>,\n",
       " <matplotlib.lines.Line2D at 0x7678979aec20>,\n",
       " <matplotlib.lines.Line2D at 0x7678979aed10>,\n",
       " <matplotlib.lines.Line2D at 0x7678979aee00>,\n",
       " <matplotlib.lines.Line2D at 0x7678979aeef0>,\n",
       " <matplotlib.lines.Line2D at 0x7678979aefe0>,\n",
       " <matplotlib.lines.Line2D at 0x7678979af0d0>,\n",
       " <matplotlib.lines.Line2D at 0x7678979af1c0>,\n",
       " <matplotlib.lines.Line2D at 0x7678979af2b0>,\n",
       " <matplotlib.lines.Line2D at 0x7678979af3a0>,\n",
       " <matplotlib.lines.Line2D at 0x7678979af490>,\n",
       " <matplotlib.lines.Line2D at 0x7678979af580>,\n",
       " <matplotlib.lines.Line2D at 0x7678979af670>,\n",
       " <matplotlib.lines.Line2D at 0x7678979af760>,\n",
       " <matplotlib.lines.Line2D at 0x7678979af850>,\n",
       " <matplotlib.lines.Line2D at 0x7678979af940>,\n",
       " <matplotlib.lines.Line2D at 0x7678979afa30>,\n",
       " <matplotlib.lines.Line2D at 0x7678979afb20>,\n",
       " <matplotlib.lines.Line2D at 0x7678979afc10>,\n",
       " <matplotlib.lines.Line2D at 0x7678979afd00>,\n",
       " <matplotlib.lines.Line2D at 0x7678979afe20>,\n",
       " <matplotlib.lines.Line2D at 0x7678979aff10>,\n",
       " <matplotlib.lines.Line2D at 0x7678979ae0e0>,\n",
       " <matplotlib.lines.Line2D at 0x7678979affd0>,\n",
       " <matplotlib.lines.Line2D at 0x7678979b0220>,\n",
       " <matplotlib.lines.Line2D at 0x7678979b0310>,\n",
       " <matplotlib.lines.Line2D at 0x7678979b0400>,\n",
       " <matplotlib.lines.Line2D at 0x7678979b04f0>,\n",
       " <matplotlib.lines.Line2D at 0x7678979b05e0>,\n",
       " <matplotlib.lines.Line2D at 0x7678979b06d0>,\n",
       " <matplotlib.lines.Line2D at 0x7678979b07c0>,\n",
       " <matplotlib.lines.Line2D at 0x7678979b08b0>,\n",
       " <matplotlib.lines.Line2D at 0x7678979b09a0>,\n",
       " <matplotlib.lines.Line2D at 0x7678979b0a90>,\n",
       " <matplotlib.lines.Line2D at 0x7678979b0b80>,\n",
       " <matplotlib.lines.Line2D at 0x7678979b0c70>,\n",
       " <matplotlib.lines.Line2D at 0x7678979b0d60>,\n",
       " <matplotlib.lines.Line2D at 0x7678979b0e50>,\n",
       " <matplotlib.lines.Line2D at 0x7678979b0f40>,\n",
       " <matplotlib.lines.Line2D at 0x7678979b1030>,\n",
       " <matplotlib.lines.Line2D at 0x7678979b1120>,\n",
       " <matplotlib.lines.Line2D at 0x7678979b1210>,\n",
       " <matplotlib.lines.Line2D at 0x7678979b1300>,\n",
       " <matplotlib.lines.Line2D at 0x7678979b13f0>,\n",
       " <matplotlib.lines.Line2D at 0x7678979b14e0>,\n",
       " <matplotlib.lines.Line2D at 0x7678979b15d0>,\n",
       " <matplotlib.lines.Line2D at 0x7678979b16c0>,\n",
       " <matplotlib.lines.Line2D at 0x7678979b17b0>,\n",
       " <matplotlib.lines.Line2D at 0x7678979b18a0>,\n",
       " <matplotlib.lines.Line2D at 0x7678979b1990>,\n",
       " <matplotlib.lines.Line2D at 0x7678979b1a80>,\n",
       " <matplotlib.lines.Line2D at 0x7678979b1b70>,\n",
       " <matplotlib.lines.Line2D at 0x7678979b1c60>,\n",
       " <matplotlib.lines.Line2D at 0x7678979b1d50>,\n",
       " <matplotlib.lines.Line2D at 0x7678979b1e40>,\n",
       " <matplotlib.lines.Line2D at 0x7678979b1f30>,\n",
       " <matplotlib.lines.Line2D at 0x7678979b2020>,\n",
       " <matplotlib.lines.Line2D at 0x7678979b2110>,\n",
       " <matplotlib.lines.Line2D at 0x7678979b2200>,\n",
       " <matplotlib.lines.Line2D at 0x7678979b22f0>,\n",
       " <matplotlib.lines.Line2D at 0x7678979b23e0>,\n",
       " <matplotlib.lines.Line2D at 0x7678979b24d0>,\n",
       " <matplotlib.lines.Line2D at 0x7678979b25c0>,\n",
       " <matplotlib.lines.Line2D at 0x7678979b26b0>,\n",
       " <matplotlib.lines.Line2D at 0x7678979b27a0>,\n",
       " <matplotlib.lines.Line2D at 0x7678979b2890>,\n",
       " <matplotlib.lines.Line2D at 0x7678979b2980>,\n",
       " <matplotlib.lines.Line2D at 0x7678979b2a70>,\n",
       " <matplotlib.lines.Line2D at 0x7678979b2b60>,\n",
       " <matplotlib.lines.Line2D at 0x7678979b2c50>,\n",
       " <matplotlib.lines.Line2D at 0x7678979b2d40>,\n",
       " <matplotlib.lines.Line2D at 0x7678979b2e30>,\n",
       " <matplotlib.lines.Line2D at 0x7678979b2f20>,\n",
       " <matplotlib.lines.Line2D at 0x7678979b3010>,\n",
       " <matplotlib.lines.Line2D at 0x7678979b3100>,\n",
       " <matplotlib.lines.Line2D at 0x7678979b31f0>,\n",
       " <matplotlib.lines.Line2D at 0x7678979b32e0>,\n",
       " <matplotlib.lines.Line2D at 0x7678979b33d0>,\n",
       " <matplotlib.lines.Line2D at 0x7678979b34c0>,\n",
       " <matplotlib.lines.Line2D at 0x7678979b35b0>,\n",
       " <matplotlib.lines.Line2D at 0x7678979b36a0>,\n",
       " <matplotlib.lines.Line2D at 0x7678979b3790>,\n",
       " <matplotlib.lines.Line2D at 0x7678979b3880>,\n",
       " <matplotlib.lines.Line2D at 0x7678979b3970>,\n",
       " <matplotlib.lines.Line2D at 0x7678979b3a60>,\n",
       " <matplotlib.lines.Line2D at 0x7678979b3b50>,\n",
       " <matplotlib.lines.Line2D at 0x7678979b3c40>,\n",
       " <matplotlib.lines.Line2D at 0x7678979b3d30>,\n",
       " <matplotlib.lines.Line2D at 0x7678979b3e20>,\n",
       " <matplotlib.lines.Line2D at 0x7678979b3f10>,\n",
       " <matplotlib.lines.Line2D at 0x7678979b0130>,\n",
       " <matplotlib.lines.Line2D at 0x7678979b3fd0>,\n",
       " <matplotlib.lines.Line2D at 0x7678979bc220>,\n",
       " <matplotlib.lines.Line2D at 0x7678979bc310>,\n",
       " <matplotlib.lines.Line2D at 0x7678979bc400>,\n",
       " <matplotlib.lines.Line2D at 0x7678979bc4f0>,\n",
       " <matplotlib.lines.Line2D at 0x7678979bc5e0>,\n",
       " <matplotlib.lines.Line2D at 0x7678979bc6d0>,\n",
       " <matplotlib.lines.Line2D at 0x7678979bc7c0>,\n",
       " <matplotlib.lines.Line2D at 0x7678979bc8b0>,\n",
       " <matplotlib.lines.Line2D at 0x7678979bc9a0>,\n",
       " <matplotlib.lines.Line2D at 0x7678979bca90>,\n",
       " <matplotlib.lines.Line2D at 0x7678979bcb80>,\n",
       " <matplotlib.lines.Line2D at 0x7678979bcc70>,\n",
       " <matplotlib.lines.Line2D at 0x7678979bcd60>,\n",
       " <matplotlib.lines.Line2D at 0x7678979bce50>,\n",
       " <matplotlib.lines.Line2D at 0x7678979bcf40>,\n",
       " <matplotlib.lines.Line2D at 0x7678979bd030>,\n",
       " <matplotlib.lines.Line2D at 0x7678979bd120>,\n",
       " <matplotlib.lines.Line2D at 0x7678979bd210>,\n",
       " <matplotlib.lines.Line2D at 0x7678979bd300>,\n",
       " <matplotlib.lines.Line2D at 0x7678979bd3f0>,\n",
       " <matplotlib.lines.Line2D at 0x7678979bd4e0>,\n",
       " <matplotlib.lines.Line2D at 0x7678979bd5d0>,\n",
       " <matplotlib.lines.Line2D at 0x7678979bd6c0>,\n",
       " <matplotlib.lines.Line2D at 0x7678979bd7b0>,\n",
       " <matplotlib.lines.Line2D at 0x7678979bd8a0>,\n",
       " <matplotlib.lines.Line2D at 0x7678979bd990>,\n",
       " <matplotlib.lines.Line2D at 0x7678979bda80>,\n",
       " <matplotlib.lines.Line2D at 0x7678979bdb70>,\n",
       " <matplotlib.lines.Line2D at 0x7678979bdc60>,\n",
       " <matplotlib.lines.Line2D at 0x7678979bdd50>,\n",
       " <matplotlib.lines.Line2D at 0x7678979bde40>,\n",
       " <matplotlib.lines.Line2D at 0x7678979bdf30>,\n",
       " <matplotlib.lines.Line2D at 0x7678979be020>,\n",
       " <matplotlib.lines.Line2D at 0x7678979be110>,\n",
       " <matplotlib.lines.Line2D at 0x7678979be200>,\n",
       " <matplotlib.lines.Line2D at 0x7678979be2f0>,\n",
       " <matplotlib.lines.Line2D at 0x7678979be3e0>,\n",
       " <matplotlib.lines.Line2D at 0x7678979be4d0>,\n",
       " <matplotlib.lines.Line2D at 0x7678979be5c0>,\n",
       " <matplotlib.lines.Line2D at 0x7678979be6b0>,\n",
       " <matplotlib.lines.Line2D at 0x7678979be7a0>,\n",
       " <matplotlib.lines.Line2D at 0x7678979be890>,\n",
       " <matplotlib.lines.Line2D at 0x7678979be980>,\n",
       " <matplotlib.lines.Line2D at 0x7678979bea70>,\n",
       " <matplotlib.lines.Line2D at 0x7678979beb60>,\n",
       " <matplotlib.lines.Line2D at 0x7678979bec50>,\n",
       " <matplotlib.lines.Line2D at 0x7678979a3310>,\n",
       " <matplotlib.lines.Line2D at 0x7678979a31f0>,\n",
       " <matplotlib.lines.Line2D at 0x76780ade80d0>,\n",
       " <matplotlib.lines.Line2D at 0x767897996e30>,\n",
       " <matplotlib.lines.Line2D at 0x767897994490>,\n",
       " <matplotlib.lines.Line2D at 0x767823d553f0>,\n",
       " <matplotlib.lines.Line2D at 0x767823d55ae0>,\n",
       " <matplotlib.lines.Line2D at 0x7678979beec0>,\n",
       " <matplotlib.lines.Line2D at 0x7678979befb0>,\n",
       " <matplotlib.lines.Line2D at 0x7678979bf0a0>,\n",
       " <matplotlib.lines.Line2D at 0x7678979bf190>,\n",
       " <matplotlib.lines.Line2D at 0x7678979bf280>,\n",
       " <matplotlib.lines.Line2D at 0x7678979bf370>,\n",
       " <matplotlib.lines.Line2D at 0x7678979bf460>,\n",
       " <matplotlib.lines.Line2D at 0x7678979bf550>,\n",
       " <matplotlib.lines.Line2D at 0x7678979bf640>,\n",
       " <matplotlib.lines.Line2D at 0x7678979bf730>,\n",
       " <matplotlib.lines.Line2D at 0x7678979bf820>,\n",
       " <matplotlib.lines.Line2D at 0x7678979bf910>,\n",
       " <matplotlib.lines.Line2D at 0x7678979bfa00>,\n",
       " <matplotlib.lines.Line2D at 0x7678979bfaf0>,\n",
       " <matplotlib.lines.Line2D at 0x7678979bfbe0>,\n",
       " <matplotlib.lines.Line2D at 0x7678979bfcd0>,\n",
       " <matplotlib.lines.Line2D at 0x7678979bfdc0>,\n",
       " <matplotlib.lines.Line2D at 0x7678979bfeb0>,\n",
       " <matplotlib.lines.Line2D at 0x7678979bffa0>,\n",
       " <matplotlib.lines.Line2D at 0x7678979bedd0>,\n",
       " <matplotlib.lines.Line2D at 0x7678979c41c0>,\n",
       " <matplotlib.lines.Line2D at 0x7678979c42b0>,\n",
       " <matplotlib.lines.Line2D at 0x7678979c43a0>,\n",
       " <matplotlib.lines.Line2D at 0x7678979c4490>,\n",
       " <matplotlib.lines.Line2D at 0x7678979c4580>,\n",
       " <matplotlib.lines.Line2D at 0x7678979c4670>,\n",
       " <matplotlib.lines.Line2D at 0x7678979c4760>,\n",
       " <matplotlib.lines.Line2D at 0x7678979c4850>,\n",
       " <matplotlib.lines.Line2D at 0x7678979c4940>,\n",
       " <matplotlib.lines.Line2D at 0x7678979c4a30>,\n",
       " <matplotlib.lines.Line2D at 0x7678979c4b20>,\n",
       " <matplotlib.lines.Line2D at 0x7678979c4c10>,\n",
       " <matplotlib.lines.Line2D at 0x7678979c4d00>,\n",
       " <matplotlib.lines.Line2D at 0x7678979c4df0>,\n",
       " <matplotlib.lines.Line2D at 0x7678979c4ee0>,\n",
       " <matplotlib.lines.Line2D at 0x7678979c4fd0>,\n",
       " <matplotlib.lines.Line2D at 0x7678979c50c0>,\n",
       " <matplotlib.lines.Line2D at 0x7678979c51b0>,\n",
       " <matplotlib.lines.Line2D at 0x7678979c52a0>,\n",
       " <matplotlib.lines.Line2D at 0x7678979c5390>,\n",
       " <matplotlib.lines.Line2D at 0x7678979c5480>,\n",
       " <matplotlib.lines.Line2D at 0x7678979c5570>,\n",
       " <matplotlib.lines.Line2D at 0x7678979c5660>,\n",
       " <matplotlib.lines.Line2D at 0x7678979c5750>,\n",
       " <matplotlib.lines.Line2D at 0x7678979c5840>,\n",
       " <matplotlib.lines.Line2D at 0x7678979c5930>,\n",
       " <matplotlib.lines.Line2D at 0x7678979c5a20>,\n",
       " <matplotlib.lines.Line2D at 0x7678979c5b10>,\n",
       " <matplotlib.lines.Line2D at 0x7678979c5c00>,\n",
       " <matplotlib.lines.Line2D at 0x7678979c5cf0>,\n",
       " <matplotlib.lines.Line2D at 0x7678979c5de0>,\n",
       " <matplotlib.lines.Line2D at 0x7678979c5ed0>,\n",
       " <matplotlib.lines.Line2D at 0x7678979c5fc0>,\n",
       " <matplotlib.lines.Line2D at 0x7678979c60b0>,\n",
       " <matplotlib.lines.Line2D at 0x7678979c61a0>,\n",
       " <matplotlib.lines.Line2D at 0x7678979c6290>,\n",
       " <matplotlib.lines.Line2D at 0x7678979c6380>,\n",
       " <matplotlib.lines.Line2D at 0x7678979c6470>,\n",
       " <matplotlib.lines.Line2D at 0x7678979c6560>,\n",
       " <matplotlib.lines.Line2D at 0x7678979c6650>,\n",
       " <matplotlib.lines.Line2D at 0x7678979c6740>,\n",
       " <matplotlib.lines.Line2D at 0x7678979c6830>,\n",
       " <matplotlib.lines.Line2D at 0x7678979c6920>,\n",
       " <matplotlib.lines.Line2D at 0x7678979c6a10>,\n",
       " <matplotlib.lines.Line2D at 0x7678979c6b00>,\n",
       " <matplotlib.lines.Line2D at 0x7678979c6bf0>,\n",
       " <matplotlib.lines.Line2D at 0x7678979c6ce0>,\n",
       " <matplotlib.lines.Line2D at 0x7678979c6dd0>,\n",
       " <matplotlib.lines.Line2D at 0x7678979c6ec0>,\n",
       " <matplotlib.lines.Line2D at 0x7678979c6fb0>,\n",
       " <matplotlib.lines.Line2D at 0x7678979c70a0>,\n",
       " <matplotlib.lines.Line2D at 0x7678979c7190>,\n",
       " <matplotlib.lines.Line2D at 0x7678979c7280>,\n",
       " <matplotlib.lines.Line2D at 0x7678979c7370>,\n",
       " <matplotlib.lines.Line2D at 0x7678979c7460>,\n",
       " <matplotlib.lines.Line2D at 0x7678979c7580>,\n",
       " <matplotlib.lines.Line2D at 0x7678979c7670>,\n",
       " <matplotlib.lines.Line2D at 0x7678979c7760>,\n",
       " <matplotlib.lines.Line2D at 0x7678979c7850>,\n",
       " <matplotlib.lines.Line2D at 0x7678979c7940>,\n",
       " <matplotlib.lines.Line2D at 0x7678979c7a30>,\n",
       " <matplotlib.lines.Line2D at 0x7678979c7b20>,\n",
       " <matplotlib.lines.Line2D at 0x7678979c7c10>,\n",
       " <matplotlib.lines.Line2D at 0x7678979c7d00>,\n",
       " <matplotlib.lines.Line2D at 0x7678979c7df0>,\n",
       " <matplotlib.lines.Line2D at 0x7678979c7ee0>,\n",
       " <matplotlib.lines.Line2D at 0x7678979c7fd0>,\n",
       " <matplotlib.lines.Line2D at 0x7678979c40d0>,\n",
       " <matplotlib.lines.Line2D at 0x7678979cc1f0>,\n",
       " <matplotlib.lines.Line2D at 0x7678979cc2e0>,\n",
       " <matplotlib.lines.Line2D at 0x7678979cc3d0>,\n",
       " <matplotlib.lines.Line2D at 0x7678979cc4c0>,\n",
       " <matplotlib.lines.Line2D at 0x7678979cc5b0>,\n",
       " <matplotlib.lines.Line2D at 0x7678979cc6a0>,\n",
       " <matplotlib.lines.Line2D at 0x7678979cc790>,\n",
       " <matplotlib.lines.Line2D at 0x7678979cc880>,\n",
       " <matplotlib.lines.Line2D at 0x7678979cc970>,\n",
       " <matplotlib.lines.Line2D at 0x7678979cca60>,\n",
       " <matplotlib.lines.Line2D at 0x7678979ccb50>,\n",
       " <matplotlib.lines.Line2D at 0x7678979ccc40>,\n",
       " <matplotlib.lines.Line2D at 0x7678979ccd30>,\n",
       " <matplotlib.lines.Line2D at 0x7678979cce20>,\n",
       " <matplotlib.lines.Line2D at 0x7678979ccf10>,\n",
       " <matplotlib.lines.Line2D at 0x7678979cd000>,\n",
       " <matplotlib.lines.Line2D at 0x7678979cd0f0>,\n",
       " <matplotlib.lines.Line2D at 0x7678979cd1e0>,\n",
       " <matplotlib.lines.Line2D at 0x7678979cd2d0>,\n",
       " <matplotlib.lines.Line2D at 0x7678979cd3c0>,\n",
       " <matplotlib.lines.Line2D at 0x7678979cd4b0>,\n",
       " <matplotlib.lines.Line2D at 0x7678979cd5a0>,\n",
       " <matplotlib.lines.Line2D at 0x7678979cd690>,\n",
       " <matplotlib.lines.Line2D at 0x7678979cd780>,\n",
       " <matplotlib.lines.Line2D at 0x7678979cd870>,\n",
       " <matplotlib.lines.Line2D at 0x7678979cd960>,\n",
       " <matplotlib.lines.Line2D at 0x7678979cda50>,\n",
       " <matplotlib.lines.Line2D at 0x7678979cdb40>,\n",
       " <matplotlib.lines.Line2D at 0x7678979cdc30>,\n",
       " <matplotlib.lines.Line2D at 0x7678979cdd20>,\n",
       " <matplotlib.lines.Line2D at 0x7678979cde10>,\n",
       " <matplotlib.lines.Line2D at 0x7678979cdf00>,\n",
       " <matplotlib.lines.Line2D at 0x7678979cdff0>,\n",
       " <matplotlib.lines.Line2D at 0x7678979ce0e0>,\n",
       " <matplotlib.lines.Line2D at 0x7678979ce1d0>,\n",
       " <matplotlib.lines.Line2D at 0x7678979ce2c0>,\n",
       " <matplotlib.lines.Line2D at 0x7678979ce3b0>,\n",
       " <matplotlib.lines.Line2D at 0x7678979ce4a0>,\n",
       " <matplotlib.lines.Line2D at 0x7678979ce590>,\n",
       " <matplotlib.lines.Line2D at 0x7678979ce680>,\n",
       " <matplotlib.lines.Line2D at 0x7678979ce770>,\n",
       " <matplotlib.lines.Line2D at 0x7678979ce860>,\n",
       " <matplotlib.lines.Line2D at 0x7678979ce950>,\n",
       " <matplotlib.lines.Line2D at 0x7678979cea40>,\n",
       " <matplotlib.lines.Line2D at 0x7678979ceb30>,\n",
       " <matplotlib.lines.Line2D at 0x7678979cec20>,\n",
       " <matplotlib.lines.Line2D at 0x7678979ced10>,\n",
       " <matplotlib.lines.Line2D at 0x7678979cee00>,\n",
       " <matplotlib.lines.Line2D at 0x7678979ceef0>,\n",
       " <matplotlib.lines.Line2D at 0x7678979cefe0>,\n",
       " <matplotlib.lines.Line2D at 0x7678979cf0d0>,\n",
       " <matplotlib.lines.Line2D at 0x7678979cf1c0>,\n",
       " <matplotlib.lines.Line2D at 0x7678979cf2b0>,\n",
       " <matplotlib.lines.Line2D at 0x7678979cf3a0>,\n",
       " <matplotlib.lines.Line2D at 0x7678979cf490>,\n",
       " <matplotlib.lines.Line2D at 0x7678979cf580>,\n",
       " <matplotlib.lines.Line2D at 0x7678979cf670>,\n",
       " <matplotlib.lines.Line2D at 0x7678979cf760>,\n",
       " <matplotlib.lines.Line2D at 0x7678979cf850>,\n",
       " <matplotlib.lines.Line2D at 0x7678979cf940>,\n",
       " <matplotlib.lines.Line2D at 0x7678979cfa30>,\n",
       " <matplotlib.lines.Line2D at 0x7678979cfb20>,\n",
       " <matplotlib.lines.Line2D at 0x7678979cfc10>,\n",
       " <matplotlib.lines.Line2D at 0x7678979cfd00>,\n",
       " <matplotlib.lines.Line2D at 0x7678979cfdf0>,\n",
       " <matplotlib.lines.Line2D at 0x7678979cfee0>,\n",
       " <matplotlib.lines.Line2D at 0x7678979cffd0>,\n",
       " <matplotlib.lines.Line2D at 0x7678979cc100>,\n",
       " <matplotlib.lines.Line2D at 0x7678979d41f0>,\n",
       " <matplotlib.lines.Line2D at 0x7678979d42e0>,\n",
       " <matplotlib.lines.Line2D at 0x7678979d43d0>,\n",
       " <matplotlib.lines.Line2D at 0x7678979d44c0>,\n",
       " <matplotlib.lines.Line2D at 0x7678979d45b0>,\n",
       " <matplotlib.lines.Line2D at 0x7678979d46a0>,\n",
       " <matplotlib.lines.Line2D at 0x7678979d4790>,\n",
       " <matplotlib.lines.Line2D at 0x7678979d4880>,\n",
       " <matplotlib.lines.Line2D at 0x7678979d4970>,\n",
       " <matplotlib.lines.Line2D at 0x7678979d4a60>,\n",
       " <matplotlib.lines.Line2D at 0x7678979d4b50>,\n",
       " <matplotlib.lines.Line2D at 0x7678979d4c40>,\n",
       " <matplotlib.lines.Line2D at 0x7678979d4d30>,\n",
       " <matplotlib.lines.Line2D at 0x7678979d4e20>,\n",
       " <matplotlib.lines.Line2D at 0x7678979d4f10>,\n",
       " <matplotlib.lines.Line2D at 0x7678979d5000>,\n",
       " <matplotlib.lines.Line2D at 0x7678979d50f0>,\n",
       " <matplotlib.lines.Line2D at 0x7678979d51e0>,\n",
       " <matplotlib.lines.Line2D at 0x7678979d52d0>,\n",
       " <matplotlib.lines.Line2D at 0x7678979d53c0>,\n",
       " <matplotlib.lines.Line2D at 0x7678979d54b0>,\n",
       " <matplotlib.lines.Line2D at 0x7678979d55a0>,\n",
       " <matplotlib.lines.Line2D at 0x7678979d5690>,\n",
       " <matplotlib.lines.Line2D at 0x7678979d5780>,\n",
       " <matplotlib.lines.Line2D at 0x7678979d5870>,\n",
       " <matplotlib.lines.Line2D at 0x7678979d5960>,\n",
       " <matplotlib.lines.Line2D at 0x7678979d5a50>,\n",
       " <matplotlib.lines.Line2D at 0x7678979d5b40>,\n",
       " <matplotlib.lines.Line2D at 0x7678979d5c30>,\n",
       " <matplotlib.lines.Line2D at 0x7678979d5d20>,\n",
       " <matplotlib.lines.Line2D at 0x7678979d5e10>,\n",
       " <matplotlib.lines.Line2D at 0x7678979d5f00>,\n",
       " <matplotlib.lines.Line2D at 0x7678979d5ff0>,\n",
       " <matplotlib.lines.Line2D at 0x7678979d60e0>,\n",
       " <matplotlib.lines.Line2D at 0x7678979d61d0>,\n",
       " <matplotlib.lines.Line2D at 0x7678979d62c0>,\n",
       " <matplotlib.lines.Line2D at 0x7678979d63b0>,\n",
       " <matplotlib.lines.Line2D at 0x7678979d64a0>,\n",
       " <matplotlib.lines.Line2D at 0x7678979d6590>,\n",
       " <matplotlib.lines.Line2D at 0x7678979d6680>,\n",
       " <matplotlib.lines.Line2D at 0x7678979d6770>,\n",
       " <matplotlib.lines.Line2D at 0x7678979d6860>,\n",
       " <matplotlib.lines.Line2D at 0x7678979d6950>,\n",
       " <matplotlib.lines.Line2D at 0x7678979d6a40>,\n",
       " <matplotlib.lines.Line2D at 0x7678979d6b30>,\n",
       " <matplotlib.lines.Line2D at 0x7678979d6c20>,\n",
       " <matplotlib.lines.Line2D at 0x7678979d6d10>,\n",
       " <matplotlib.lines.Line2D at 0x7678979d6e00>,\n",
       " <matplotlib.lines.Line2D at 0x7678979d6ef0>,\n",
       " <matplotlib.lines.Line2D at 0x7678979d6fe0>,\n",
       " <matplotlib.lines.Line2D at 0x7678979d70d0>,\n",
       " <matplotlib.lines.Line2D at 0x7678979d71c0>,\n",
       " <matplotlib.lines.Line2D at 0x7678979d72b0>,\n",
       " <matplotlib.lines.Line2D at 0x7678979d73a0>,\n",
       " <matplotlib.lines.Line2D at 0x7678979d7490>,\n",
       " <matplotlib.lines.Line2D at 0x7678979d7580>,\n",
       " <matplotlib.lines.Line2D at 0x7678979d7670>,\n",
       " <matplotlib.lines.Line2D at 0x7678979d7760>,\n",
       " <matplotlib.lines.Line2D at 0x7678979d7850>,\n",
       " <matplotlib.lines.Line2D at 0x7678979d7940>,\n",
       " <matplotlib.lines.Line2D at 0x7678979d7a30>,\n",
       " <matplotlib.lines.Line2D at 0x7678979d7b20>,\n",
       " <matplotlib.lines.Line2D at 0x7678979d7c10>,\n",
       " <matplotlib.lines.Line2D at 0x7678979d7d00>,\n",
       " <matplotlib.lines.Line2D at 0x7678979d7df0>,\n",
       " <matplotlib.lines.Line2D at 0x7678979d7ee0>,\n",
       " <matplotlib.lines.Line2D at 0x7678979d7fd0>,\n",
       " <matplotlib.lines.Line2D at 0x7678979d4100>,\n",
       " <matplotlib.lines.Line2D at 0x7678979e01f0>,\n",
       " <matplotlib.lines.Line2D at 0x7678979e02e0>,\n",
       " <matplotlib.lines.Line2D at 0x7678979e03d0>,\n",
       " <matplotlib.lines.Line2D at 0x7678979e04c0>,\n",
       " <matplotlib.lines.Line2D at 0x7678979e05b0>,\n",
       " <matplotlib.lines.Line2D at 0x7678979e06a0>,\n",
       " <matplotlib.lines.Line2D at 0x7678979e0790>,\n",
       " <matplotlib.lines.Line2D at 0x7678979e0880>,\n",
       " <matplotlib.lines.Line2D at 0x7678979e0970>,\n",
       " <matplotlib.lines.Line2D at 0x7678979e0a60>,\n",
       " <matplotlib.lines.Line2D at 0x7678979e0b50>,\n",
       " <matplotlib.lines.Line2D at 0x7678979e0c40>,\n",
       " <matplotlib.lines.Line2D at 0x7678979e0d30>,\n",
       " <matplotlib.lines.Line2D at 0x7678979e0e20>,\n",
       " <matplotlib.lines.Line2D at 0x7678979e0f10>,\n",
       " <matplotlib.lines.Line2D at 0x7678979e1000>,\n",
       " <matplotlib.lines.Line2D at 0x7678979e10f0>,\n",
       " <matplotlib.lines.Line2D at 0x7678979e11e0>,\n",
       " <matplotlib.lines.Line2D at 0x7678979e12d0>,\n",
       " <matplotlib.lines.Line2D at 0x7678979e13c0>,\n",
       " <matplotlib.lines.Line2D at 0x7678979e14b0>,\n",
       " <matplotlib.lines.Line2D at 0x7678979e15a0>,\n",
       " <matplotlib.lines.Line2D at 0x7678979e1690>,\n",
       " <matplotlib.lines.Line2D at 0x7678979e1780>,\n",
       " <matplotlib.lines.Line2D at 0x7678979e1870>,\n",
       " <matplotlib.lines.Line2D at 0x7678979e1960>,\n",
       " <matplotlib.lines.Line2D at 0x7678979e1a50>,\n",
       " <matplotlib.lines.Line2D at 0x7678979e1b40>,\n",
       " <matplotlib.lines.Line2D at 0x7678979e1c30>,\n",
       " <matplotlib.lines.Line2D at 0x7678979e1d20>,\n",
       " <matplotlib.lines.Line2D at 0x7678979e1e10>,\n",
       " <matplotlib.lines.Line2D at 0x7678979e1f00>,\n",
       " <matplotlib.lines.Line2D at 0x7678979e1ff0>,\n",
       " <matplotlib.lines.Line2D at 0x7678979e20e0>,\n",
       " <matplotlib.lines.Line2D at 0x7678979e21d0>,\n",
       " <matplotlib.lines.Line2D at 0x7678979e22c0>,\n",
       " <matplotlib.lines.Line2D at 0x7678979e23b0>,\n",
       " <matplotlib.lines.Line2D at 0x7678979e24a0>,\n",
       " <matplotlib.lines.Line2D at 0x7678979e2590>,\n",
       " <matplotlib.lines.Line2D at 0x7678979e2680>,\n",
       " <matplotlib.lines.Line2D at 0x7678979e2770>,\n",
       " <matplotlib.lines.Line2D at 0x7678979e2860>,\n",
       " <matplotlib.lines.Line2D at 0x7678979e2950>,\n",
       " <matplotlib.lines.Line2D at 0x7678979e2a40>,\n",
       " <matplotlib.lines.Line2D at 0x7678979e2b30>,\n",
       " <matplotlib.lines.Line2D at 0x7678979e2c20>,\n",
       " <matplotlib.lines.Line2D at 0x7678979e2d10>,\n",
       " <matplotlib.lines.Line2D at 0x7678979e2e00>,\n",
       " <matplotlib.lines.Line2D at 0x7678979e2ef0>,\n",
       " <matplotlib.lines.Line2D at 0x7678979e2fe0>,\n",
       " <matplotlib.lines.Line2D at 0x7678979e30d0>,\n",
       " <matplotlib.lines.Line2D at 0x7678979e31c0>,\n",
       " <matplotlib.lines.Line2D at 0x7678979e32b0>,\n",
       " <matplotlib.lines.Line2D at 0x7678979e33a0>,\n",
       " <matplotlib.lines.Line2D at 0x7678979e3490>,\n",
       " <matplotlib.lines.Line2D at 0x7678979e3580>,\n",
       " <matplotlib.lines.Line2D at 0x7678979e3670>,\n",
       " <matplotlib.lines.Line2D at 0x7678979e3760>,\n",
       " <matplotlib.lines.Line2D at 0x7678979e3850>,\n",
       " <matplotlib.lines.Line2D at 0x7678979e3940>,\n",
       " <matplotlib.lines.Line2D at 0x7678979e3a30>,\n",
       " <matplotlib.lines.Line2D at 0x7678979e3b20>,\n",
       " <matplotlib.lines.Line2D at 0x7678979e3c10>,\n",
       " <matplotlib.lines.Line2D at 0x7678979e3d00>,\n",
       " <matplotlib.lines.Line2D at 0x7678979e3df0>,\n",
       " <matplotlib.lines.Line2D at 0x7678979e3ee0>,\n",
       " <matplotlib.lines.Line2D at 0x7678979e3fd0>,\n",
       " <matplotlib.lines.Line2D at 0x7678979e0100>,\n",
       " <matplotlib.lines.Line2D at 0x7678979e8220>,\n",
       " <matplotlib.lines.Line2D at 0x7678979e8310>,\n",
       " <matplotlib.lines.Line2D at 0x7678979e8400>,\n",
       " <matplotlib.lines.Line2D at 0x7678979e84f0>,\n",
       " <matplotlib.lines.Line2D at 0x7678979e85e0>,\n",
       " <matplotlib.lines.Line2D at 0x7678979e86d0>,\n",
       " <matplotlib.lines.Line2D at 0x7678979e87c0>,\n",
       " <matplotlib.lines.Line2D at 0x7678979e88b0>,\n",
       " <matplotlib.lines.Line2D at 0x7678979e89a0>,\n",
       " <matplotlib.lines.Line2D at 0x7678979e8a90>,\n",
       " <matplotlib.lines.Line2D at 0x7678979e8b80>,\n",
       " <matplotlib.lines.Line2D at 0x7678979e8c70>,\n",
       " <matplotlib.lines.Line2D at 0x7678979e8d60>,\n",
       " <matplotlib.lines.Line2D at 0x7678979e8e50>,\n",
       " <matplotlib.lines.Line2D at 0x7678979e8f40>,\n",
       " <matplotlib.lines.Line2D at 0x7678979e9030>,\n",
       " <matplotlib.lines.Line2D at 0x7678979e9120>,\n",
       " <matplotlib.lines.Line2D at 0x7678979e9210>,\n",
       " <matplotlib.lines.Line2D at 0x7678979e9300>,\n",
       " <matplotlib.lines.Line2D at 0x7678979e93f0>,\n",
       " <matplotlib.lines.Line2D at 0x7678979e94e0>,\n",
       " <matplotlib.lines.Line2D at 0x7678979e95d0>,\n",
       " <matplotlib.lines.Line2D at 0x7678979e96c0>,\n",
       " <matplotlib.lines.Line2D at 0x7678979e97b0>,\n",
       " <matplotlib.lines.Line2D at 0x7678979e98a0>,\n",
       " <matplotlib.lines.Line2D at 0x7678979e9990>,\n",
       " <matplotlib.lines.Line2D at 0x7678979e9a80>,\n",
       " <matplotlib.lines.Line2D at 0x7678979e9b70>,\n",
       " <matplotlib.lines.Line2D at 0x7678979e9c60>,\n",
       " <matplotlib.lines.Line2D at 0x7678979e9d50>,\n",
       " <matplotlib.lines.Line2D at 0x7678979e9e40>,\n",
       " <matplotlib.lines.Line2D at 0x7678979e9f30>,\n",
       " <matplotlib.lines.Line2D at 0x7678979ea020>,\n",
       " <matplotlib.lines.Line2D at 0x7678979ea110>,\n",
       " <matplotlib.lines.Line2D at 0x7678979ea200>,\n",
       " <matplotlib.lines.Line2D at 0x7678979ea2f0>,\n",
       " <matplotlib.lines.Line2D at 0x7678979ea3e0>,\n",
       " <matplotlib.lines.Line2D at 0x7678979ea4d0>,\n",
       " <matplotlib.lines.Line2D at 0x7678979ea5c0>,\n",
       " <matplotlib.lines.Line2D at 0x7678979ea6b0>,\n",
       " <matplotlib.lines.Line2D at 0x7678979ea7a0>,\n",
       " <matplotlib.lines.Line2D at 0x7678979ea890>,\n",
       " <matplotlib.lines.Line2D at 0x7678979ea980>,\n",
       " <matplotlib.lines.Line2D at 0x7678979eaa70>,\n",
       " <matplotlib.lines.Line2D at 0x7678979eab60>,\n",
       " <matplotlib.lines.Line2D at 0x7678979eac50>,\n",
       " <matplotlib.lines.Line2D at 0x7678979ead40>,\n",
       " <matplotlib.lines.Line2D at 0x7678979eae30>,\n",
       " <matplotlib.lines.Line2D at 0x7678979eaf20>,\n",
       " <matplotlib.lines.Line2D at 0x7678979eb010>,\n",
       " <matplotlib.lines.Line2D at 0x7678979eb100>,\n",
       " <matplotlib.lines.Line2D at 0x7678979eb1f0>,\n",
       " <matplotlib.lines.Line2D at 0x7678979eb2e0>,\n",
       " <matplotlib.lines.Line2D at 0x7678979eb3d0>,\n",
       " <matplotlib.lines.Line2D at 0x7678979eb4c0>,\n",
       " <matplotlib.lines.Line2D at 0x7678979eb5b0>,\n",
       " <matplotlib.lines.Line2D at 0x7678979eb6a0>,\n",
       " <matplotlib.lines.Line2D at 0x7678979eb790>,\n",
       " <matplotlib.lines.Line2D at 0x7678979eb880>,\n",
       " <matplotlib.lines.Line2D at 0x7678979eb970>,\n",
       " <matplotlib.lines.Line2D at 0x7678979eba60>,\n",
       " <matplotlib.lines.Line2D at 0x7678979ebb50>,\n",
       " <matplotlib.lines.Line2D at 0x7678979ebc40>,\n",
       " <matplotlib.lines.Line2D at 0x7678979ebd30>,\n",
       " <matplotlib.lines.Line2D at 0x7678979ebe20>,\n",
       " <matplotlib.lines.Line2D at 0x7678979ebf10>,\n",
       " <matplotlib.lines.Line2D at 0x7678979e8130>,\n",
       " <matplotlib.lines.Line2D at 0x7678979ebfd0>,\n",
       " <matplotlib.lines.Line2D at 0x7678979f0220>,\n",
       " <matplotlib.lines.Line2D at 0x7678979f0310>,\n",
       " <matplotlib.lines.Line2D at 0x7678979f0400>,\n",
       " <matplotlib.lines.Line2D at 0x7678979f04f0>,\n",
       " <matplotlib.lines.Line2D at 0x7678979f05e0>,\n",
       " <matplotlib.lines.Line2D at 0x7678979f06d0>,\n",
       " <matplotlib.lines.Line2D at 0x7678979f07c0>,\n",
       " <matplotlib.lines.Line2D at 0x7678979f08b0>,\n",
       " <matplotlib.lines.Line2D at 0x7678979f09a0>,\n",
       " <matplotlib.lines.Line2D at 0x7678979f0a90>,\n",
       " <matplotlib.lines.Line2D at 0x7678979f0b80>,\n",
       " <matplotlib.lines.Line2D at 0x7678979f0c70>,\n",
       " <matplotlib.lines.Line2D at 0x7678979f0d60>,\n",
       " <matplotlib.lines.Line2D at 0x7678979f0e50>,\n",
       " <matplotlib.lines.Line2D at 0x7678979f0f40>,\n",
       " <matplotlib.lines.Line2D at 0x7678979f1030>,\n",
       " <matplotlib.lines.Line2D at 0x7678979f1120>,\n",
       " <matplotlib.lines.Line2D at 0x7678979f1210>,\n",
       " <matplotlib.lines.Line2D at 0x7678979f1300>,\n",
       " <matplotlib.lines.Line2D at 0x7678979f13f0>,\n",
       " <matplotlib.lines.Line2D at 0x7678979f14e0>,\n",
       " <matplotlib.lines.Line2D at 0x7678979f15d0>,\n",
       " <matplotlib.lines.Line2D at 0x7678979f16c0>,\n",
       " <matplotlib.lines.Line2D at 0x7678979f17b0>,\n",
       " <matplotlib.lines.Line2D at 0x7678979f18a0>,\n",
       " <matplotlib.lines.Line2D at 0x7678979f1990>,\n",
       " <matplotlib.lines.Line2D at 0x7678979f1a80>,\n",
       " <matplotlib.lines.Line2D at 0x7678979f1b70>,\n",
       " <matplotlib.lines.Line2D at 0x7678979f1c60>,\n",
       " <matplotlib.lines.Line2D at 0x7678979f1d50>,\n",
       " <matplotlib.lines.Line2D at 0x7678979f1e40>,\n",
       " <matplotlib.lines.Line2D at 0x7678979f1f30>,\n",
       " <matplotlib.lines.Line2D at 0x7678979f2020>,\n",
       " <matplotlib.lines.Line2D at 0x7678979f2110>,\n",
       " <matplotlib.lines.Line2D at 0x7678979f2200>,\n",
       " <matplotlib.lines.Line2D at 0x7678979f22f0>,\n",
       " <matplotlib.lines.Line2D at 0x7678979f23e0>,\n",
       " <matplotlib.lines.Line2D at 0x7678979f24d0>,\n",
       " <matplotlib.lines.Line2D at 0x7678979f25c0>,\n",
       " <matplotlib.lines.Line2D at 0x7678979f26b0>,\n",
       " <matplotlib.lines.Line2D at 0x7678979f27a0>,\n",
       " <matplotlib.lines.Line2D at 0x7678979f2890>,\n",
       " <matplotlib.lines.Line2D at 0x7678979f2980>,\n",
       " <matplotlib.lines.Line2D at 0x7678979f2a70>,\n",
       " <matplotlib.lines.Line2D at 0x7678979f2b60>,\n",
       " <matplotlib.lines.Line2D at 0x7678979f2c50>,\n",
       " <matplotlib.lines.Line2D at 0x7678979f2d40>,\n",
       " <matplotlib.lines.Line2D at 0x7678979f2e30>,\n",
       " <matplotlib.lines.Line2D at 0x7678979f2f20>,\n",
       " <matplotlib.lines.Line2D at 0x7678979f3010>,\n",
       " <matplotlib.lines.Line2D at 0x7678979f3100>,\n",
       " <matplotlib.lines.Line2D at 0x7678979f31f0>,\n",
       " <matplotlib.lines.Line2D at 0x7678979f32e0>,\n",
       " <matplotlib.lines.Line2D at 0x7678979f33d0>,\n",
       " <matplotlib.lines.Line2D at 0x7678979f34c0>,\n",
       " <matplotlib.lines.Line2D at 0x7678979f35b0>,\n",
       " <matplotlib.lines.Line2D at 0x7678979f36a0>,\n",
       " <matplotlib.lines.Line2D at 0x7678979f3790>,\n",
       " <matplotlib.lines.Line2D at 0x7678979f3880>,\n",
       " <matplotlib.lines.Line2D at 0x7678979f3970>,\n",
       " <matplotlib.lines.Line2D at 0x7678979f3a60>,\n",
       " <matplotlib.lines.Line2D at 0x7678979f3b50>,\n",
       " <matplotlib.lines.Line2D at 0x7678979f3c40>,\n",
       " <matplotlib.lines.Line2D at 0x7678979f3d30>,\n",
       " <matplotlib.lines.Line2D at 0x7678979f3e20>,\n",
       " <matplotlib.lines.Line2D at 0x7678979f3f10>,\n",
       " <matplotlib.lines.Line2D at 0x7678979f0130>,\n",
       " <matplotlib.lines.Line2D at 0x7678979f3fd0>,\n",
       " <matplotlib.lines.Line2D at 0x7678979fc220>,\n",
       " <matplotlib.lines.Line2D at 0x7678979fc310>,\n",
       " <matplotlib.lines.Line2D at 0x7678979fc400>,\n",
       " <matplotlib.lines.Line2D at 0x7678979fc4f0>,\n",
       " <matplotlib.lines.Line2D at 0x7678979fc5e0>,\n",
       " <matplotlib.lines.Line2D at 0x7678979fc6d0>,\n",
       " <matplotlib.lines.Line2D at 0x7678979fc7c0>,\n",
       " <matplotlib.lines.Line2D at 0x7678979fc8b0>,\n",
       " <matplotlib.lines.Line2D at 0x7678979fc9a0>,\n",
       " <matplotlib.lines.Line2D at 0x7678979fca90>,\n",
       " <matplotlib.lines.Line2D at 0x7678979fcb80>,\n",
       " <matplotlib.lines.Line2D at 0x7678979fcc70>,\n",
       " <matplotlib.lines.Line2D at 0x7678979fcd60>,\n",
       " <matplotlib.lines.Line2D at 0x7678979fce50>,\n",
       " <matplotlib.lines.Line2D at 0x7678979fcf40>,\n",
       " <matplotlib.lines.Line2D at 0x7678979fd030>,\n",
       " <matplotlib.lines.Line2D at 0x7678979fd120>,\n",
       " <matplotlib.lines.Line2D at 0x7678979fd210>,\n",
       " <matplotlib.lines.Line2D at 0x7678979fd300>,\n",
       " <matplotlib.lines.Line2D at 0x7678979fd3f0>,\n",
       " <matplotlib.lines.Line2D at 0x7678979fd4e0>,\n",
       " <matplotlib.lines.Line2D at 0x7678979fd5d0>,\n",
       " <matplotlib.lines.Line2D at 0x7678979fd6c0>,\n",
       " <matplotlib.lines.Line2D at 0x7678979fd7b0>,\n",
       " <matplotlib.lines.Line2D at 0x7678979fd8a0>,\n",
       " <matplotlib.lines.Line2D at 0x7678979fd990>,\n",
       " <matplotlib.lines.Line2D at 0x7678979fda80>,\n",
       " <matplotlib.lines.Line2D at 0x7678979fdb70>,\n",
       " <matplotlib.lines.Line2D at 0x7678979fdc60>,\n",
       " <matplotlib.lines.Line2D at 0x7678979fdd50>,\n",
       " <matplotlib.lines.Line2D at 0x7678979fde40>,\n",
       " <matplotlib.lines.Line2D at 0x7678979fdf30>,\n",
       " <matplotlib.lines.Line2D at 0x7678979fe020>,\n",
       " <matplotlib.lines.Line2D at 0x7678979fe110>,\n",
       " <matplotlib.lines.Line2D at 0x7678979fe200>,\n",
       " <matplotlib.lines.Line2D at 0x7678979fe2f0>,\n",
       " <matplotlib.lines.Line2D at 0x7678979fe3e0>,\n",
       " <matplotlib.lines.Line2D at 0x7678979fe4d0>,\n",
       " <matplotlib.lines.Line2D at 0x7678979fe5c0>,\n",
       " <matplotlib.lines.Line2D at 0x7678979fe6b0>,\n",
       " <matplotlib.lines.Line2D at 0x7678979fe7a0>,\n",
       " <matplotlib.lines.Line2D at 0x7678979fe890>,\n",
       " <matplotlib.lines.Line2D at 0x7678979fe980>,\n",
       " <matplotlib.lines.Line2D at 0x7678979fea70>,\n",
       " <matplotlib.lines.Line2D at 0x7678979feb60>,\n",
       " <matplotlib.lines.Line2D at 0x7678979fec50>,\n",
       " <matplotlib.lines.Line2D at 0x7678979fed40>,\n",
       " <matplotlib.lines.Line2D at 0x7678979fee30>,\n",
       " <matplotlib.lines.Line2D at 0x7678979fef20>,\n",
       " <matplotlib.lines.Line2D at 0x7678979ff010>,\n",
       " <matplotlib.lines.Line2D at 0x7678979ff100>,\n",
       " <matplotlib.lines.Line2D at 0x7678979ff1f0>,\n",
       " <matplotlib.lines.Line2D at 0x7678979ff2e0>,\n",
       " <matplotlib.lines.Line2D at 0x7678979ff3d0>,\n",
       " <matplotlib.lines.Line2D at 0x7678979ff4c0>,\n",
       " <matplotlib.lines.Line2D at 0x7678979ff5b0>,\n",
       " <matplotlib.lines.Line2D at 0x7678979ff6a0>,\n",
       " <matplotlib.lines.Line2D at 0x7678979ff790>,\n",
       " <matplotlib.lines.Line2D at 0x7678979ff880>,\n",
       " <matplotlib.lines.Line2D at 0x7678979ff970>,\n",
       " <matplotlib.lines.Line2D at 0x7678979ffa60>,\n",
       " <matplotlib.lines.Line2D at 0x7678979ffb50>,\n",
       " <matplotlib.lines.Line2D at 0x7678979ffc40>,\n",
       " <matplotlib.lines.Line2D at 0x7678979ffd30>,\n",
       " <matplotlib.lines.Line2D at 0x7678979ffe20>,\n",
       " <matplotlib.lines.Line2D at 0x7678979fff10>,\n",
       " <matplotlib.lines.Line2D at 0x7678979fc130>,\n",
       " <matplotlib.lines.Line2D at 0x7678979fffd0>,\n",
       " <matplotlib.lines.Line2D at 0x767844504220>,\n",
       " <matplotlib.lines.Line2D at 0x767844504310>,\n",
       " <matplotlib.lines.Line2D at 0x767844504400>,\n",
       " <matplotlib.lines.Line2D at 0x7678445044f0>,\n",
       " <matplotlib.lines.Line2D at 0x7678445045e0>,\n",
       " <matplotlib.lines.Line2D at 0x7678445046d0>,\n",
       " <matplotlib.lines.Line2D at 0x7678445047c0>,\n",
       " <matplotlib.lines.Line2D at 0x7678445048b0>,\n",
       " <matplotlib.lines.Line2D at 0x7678445049a0>,\n",
       " <matplotlib.lines.Line2D at 0x767844504a90>,\n",
       " <matplotlib.lines.Line2D at 0x767844504b80>,\n",
       " <matplotlib.lines.Line2D at 0x767844504c70>,\n",
       " <matplotlib.lines.Line2D at 0x767844504d60>,\n",
       " <matplotlib.lines.Line2D at 0x767844504e50>,\n",
       " <matplotlib.lines.Line2D at 0x767844504f40>,\n",
       " <matplotlib.lines.Line2D at 0x767844505030>,\n",
       " <matplotlib.lines.Line2D at 0x767844505120>,\n",
       " <matplotlib.lines.Line2D at 0x767844505210>,\n",
       " <matplotlib.lines.Line2D at 0x767844505300>,\n",
       " <matplotlib.lines.Line2D at 0x7678445053f0>,\n",
       " <matplotlib.lines.Line2D at 0x7678445054e0>,\n",
       " <matplotlib.lines.Line2D at 0x7678445055d0>,\n",
       " <matplotlib.lines.Line2D at 0x7678445056c0>,\n",
       " <matplotlib.lines.Line2D at 0x7678445057b0>,\n",
       " <matplotlib.lines.Line2D at 0x7678445058a0>,\n",
       " <matplotlib.lines.Line2D at 0x767844505990>,\n",
       " <matplotlib.lines.Line2D at 0x767844505a80>,\n",
       " <matplotlib.lines.Line2D at 0x767844505b70>,\n",
       " <matplotlib.lines.Line2D at 0x767844505c60>,\n",
       " <matplotlib.lines.Line2D at 0x767844505d50>,\n",
       " <matplotlib.lines.Line2D at 0x767844505e40>,\n",
       " <matplotlib.lines.Line2D at 0x767844505f30>,\n",
       " <matplotlib.lines.Line2D at 0x767844506020>,\n",
       " <matplotlib.lines.Line2D at 0x767844506110>,\n",
       " <matplotlib.lines.Line2D at 0x767844506200>,\n",
       " <matplotlib.lines.Line2D at 0x7678445062f0>,\n",
       " <matplotlib.lines.Line2D at 0x7678445063e0>,\n",
       " <matplotlib.lines.Line2D at 0x7678445064d0>,\n",
       " <matplotlib.lines.Line2D at 0x7678445065c0>,\n",
       " <matplotlib.lines.Line2D at 0x7678445066b0>,\n",
       " <matplotlib.lines.Line2D at 0x7678445067a0>,\n",
       " <matplotlib.lines.Line2D at 0x767844506890>,\n",
       " <matplotlib.lines.Line2D at 0x767844506980>,\n",
       " <matplotlib.lines.Line2D at 0x767844506a70>,\n",
       " <matplotlib.lines.Line2D at 0x767844506b60>,\n",
       " <matplotlib.lines.Line2D at 0x767844506c50>,\n",
       " <matplotlib.lines.Line2D at 0x767844506d40>,\n",
       " <matplotlib.lines.Line2D at 0x767844506e30>,\n",
       " <matplotlib.lines.Line2D at 0x767844506f20>,\n",
       " <matplotlib.lines.Line2D at 0x767844507010>,\n",
       " <matplotlib.lines.Line2D at 0x767844507100>,\n",
       " <matplotlib.lines.Line2D at 0x7678445071f0>,\n",
       " <matplotlib.lines.Line2D at 0x7678445072e0>,\n",
       " <matplotlib.lines.Line2D at 0x7678445073d0>,\n",
       " <matplotlib.lines.Line2D at 0x7678445074c0>,\n",
       " <matplotlib.lines.Line2D at 0x7678445075b0>,\n",
       " <matplotlib.lines.Line2D at 0x7678445076a0>,\n",
       " <matplotlib.lines.Line2D at 0x767844507790>,\n",
       " <matplotlib.lines.Line2D at 0x767844507880>,\n",
       " <matplotlib.lines.Line2D at 0x767844507970>,\n",
       " <matplotlib.lines.Line2D at 0x767844507a60>,\n",
       " <matplotlib.lines.Line2D at 0x767844507b50>,\n",
       " <matplotlib.lines.Line2D at 0x767844507c40>,\n",
       " <matplotlib.lines.Line2D at 0x767844507d30>,\n",
       " <matplotlib.lines.Line2D at 0x767844507e20>,\n",
       " <matplotlib.lines.Line2D at 0x767844507f10>,\n",
       " <matplotlib.lines.Line2D at 0x767844504130>,\n",
       " <matplotlib.lines.Line2D at 0x767844507fd0>,\n",
       " <matplotlib.lines.Line2D at 0x767844510220>,\n",
       " <matplotlib.lines.Line2D at 0x767844510310>,\n",
       " <matplotlib.lines.Line2D at 0x767844510400>,\n",
       " <matplotlib.lines.Line2D at 0x7678445104f0>,\n",
       " <matplotlib.lines.Line2D at 0x7678445105e0>,\n",
       " <matplotlib.lines.Line2D at 0x7678445106d0>,\n",
       " <matplotlib.lines.Line2D at 0x7678445107c0>,\n",
       " <matplotlib.lines.Line2D at 0x7678445108b0>,\n",
       " <matplotlib.lines.Line2D at 0x7678445109a0>,\n",
       " <matplotlib.lines.Line2D at 0x767844510a90>,\n",
       " <matplotlib.lines.Line2D at 0x767844510b80>,\n",
       " <matplotlib.lines.Line2D at 0x767844510c70>,\n",
       " <matplotlib.lines.Line2D at 0x767844510d60>,\n",
       " <matplotlib.lines.Line2D at 0x767844510e50>,\n",
       " <matplotlib.lines.Line2D at 0x767844510f40>,\n",
       " <matplotlib.lines.Line2D at 0x767844511030>,\n",
       " <matplotlib.lines.Line2D at 0x767844511120>,\n",
       " <matplotlib.lines.Line2D at 0x767844511210>,\n",
       " <matplotlib.lines.Line2D at 0x767844511300>,\n",
       " <matplotlib.lines.Line2D at 0x7678445113f0>,\n",
       " <matplotlib.lines.Line2D at 0x7678445114e0>,\n",
       " <matplotlib.lines.Line2D at 0x7678445115d0>,\n",
       " <matplotlib.lines.Line2D at 0x7678445116c0>,\n",
       " <matplotlib.lines.Line2D at 0x7678445117b0>,\n",
       " <matplotlib.lines.Line2D at 0x7678445118a0>,\n",
       " <matplotlib.lines.Line2D at 0x767844511990>,\n",
       " <matplotlib.lines.Line2D at 0x767844511a80>,\n",
       " <matplotlib.lines.Line2D at 0x767844511b70>,\n",
       " <matplotlib.lines.Line2D at 0x767844511c60>,\n",
       " <matplotlib.lines.Line2D at 0x767844511d50>,\n",
       " <matplotlib.lines.Line2D at 0x767844511e40>,\n",
       " <matplotlib.lines.Line2D at 0x767844511f30>,\n",
       " <matplotlib.lines.Line2D at 0x767844512020>,\n",
       " <matplotlib.lines.Line2D at 0x767844512110>,\n",
       " <matplotlib.lines.Line2D at 0x767844512200>,\n",
       " <matplotlib.lines.Line2D at 0x7678445122f0>,\n",
       " <matplotlib.lines.Line2D at 0x7678445123e0>,\n",
       " <matplotlib.lines.Line2D at 0x7678445124d0>,\n",
       " <matplotlib.lines.Line2D at 0x7678445125c0>,\n",
       " <matplotlib.lines.Line2D at 0x7678445126b0>,\n",
       " <matplotlib.lines.Line2D at 0x7678445127a0>,\n",
       " <matplotlib.lines.Line2D at 0x767844512890>,\n",
       " <matplotlib.lines.Line2D at 0x767844512980>,\n",
       " <matplotlib.lines.Line2D at 0x767844512a70>,\n",
       " <matplotlib.lines.Line2D at 0x767844512b60>,\n",
       " <matplotlib.lines.Line2D at 0x767844512c50>,\n",
       " <matplotlib.lines.Line2D at 0x767844512d40>,\n",
       " <matplotlib.lines.Line2D at 0x767844512e30>,\n",
       " <matplotlib.lines.Line2D at 0x767844512f20>,\n",
       " <matplotlib.lines.Line2D at 0x767844513010>,\n",
       " <matplotlib.lines.Line2D at 0x767844513100>,\n",
       " <matplotlib.lines.Line2D at 0x7678445131f0>,\n",
       " <matplotlib.lines.Line2D at 0x7678445132e0>,\n",
       " <matplotlib.lines.Line2D at 0x7678445133d0>,\n",
       " <matplotlib.lines.Line2D at 0x7678445134c0>,\n",
       " <matplotlib.lines.Line2D at 0x7678445135b0>,\n",
       " <matplotlib.lines.Line2D at 0x7678445136a0>,\n",
       " <matplotlib.lines.Line2D at 0x767844513790>,\n",
       " <matplotlib.lines.Line2D at 0x767844513880>,\n",
       " <matplotlib.lines.Line2D at 0x767844513970>,\n",
       " <matplotlib.lines.Line2D at 0x767844513a60>,\n",
       " <matplotlib.lines.Line2D at 0x767844513b50>,\n",
       " <matplotlib.lines.Line2D at 0x767844513c40>,\n",
       " <matplotlib.lines.Line2D at 0x767844513d30>,\n",
       " <matplotlib.lines.Line2D at 0x767844513e20>,\n",
       " <matplotlib.lines.Line2D at 0x767844513f10>,\n",
       " <matplotlib.lines.Line2D at 0x767844510130>,\n",
       " <matplotlib.lines.Line2D at 0x767844513fd0>,\n",
       " <matplotlib.lines.Line2D at 0x767844518220>,\n",
       " <matplotlib.lines.Line2D at 0x767844518310>,\n",
       " <matplotlib.lines.Line2D at 0x767844518400>,\n",
       " <matplotlib.lines.Line2D at 0x7678445184f0>,\n",
       " <matplotlib.lines.Line2D at 0x7678445185e0>,\n",
       " <matplotlib.lines.Line2D at 0x7678445186d0>,\n",
       " <matplotlib.lines.Line2D at 0x7678445187c0>,\n",
       " <matplotlib.lines.Line2D at 0x7678445188b0>,\n",
       " <matplotlib.lines.Line2D at 0x7678445189a0>,\n",
       " <matplotlib.lines.Line2D at 0x767844518a90>,\n",
       " <matplotlib.lines.Line2D at 0x767844518b80>,\n",
       " <matplotlib.lines.Line2D at 0x767844518c70>,\n",
       " <matplotlib.lines.Line2D at 0x767844518d60>,\n",
       " <matplotlib.lines.Line2D at 0x767844518e50>,\n",
       " <matplotlib.lines.Line2D at 0x767844518f40>,\n",
       " <matplotlib.lines.Line2D at 0x767844519030>,\n",
       " <matplotlib.lines.Line2D at 0x767844519120>,\n",
       " <matplotlib.lines.Line2D at 0x767844519210>,\n",
       " <matplotlib.lines.Line2D at 0x767844519300>,\n",
       " <matplotlib.lines.Line2D at 0x7678445193f0>,\n",
       " <matplotlib.lines.Line2D at 0x7678445194e0>,\n",
       " <matplotlib.lines.Line2D at 0x7678445195d0>,\n",
       " <matplotlib.lines.Line2D at 0x7678445196c0>,\n",
       " <matplotlib.lines.Line2D at 0x7678445197b0>,\n",
       " <matplotlib.lines.Line2D at 0x7678445198a0>,\n",
       " <matplotlib.lines.Line2D at 0x767844519990>,\n",
       " <matplotlib.lines.Line2D at 0x767844519a80>,\n",
       " <matplotlib.lines.Line2D at 0x767844519b70>,\n",
       " <matplotlib.lines.Line2D at 0x767844519c60>,\n",
       " <matplotlib.lines.Line2D at 0x767844519d50>,\n",
       " <matplotlib.lines.Line2D at 0x767844519e40>,\n",
       " <matplotlib.lines.Line2D at 0x767844519f30>,\n",
       " <matplotlib.lines.Line2D at 0x76784451a020>,\n",
       " <matplotlib.lines.Line2D at 0x76784451a110>,\n",
       " <matplotlib.lines.Line2D at 0x76784451a200>,\n",
       " <matplotlib.lines.Line2D at 0x76784451a2f0>,\n",
       " <matplotlib.lines.Line2D at 0x76784451a3e0>,\n",
       " <matplotlib.lines.Line2D at 0x76784451a4d0>,\n",
       " <matplotlib.lines.Line2D at 0x76784451a5c0>,\n",
       " <matplotlib.lines.Line2D at 0x76784451a6b0>,\n",
       " <matplotlib.lines.Line2D at 0x76784451a7a0>,\n",
       " <matplotlib.lines.Line2D at 0x76784451a890>,\n",
       " <matplotlib.lines.Line2D at 0x76784451a980>,\n",
       " <matplotlib.lines.Line2D at 0x76784451aa70>,\n",
       " <matplotlib.lines.Line2D at 0x76784451ab60>,\n",
       " <matplotlib.lines.Line2D at 0x76784451ac50>,\n",
       " <matplotlib.lines.Line2D at 0x76784451ad40>,\n",
       " <matplotlib.lines.Line2D at 0x76784451ae30>,\n",
       " <matplotlib.lines.Line2D at 0x76784451af20>,\n",
       " <matplotlib.lines.Line2D at 0x76784451b010>,\n",
       " <matplotlib.lines.Line2D at 0x76784451b100>,\n",
       " <matplotlib.lines.Line2D at 0x76784451b1f0>,\n",
       " <matplotlib.lines.Line2D at 0x76784451b2e0>,\n",
       " <matplotlib.lines.Line2D at 0x76784451b3d0>,\n",
       " <matplotlib.lines.Line2D at 0x76784451b4c0>,\n",
       " <matplotlib.lines.Line2D at 0x76784451b5b0>,\n",
       " <matplotlib.lines.Line2D at 0x76784451b6a0>,\n",
       " <matplotlib.lines.Line2D at 0x76784451b790>,\n",
       " <matplotlib.lines.Line2D at 0x76784451b880>,\n",
       " <matplotlib.lines.Line2D at 0x76784451b970>,\n",
       " <matplotlib.lines.Line2D at 0x76784451ba60>,\n",
       " <matplotlib.lines.Line2D at 0x76784451bb50>,\n",
       " <matplotlib.lines.Line2D at 0x76784451bc40>,\n",
       " <matplotlib.lines.Line2D at 0x76784451bd30>,\n",
       " <matplotlib.lines.Line2D at 0x76784451be20>,\n",
       " <matplotlib.lines.Line2D at 0x76784451bf10>,\n",
       " <matplotlib.lines.Line2D at 0x767844518130>,\n",
       " <matplotlib.lines.Line2D at 0x76784451bfd0>,\n",
       " <matplotlib.lines.Line2D at 0x767844528220>,\n",
       " <matplotlib.lines.Line2D at 0x767844528310>,\n",
       " <matplotlib.lines.Line2D at 0x767844528400>,\n",
       " <matplotlib.lines.Line2D at 0x7678445284f0>,\n",
       " <matplotlib.lines.Line2D at 0x7678445285e0>,\n",
       " <matplotlib.lines.Line2D at 0x7678445286d0>,\n",
       " <matplotlib.lines.Line2D at 0x7678445287c0>,\n",
       " <matplotlib.lines.Line2D at 0x7678445288b0>,\n",
       " <matplotlib.lines.Line2D at 0x7678445289a0>,\n",
       " <matplotlib.lines.Line2D at 0x767844528a90>,\n",
       " <matplotlib.lines.Line2D at 0x767844528b80>,\n",
       " <matplotlib.lines.Line2D at 0x767844528c70>,\n",
       " <matplotlib.lines.Line2D at 0x767844528d60>,\n",
       " <matplotlib.lines.Line2D at 0x767844528e50>,\n",
       " <matplotlib.lines.Line2D at 0x767844528f40>,\n",
       " <matplotlib.lines.Line2D at 0x767844529030>,\n",
       " <matplotlib.lines.Line2D at 0x767844529120>,\n",
       " <matplotlib.lines.Line2D at 0x767844529210>,\n",
       " <matplotlib.lines.Line2D at 0x767844529300>,\n",
       " <matplotlib.lines.Line2D at 0x7678445293f0>,\n",
       " <matplotlib.lines.Line2D at 0x7678445294e0>,\n",
       " <matplotlib.lines.Line2D at 0x7678445295d0>,\n",
       " <matplotlib.lines.Line2D at 0x7678445296c0>,\n",
       " <matplotlib.lines.Line2D at 0x7678445297b0>,\n",
       " <matplotlib.lines.Line2D at 0x7678445298a0>,\n",
       " <matplotlib.lines.Line2D at 0x767844529990>,\n",
       " <matplotlib.lines.Line2D at 0x767844529a80>,\n",
       " <matplotlib.lines.Line2D at 0x767844529b70>,\n",
       " <matplotlib.lines.Line2D at 0x767844529c60>,\n",
       " <matplotlib.lines.Line2D at 0x767844529d50>,\n",
       " <matplotlib.lines.Line2D at 0x767844529e40>,\n",
       " <matplotlib.lines.Line2D at 0x767844529f30>,\n",
       " <matplotlib.lines.Line2D at 0x76784452a020>,\n",
       " <matplotlib.lines.Line2D at 0x76784452a110>,\n",
       " <matplotlib.lines.Line2D at 0x76784452a200>,\n",
       " <matplotlib.lines.Line2D at 0x76784452a2f0>,\n",
       " <matplotlib.lines.Line2D at 0x76784452a3e0>,\n",
       " <matplotlib.lines.Line2D at 0x76784452a4d0>,\n",
       " <matplotlib.lines.Line2D at 0x76784452a5c0>,\n",
       " <matplotlib.lines.Line2D at 0x76784452a6b0>,\n",
       " <matplotlib.lines.Line2D at 0x76784452a7a0>,\n",
       " <matplotlib.lines.Line2D at 0x76784452a890>,\n",
       " <matplotlib.lines.Line2D at 0x76784452a980>,\n",
       " <matplotlib.lines.Line2D at 0x76784452aa70>,\n",
       " <matplotlib.lines.Line2D at 0x76784452ab60>,\n",
       " <matplotlib.lines.Line2D at 0x76784452ac50>,\n",
       " <matplotlib.lines.Line2D at 0x76784452ad40>,\n",
       " <matplotlib.lines.Line2D at 0x76784452ae30>,\n",
       " <matplotlib.lines.Line2D at 0x76784452af20>,\n",
       " <matplotlib.lines.Line2D at 0x76784452b010>,\n",
       " <matplotlib.lines.Line2D at 0x76784452b100>,\n",
       " <matplotlib.lines.Line2D at 0x76784452b1f0>,\n",
       " <matplotlib.lines.Line2D at 0x76784452b2e0>,\n",
       " <matplotlib.lines.Line2D at 0x76784452b3d0>,\n",
       " <matplotlib.lines.Line2D at 0x76784452b4c0>,\n",
       " <matplotlib.lines.Line2D at 0x76784452b5b0>,\n",
       " <matplotlib.lines.Line2D at 0x76784452b6a0>,\n",
       " <matplotlib.lines.Line2D at 0x76784452b790>,\n",
       " <matplotlib.lines.Line2D at 0x76784452b880>,\n",
       " <matplotlib.lines.Line2D at 0x76784452b970>,\n",
       " <matplotlib.lines.Line2D at 0x76784452ba60>,\n",
       " <matplotlib.lines.Line2D at 0x76784452bb50>,\n",
       " <matplotlib.lines.Line2D at 0x76784452bc40>,\n",
       " <matplotlib.lines.Line2D at 0x76784452bd30>,\n",
       " <matplotlib.lines.Line2D at 0x76784452be20>,\n",
       " <matplotlib.lines.Line2D at 0x76784452bf10>,\n",
       " <matplotlib.lines.Line2D at 0x767844528130>,\n",
       " <matplotlib.lines.Line2D at 0x76784452bfd0>,\n",
       " <matplotlib.lines.Line2D at 0x767844538220>,\n",
       " <matplotlib.lines.Line2D at 0x767844538310>,\n",
       " <matplotlib.lines.Line2D at 0x767844538400>,\n",
       " <matplotlib.lines.Line2D at 0x7678445384f0>,\n",
       " <matplotlib.lines.Line2D at 0x7678445385e0>,\n",
       " <matplotlib.lines.Line2D at 0x7678445386d0>,\n",
       " <matplotlib.lines.Line2D at 0x7678445387c0>,\n",
       " <matplotlib.lines.Line2D at 0x7678445388b0>,\n",
       " <matplotlib.lines.Line2D at 0x7678445389a0>,\n",
       " <matplotlib.lines.Line2D at 0x767844538a90>,\n",
       " <matplotlib.lines.Line2D at 0x767844538b80>,\n",
       " <matplotlib.lines.Line2D at 0x767844538c70>,\n",
       " <matplotlib.lines.Line2D at 0x767844538d60>,\n",
       " <matplotlib.lines.Line2D at 0x767844538e50>,\n",
       " <matplotlib.lines.Line2D at 0x767844538f40>,\n",
       " <matplotlib.lines.Line2D at 0x767844539030>,\n",
       " <matplotlib.lines.Line2D at 0x767844539120>,\n",
       " <matplotlib.lines.Line2D at 0x767844539210>,\n",
       " <matplotlib.lines.Line2D at 0x767844539300>,\n",
       " <matplotlib.lines.Line2D at 0x7678445393f0>,\n",
       " <matplotlib.lines.Line2D at 0x7678445394e0>,\n",
       " <matplotlib.lines.Line2D at 0x7678445395d0>,\n",
       " <matplotlib.lines.Line2D at 0x7678445396c0>,\n",
       " <matplotlib.lines.Line2D at 0x7678445397b0>,\n",
       " <matplotlib.lines.Line2D at 0x7678445398a0>,\n",
       " <matplotlib.lines.Line2D at 0x767844539990>,\n",
       " <matplotlib.lines.Line2D at 0x767844539a80>,\n",
       " <matplotlib.lines.Line2D at 0x767844539b70>,\n",
       " <matplotlib.lines.Line2D at 0x767844539c60>,\n",
       " <matplotlib.lines.Line2D at 0x767844539d50>,\n",
       " <matplotlib.lines.Line2D at 0x767844539e40>,\n",
       " <matplotlib.lines.Line2D at 0x767844539f30>,\n",
       " <matplotlib.lines.Line2D at 0x76784453a020>,\n",
       " <matplotlib.lines.Line2D at 0x76784453a110>,\n",
       " <matplotlib.lines.Line2D at 0x76784453a200>,\n",
       " <matplotlib.lines.Line2D at 0x76784453a2f0>,\n",
       " <matplotlib.lines.Line2D at 0x76784453a3e0>,\n",
       " <matplotlib.lines.Line2D at 0x76784453a4d0>,\n",
       " <matplotlib.lines.Line2D at 0x76784453a5c0>,\n",
       " <matplotlib.lines.Line2D at 0x76784453a6b0>,\n",
       " <matplotlib.lines.Line2D at 0x76784453a7a0>,\n",
       " <matplotlib.lines.Line2D at 0x76784453a890>,\n",
       " <matplotlib.lines.Line2D at 0x76784453a980>,\n",
       " <matplotlib.lines.Line2D at 0x76784453aa70>,\n",
       " <matplotlib.lines.Line2D at 0x76784453ab60>,\n",
       " <matplotlib.lines.Line2D at 0x76784453ac50>,\n",
       " <matplotlib.lines.Line2D at 0x76784453ad40>,\n",
       " <matplotlib.lines.Line2D at 0x76784453ae30>,\n",
       " <matplotlib.lines.Line2D at 0x76784453af20>,\n",
       " <matplotlib.lines.Line2D at 0x76784453b010>,\n",
       " <matplotlib.lines.Line2D at 0x76784453b100>,\n",
       " <matplotlib.lines.Line2D at 0x76784453b1f0>,\n",
       " <matplotlib.lines.Line2D at 0x76784453b2e0>,\n",
       " <matplotlib.lines.Line2D at 0x76784453b3d0>,\n",
       " <matplotlib.lines.Line2D at 0x76784453b4c0>,\n",
       " <matplotlib.lines.Line2D at 0x76784453b5b0>,\n",
       " <matplotlib.lines.Line2D at 0x76784453b6a0>,\n",
       " <matplotlib.lines.Line2D at 0x76784453b790>,\n",
       " <matplotlib.lines.Line2D at 0x76784453b880>,\n",
       " <matplotlib.lines.Line2D at 0x76784453b970>,\n",
       " <matplotlib.lines.Line2D at 0x76784453ba60>,\n",
       " <matplotlib.lines.Line2D at 0x76784453bb50>,\n",
       " <matplotlib.lines.Line2D at 0x76784453bc40>,\n",
       " <matplotlib.lines.Line2D at 0x76784453bd30>,\n",
       " <matplotlib.lines.Line2D at 0x76784453be20>,\n",
       " <matplotlib.lines.Line2D at 0x76784453bf10>,\n",
       " <matplotlib.lines.Line2D at 0x767844538130>,\n",
       " <matplotlib.lines.Line2D at 0x76784453bfd0>,\n",
       " <matplotlib.lines.Line2D at 0x767844544220>,\n",
       " <matplotlib.lines.Line2D at 0x767844544310>,\n",
       " <matplotlib.lines.Line2D at 0x767844544400>,\n",
       " <matplotlib.lines.Line2D at 0x7678445444f0>,\n",
       " <matplotlib.lines.Line2D at 0x7678445445e0>,\n",
       " <matplotlib.lines.Line2D at 0x7678445446d0>,\n",
       " <matplotlib.lines.Line2D at 0x7678445447c0>]"
      ]
     },
     "execution_count": 304,
     "metadata": {},
     "output_type": "execute_result"
    },
    {
     "data": {
      "image/png": "[encoded data removed]",
      "text/plain": [
       "<Figure size 640x480 with 1 Axes>"
      ]
     },
     "metadata": {},
     "output_type": "display_data"
    }
   ],
   "source": [
    "plt.plot(torch.tensor(lossi).view(-1, 1000).mean(dim=0, keepdim=True))"
   ]
  },
  {
   "cell_type": "code",
   "execution_count": 305,
   "id": "8c6836ba-0a0f-45af-a841-cc9a9bfa6cc2",
   "metadata": {},
   "outputs": [
    {
     "data": {
      "text/plain": [
       "[<matplotlib.lines.Line2D at 0x76780b84f4f0>]"
      ]
     },
     "execution_count": 305,
     "metadata": {},
     "output_type": "execute_result"
    },
    {
     "data": {
      "image/png": "[encoded data removed]",
      "text/plain": [
       "<Figure size 640x480 with 1 Axes>"
      ]
     },
     "metadata": {},
     "output_type": "display_data"
    }
   ],
   "source": [
    "plt.plot(torch.tensor(lossi).view(-1, 1000).mean(dim=1, keepdim=True))"
   ]
  },
  {
   "cell_type": "code",
   "execution_count": 306,
   "id": "8db58a42-75f9-44a1-8c25-9960c8343a10",
   "metadata": {},
   "outputs": [],
   "source": [
    "for layer in model.layers:\n",
    "    layer.training = False"
   ]
  },
  {
   "cell_type": "code",
   "execution_count": 307,
   "id": "fcd0b81a-8dc5-4f3f-bb79-16d62a106218",
   "metadata": {},
   "outputs": [
    {
     "name": "stdout",
     "output_type": "stream",
     "text": [
      "train 1.8651373386383057\n",
      "val 2.241358995437622\n"
     ]
    }
   ],
   "source": [
    "#evaluate the loss\n",
    "@torch.no_grad()\n",
    "def split_loss(split):\n",
    "    x, y = {\n",
    "        'train': (Xtr, Ytr),\n",
    "        'val': (Xdev, Ydev),\n",
    "        'test': (Xte, Yte),\n",
    "    }[split]\n",
    "    #emb = C[x] #(N, block_size, n_embd)\n",
    "    #x = emb.view(emb.shape[0], -1) #concat into (N, block_size * n_embd)\n",
    "    #for layer in layers:\n",
    "    #    x = layer(x)\n",
    "    x = model(x)\n",
    "    loss = F.cross_entropy(x, y)\n",
    "    print(split, loss.item())\n",
    "\n",
    "split_loss('train')\n",
    "split_loss('val')"
   ]
  },
  {
   "cell_type": "markdown",
   "id": "49334e4d-c1c7-4df7-9202-62801a6d2eb7",
   "metadata": {},
   "source": [
    "### Performance Log:\n",
    "* original(3 character context + 200 hidden neurons, 12K params): train 2.01, val: 2.3\n",
    "* context: 3 -> 8 (22K params): train 1.86 and val 2.24\n",
    "* flat -> hierarchical(22K params): train 1.89 and val 2.25\n",
    "* batchnorm1d bug fix: train 1.86 and val 2.24"
   ]
  },
  {
   "cell_type": "code",
   "execution_count": 308,
   "id": "43921c79-be1b-4af8-95f1-f18178025ee9",
   "metadata": {},
   "outputs": [
    {
     "name": "stdout",
     "output_type": "stream",
     "text": [
      "lyren.\n",
      "cheson.\n",
      "brooklynn.\n",
      "hajayra.\n",
      "amilia.\n",
      "sarah.\n",
      "karine.\n",
      "baylan.\n",
      "reaghan.\n",
      "adalynn.\n",
      "asola.\n",
      "alliah.\n",
      "ezella.\n",
      "tykic.\n",
      "kayren.\n",
      "kyelen.\n",
      "sonavanna.\n",
      "mikar.\n",
      "kaysia.\n",
      "korrianva.\n"
     ]
    }
   ],
   "source": [
    "#sample from model\n",
    "\n",
    "for _ in range(20):#want to generate 20 samples\n",
    "\n",
    "    out = []\n",
    "    context = [0] * block_size #initialize with all ...\n",
    "    while True:\n",
    "        logits = model(torch.tensor(context).view(1,-1))\n",
    "        #logits = model(torch.tensor([context]))\n",
    "        probs = F.softmax(logits, dim=1)\n",
    "        #sample from the distribution\n",
    "        #print(probs)\n",
    "        ix = torch.multinomial(probs, num_samples=1).item()\n",
    "\n",
    "        #shift the context window and track the samples\n",
    "        context = context[1:] + [ix]\n",
    "        out.append(ix)\n",
    "        #if we sample the special '.' token, break\n",
    "        if ix == 0:\n",
    "            break\n",
    "\n",
    "    print(''.join(itoc[i] for i in out))\n",
    "        "
   ]
  },
  {
   "cell_type": "markdown",
   "id": "143e0a01-cd65-45a6-a390-b9c1c210cef0",
   "metadata": {},
   "source": [
    "Andrej ran this architecture with n_embd = 24 and n_hidden = 128 - with approximately 76K parameters and achieved a train loss = 1.77 and val loss of 1.99 - going below the barrier of 2.0 val loss!<br>\n",
    "Let's us also try the same (it might take lots of time - since, there are 76K parameters now)"
   ]
  },
  {
   "cell_type": "code",
   "execution_count": 309,
   "id": "44722fee-c6fa-4b52-a773-33b2ec23a5db",
   "metadata": {},
   "outputs": [
    {
     "name": "stdout",
     "output_type": "stream",
     "text": [
      "76579\n"
     ]
    }
   ],
   "source": [
    "n_embd = 24\n",
    "n_hidden = 128\n",
    "\n",
    "model = Sequential([\n",
    "    Embedding(vocab_size, n_embd),\n",
    "    FlattenConsecutive(2),Linear(n_embd*2, n_hidden, bias=False), BatchNorm1d(n_hidden), Tanh(),\n",
    "    FlattenConsecutive(2),Linear(n_hidden*2, n_hidden, bias=False), BatchNorm1d(n_hidden), Tanh(),\n",
    "    FlattenConsecutive(2),Linear(n_hidden*2, n_hidden, bias=False), BatchNorm1d(n_hidden), Tanh(),\n",
    "    Linear(n_hidden, vocab_size)\n",
    "])\n",
    "\n",
    "#parameter init\n",
    "with torch.no_grad():\n",
    "    model.layers[-1].weight *= 0.1\n",
    "\n",
    "parameters = model.parameters()\n",
    "print(sum(p.nelement() for p in parameters))\n",
    "\n",
    "####IMP STEP######\n",
    "for p in parameters:\n",
    "    p.requires_grad = True"
   ]
  },
  {
   "cell_type": "code",
   "execution_count": 310,
   "id": "65ff7739-6e48-4a26-a30f-0c44578a0fb1",
   "metadata": {},
   "outputs": [
    {
     "name": "stdout",
     "output_type": "stream",
     "text": [
      "      0/ 200000: 3.3003\n",
      "  10000/ 200000: 2.1435\n",
      "  20000/ 200000: 2.2487\n",
      "  30000/ 200000: 2.2027\n",
      "  40000/ 200000: 1.9483\n",
      "  50000/ 200000: 1.7465\n",
      "  60000/ 200000: 1.8596\n",
      "  70000/ 200000: 1.7386\n",
      "  80000/ 200000: 2.1052\n",
      "  90000/ 200000: 1.7629\n",
      " 100000/ 200000: 1.8437\n",
      " 110000/ 200000: 1.7471\n",
      " 120000/ 200000: 2.0115\n",
      " 130000/ 200000: 2.0634\n",
      " 140000/ 200000: 1.7503\n",
      " 150000/ 200000: 1.6282\n",
      " 160000/ 200000: 1.7994\n",
      " 170000/ 200000: 1.8925\n",
      " 180000/ 200000: 1.9256\n",
      " 190000/ 200000: 1.5035\n"
     ]
    }
   ],
   "source": [
    "epochs = 200000\n",
    "batch_size = 32\n",
    "lossi = []\n",
    "\n",
    "for i in range(epochs):\n",
    "    #minibatch construct\n",
    "    ix = torch.randint(0, Xtr.shape[0], (batch_size, ))\n",
    "    Xb = Xtr[ix]\n",
    "    yb = Ytr[ix]\n",
    "\n",
    "    logits = model(Xb)\n",
    "    loss = F.cross_entropy(logits, yb) #loss function\n",
    "\n",
    "    #backward pass\n",
    "    for p in parameters:\n",
    "        p.grad = None\n",
    "    loss.backward()\n",
    "\n",
    "    #update: simple SGD\n",
    "    lr = 0.1 if i < 150000 else 0.01 #step learning rate decay\n",
    "    for p in parameters:\n",
    "            p.data += -lr * p.grad\n",
    "\n",
    "    #track stats\n",
    "    if i%10000 == 0: #print every once in a while\n",
    "        print(f'{i:7d}/{epochs:7d}: {loss.item():.4f}')\n",
    "    lossi.append(loss.log10().item())\n",
    "\n",
    "    #break\n"
   ]
  },
  {
   "cell_type": "code",
   "execution_count": 311,
   "id": "a38a277b-2d58-4d8d-bf37-ed93d7f7914e",
   "metadata": {},
   "outputs": [
    {
     "data": {
      "text/plain": [
       "[<matplotlib.lines.Line2D at 0x76780ae424a0>]"
      ]
     },
     "execution_count": 311,
     "metadata": {},
     "output_type": "execute_result"
    },
    {
     "data": {
      "image/png": "[encoded data removed]",
      "text/plain": [
       "<Figure size 640x480 with 1 Axes>"
      ]
     },
     "metadata": {},
     "output_type": "display_data"
    }
   ],
   "source": [
    "plt.plot(torch.tensor(lossi).view(-1, 1000).mean(dim=1, keepdim=True))"
   ]
  },
  {
   "cell_type": "code",
   "execution_count": 312,
   "id": "c2080eee-8c69-4789-8d87-edbae7b855d5",
   "metadata": {},
   "outputs": [],
   "source": [
    "for layer in model.layers:\n",
    "    layer.training = False"
   ]
  },
  {
   "cell_type": "code",
   "execution_count": 313,
   "id": "63520917-b846-42bf-9617-4eeb825e5f00",
   "metadata": {},
   "outputs": [
    {
     "name": "stdout",
     "output_type": "stream",
     "text": [
      "train 1.7252774238586426\n",
      "val 2.234449625015259\n"
     ]
    }
   ],
   "source": [
    "#evaluate the loss\n",
    "@torch.no_grad()\n",
    "def split_loss(split):\n",
    "    x, y = {\n",
    "        'train': (Xtr, Ytr),\n",
    "        'val': (Xdev, Ydev),\n",
    "        'test': (Xte, Yte),\n",
    "    }[split]\n",
    "    #emb = C[x] #(N, block_size, n_embd)\n",
    "    #x = emb.view(emb.shape[0], -1) #concat into (N, block_size * n_embd)\n",
    "    #for layer in layers:\n",
    "    #    x = layer(x)\n",
    "    x = model(x)\n",
    "    loss = F.cross_entropy(x, y)\n",
    "    print(split, loss.item())\n",
    "\n",
    "split_loss('train')\n",
    "split_loss('val')"
   ]
  },
  {
   "cell_type": "markdown",
   "id": "8064628e-bd7a-4666-89c8-875a8f1aa3ea",
   "metadata": {},
   "source": [
    "### Performance Log:\n",
    "* original(3 character context + 200 hidden neurons, 12K params): train 2.01, val: 2.3\n",
    "* context: 3 -> 8 (22K params): train 1.86 and val 2.24\n",
    "* flat -> hierarchical(22K params): train 1.89 and val 2.25\n",
    "* batchnorm1d bug fix: train 1.86 and val 2.24\n",
    "* n_embd = 24, n_hidden = 128: train 1.72 and val 2.23"
   ]
  },
  {
   "cell_type": "code",
   "execution_count": 315,
   "id": "ffd3e224-da4c-4bd6-932f-d8d6f6d6e796",
   "metadata": {},
   "outputs": [
    {
     "name": "stdout",
     "output_type": "stream",
     "text": [
      "test 2.2856523990631104\n"
     ]
    }
   ],
   "source": [
    "split_loss('test')"
   ]
  },
  {
   "cell_type": "markdown",
   "id": "d35c18b0-8edb-43fe-8fab-00a817459825",
   "metadata": {},
   "source": [
    "LOL!!"
   ]
  },
  {
   "cell_type": "code",
   "execution_count": 314,
   "id": "e22567da-54ab-4694-b290-49501fc8ae2d",
   "metadata": {},
   "outputs": [
    {
     "name": "stdout",
     "output_type": "stream",
     "text": [
      "jainan.\n",
      "yashi.\n",
      "serenity.\n",
      "arabell.\n",
      "mailey.\n",
      "kenzleigh.\n",
      "anwale.\n",
      "adelyne.\n",
      "marvella.\n",
      "zyrah.\n",
      "john.\n",
      "aina.\n",
      "kyleah.\n",
      "essie.\n",
      "amala.\n",
      "maryel.\n",
      "camelea.\n",
      "erplee.\n",
      "liana.\n",
      "janiyla.\n"
     ]
    }
   ],
   "source": [
    "#sample from model\n",
    "\n",
    "for _ in range(20):#want to generate 20 samples\n",
    "\n",
    "    out = []\n",
    "    context = [0] * block_size #initialize with all ...\n",
    "    while True:\n",
    "        logits = model(torch.tensor(context).view(1,-1))\n",
    "        #logits = model(torch.tensor([context]))\n",
    "        probs = F.softmax(logits, dim=1)\n",
    "        #sample from the distribution\n",
    "        #print(probs)\n",
    "        ix = torch.multinomial(probs, num_samples=1).item()\n",
    "\n",
    "        #shift the context window and track the samples\n",
    "        context = context[1:] + [ix]\n",
    "        out.append(ix)\n",
    "        #if we sample the special '.' token, break\n",
    "        if ix == 0:\n",
    "            break\n",
    "\n",
    "    print(''.join(itoc[i] for i in out))\n",
    "        "
   ]
  },
  {
   "cell_type": "markdown",
   "id": "830afe7e-5a38-4e46-9618-6ae9a0eb31d2",
   "metadata": {},
   "source": [
    "With slow training (more parameters) we are out of experimental harness (being able to do multiple experiments and conclude better values for hyperparameters)!<br>\n",
    "\n",
    "We haven't exactly implemented WaveNet, but a small component of it!\n",
    "\n",
    "There's more to it - Residual and Skip connections wala full architecture!\n",
    "\n",
    "![title](img/wavenet2.png)"
   ]
  },
  {
   "cell_type": "markdown",
   "id": "b6ac543c-08cd-40ca-9606-bb703c4d74a5",
   "metadata": {},
   "source": [
    "## Step-by-Step Explanation of Dilated Convolutions in WaveNet\n",
    "\n",
    "### 1. Relation to Convolutional Neural Networks (CNNs)\n",
    "- Dilated convolutions, like those used in the **WaveNet** paper, relate to CNNs. \n",
    "- The key idea is that convolutions are used for **efficiency** and do not change the underlying model structure.\n",
    "\n",
    "### 2. Independent Examples\n",
    "- Consider the example of a name, \"DeAndre,\" which has 7 letters.\n",
    "- In the model, each letter is treated as an **independent example**. \n",
    "- Each row represents a separate example that the model processes one by one through forward passes (i.e., running inputs through the model to generate outputs).\n",
    "\n",
    "### 3. Shape and Batch Dimension\n",
    "- Inputs need to be formatted properly for model processing.\n",
    "- For example, a 1D array must be converted into a 2D array with a batch size of 1 to avoid errors during forward passes. \n",
    "- This adds a \"batch dimension\" to the input, which is required for efficient processing.\n",
    "\n",
    "### 4. For Loop Processing\n",
    "- If you want to process all letters at once (i.e., all independent examples), you could use a **for loop** to process each one sequentially.\n",
    "- However, this is inefficient as it involves making multiple independent calls to the model.\n",
    "\n",
    "### 5. Efficiency Through Convolutions\n",
    "- **Convolutions** allow us to avoid the for loop by **sliding a filter** over the input sequence. This greatly improves efficiency because:\n",
    "  1. The entire sequence (e.g., \"DeAndre\") is processed at once, instead of processing each letter individually.\n",
    "  2. The sliding operation happens inside optimized **CUDA kernels**, making the process faster and more efficient compared to processing in Python.\n",
    "\n",
    "### 6. Convolution as a Sliding Window\n",
    "- A convolution acts like a **sliding window**, moving across the input sequence (e.g., the letters of \"DeAndre\").\n",
    "- This sliding window calculates outputs for all positions simultaneously, making the computation efficient.\n",
    "\n",
    "### 7. Reusing Computation\n",
    "- Convolutions enable **reusing previously computed values**. \n",
    "- For example, a node in the model can be reused as the right child for one node and the left child for another. \n",
    "- This avoids the need to **recompute values**, reducing redundant operations and improving efficiency.\n",
    "\n",
    "### 8. Applying Filters\n",
    "- In convolutions, the linear layers (layers that perform computations) are treated as **filters**.\n",
    "- These filters are applied across the input sequence layer by layer, effectively sliding over the sequence.\n",
    "\n",
    "### 9. Efficient Layer Processing\n",
    "- Convolutions enable the efficient calculation of outputs for each layer:\n",
    "  1. First, the convolution processes the first layer of the network.\n",
    "  2. It then processes the second, third, and so on, until the output layer is reached.\n",
    "- The entire process is optimized and handled efficiently thanks to convolutions.\n",
    "\n",
    "### Summary\n",
    "- The primary benefit of using **dilated convolutions** is **efficient sequential processing**. \n",
    "- Instead of manually looping through the input, convolutions allow the model to slide over the input sequence, reuse computations, and perform multiple operations at once.\n",
    "- This structure is particularly beneficial for models like **WaveNet**, where long-range dependencies are crucial (e.g., for audio generation tasks).\n"
   ]
  },
  {
   "cell_type": "code",
   "execution_count": null,
   "id": "6ab55e4d-9c86-47cc-8d18-a65c303c151b",
   "metadata": {},
   "outputs": [],
   "source": []
  }
 ],
 "metadata": {
  "kernelspec": {
   "display_name": "Python 3 (ipykernel)",
   "language": "python",
   "name": "python3"
  },
  "language_info": {
   "codemirror_mode": {
    "name": "ipython",
    "version": 3
   },
   "file_extension": ".py",
   "mimetype": "text/x-python",
   "name": "python",
   "nbconvert_exporter": "python",
   "pygments_lexer": "ipython3",
   "version": "3.10.12"
  }
 },
 "nbformat": 4,
 "nbformat_minor": 5
}
